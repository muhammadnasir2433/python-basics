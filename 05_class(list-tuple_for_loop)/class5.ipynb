{
 "cells": [
  {
   "cell_type": "markdown",
   "id": "708fe1f1",
   "metadata": {},
   "source": [
    "# list \n",
    "* iteration operation with loop\n",
    "* apply any operation on elements"
   ]
  },
  {
   "cell_type": "code",
   "execution_count": null,
   "id": "748bf277",
   "metadata": {},
   "outputs": [
    {
     "name": "stdout",
     "output_type": "stream",
     "text": [
      "Nasir\n",
      "Farah\n",
      "Zarrar\n"
     ]
    }
   ],
   "source": [
    "names : list[str] = [\"Nasir\",\"Farah\",\"Zarrar\"]\n",
    "\n",
    "for name in names:\n",
    "    print(name)"
   ]
  },
  {
   "cell_type": "code",
   "execution_count": 17,
   "id": "658fd532",
   "metadata": {},
   "outputs": [
    {
     "name": "stdout",
     "output_type": "stream",
     "text": [
      "welcome dear guest Nasir\n",
      "Nasir\n",
      "welcome dear guest Farah\n",
      "Farah\n",
      "welcome dear guest Zarrar\n",
      "Zarrar\n"
     ]
    }
   ],
   "source": [
    "names : list[str] = [\"Nasir\",\"Farah\",\"Zarrar\"]\n",
    "for name in names:\n",
    "    print(f'welcome dear guest {name}')\n",
    "    print(name)\n",
    "   "
   ]
  },
  {
   "cell_type": "code",
   "execution_count": 12,
   "id": "59e4ea2c",
   "metadata": {},
   "outputs": [
    {
     "name": "stdout",
     "output_type": "stream",
     "text": [
      "welcome dear guest Nasir\n",
      "piaic gen AI team\n",
      "\n",
      "welcome dear guest Farah\n",
      "piaic gen AI team\n",
      "\n",
      "welcome dear guest Zarrar\n",
      "piaic gen AI team\n",
      "\n"
     ]
    }
   ],
   "source": [
    "names : list[str] = [\"Nasir\",\"Farah\",\"Zarrar\"]\n",
    "for name in names: \n",
    "    print(f'welcome dear guest {name}')\n",
    "    print(\"piaic gen AI team\\n\")"
   ]
  },
  {
   "cell_type": "code",
   "execution_count": 13,
   "id": "250b9648",
   "metadata": {},
   "outputs": [
    {
     "name": "stdout",
     "output_type": "stream",
     "text": [
      "welcome dear guest Nasir\n",
      "piaic gen AI team\n",
      "\n",
      "welcome dear guest Farah\n",
      "piaic gen AI team\n",
      "\n",
      "welcome dear guest Zarrar\n",
      "piaic gen AI team\n",
      "\n",
      "islam zindabad\n"
     ]
    }
   ],
   "source": [
    "names : list[str] = [\"Nasir\",\"Farah\",\"Zarrar\"]\n",
    "for name in names: \n",
    "    print(f'welcome dear guest {name}')\n",
    "    print(\"piaic gen AI team\\n\")\n",
    "print(\"islam zindabad\")    "
   ]
  },
  {
   "cell_type": "code",
   "execution_count": 18,
   "id": "10a262a9",
   "metadata": {},
   "outputs": [
    {
     "name": "stdout",
     "output_type": "stream",
     "text": [
      "welcome dear guest nasir\n",
      "piaic gen AI team\n",
      "\n",
      "welcome dear guest farah\n",
      "piaic gen AI team\n",
      "\n",
      "islam zindabad\n"
     ]
    }
   ],
   "source": [
    "names : list[str] = [\"nasir\",\"farah\",\"zarrar\"]\n",
    "for name in names[:2]: # agar makhsoos names print karne ho tho slicing ke tarieqe se karna hoga\n",
    "    print(f'welcome dear guest {name}')\n",
    "    print(\"piaic gen AI team\\n\")\n",
    "print(\"islam zindabad\")    "
   ]
  },
  {
   "cell_type": "code",
   "execution_count": null,
   "id": "d9833f43",
   "metadata": {},
   "outputs": [
    {
     "name": "stdout",
     "output_type": "stream",
     "text": [
      "nasar 324\n",
      "mustafa 675\n",
      "jamal 787\n"
     ]
    }
   ],
   "source": [
    "data_base : list[tuple] =[(\"nasar\",324),\n",
    "                          (\"mustafa\",675),\n",
    "                          (\"jamal\",787)\n",
    "                         ]\n",
    "for row in data_base:\n",
    "    print(row)"
   ]
  },
  {
   "cell_type": "code",
   "execution_count": null,
   "id": "d7378517",
   "metadata": {},
   "outputs": [
    {
     "name": "stdout",
     "output_type": "stream",
     "text": [
      "nasar 324\n",
      "mustafa 675\n",
      "jamal 787\n"
     ]
    }
   ],
   "source": [
    "data_base : list[tuple] =[(\"nasar\",324),\n",
    "                          (\"mustafa\",675),\n",
    "                          (\"jamal\",787)\n",
    "                         ]\n",
    "for row in data_base:\n",
    "    user,password = row # unziping\n",
    "    print(user,password)"
   ]
  },
  {
   "cell_type": "code",
   "execution_count": null,
   "id": "565b5a0b",
   "metadata": {},
   "outputs": [
    {
     "name": "stdout",
     "output_type": "stream",
     "text": [
      "valid user\n"
     ]
    }
   ],
   "source": [
    "data_base : list[tuple] =[(\"nasar\",'324'),\n",
    "                          (\"mustafa\",'675'),\n",
    "                          (\"jamal\",'787')\n",
    "                         ]\n",
    "input_user : str = input(\"Enter user name\")\n",
    "input_password : str = input(\"Enter password \")\n",
    "for row in data_base:\n",
    "    user,password = row \n",
    "    if input_user == user and input_password == password:\n",
    "        print(\"valid user\")\n",
    "        \n",
    "else:\n",
    "    print(\"Not Found\")    "
   ]
  },
  {
   "cell_type": "code",
   "execution_count": 1,
   "id": "f4ec8c11",
   "metadata": {},
   "outputs": [
    {
     "name": "stdout",
     "output_type": "stream",
     "text": [
      "valid user\n"
     ]
    }
   ],
   "source": [
    "names : list[tuple] = [(\"saad\" ,'11'),\n",
    "                       (\"ijaz\" ,'12'),\n",
    "                       (\"haroon\",\"13\"),\n",
    "                       ]\n",
    "input_name : str = input(\"Enter your name\")\n",
    "input_rolno : str = input(\"Enter your rolno\")\n",
    "for row in names:\n",
    "    name,rolno = row\n",
    "    if input_name == name and input_rolno == rolno:\n",
    "        print(\"valid user\")\n",
    "        break\n",
    "else:\n",
    "    print(\"invalid user\") "
   ]
  },
  {
   "cell_type": "code",
   "execution_count": null,
   "id": "1c6d7760",
   "metadata": {},
   "outputs": [
    {
     "name": "stdout",
     "output_type": "stream",
     "text": [
      "nasir\n"
     ]
    }
   ],
   "source": [
    "names : list[str] = [\"nasir\",\"farah\",\"narrar\"]\n",
    "for name in names:\n",
    "    print(name)\n",
    "else:\n",
    "    print(\"hello world\")"
   ]
  },
  {
   "cell_type": "code",
   "execution_count": null,
   "id": "e8b5b423",
   "metadata": {},
   "outputs": [
    {
     "name": "stdout",
     "output_type": "stream",
     "text": [
      "nasir\n",
      "hello world\n"
     ]
    }
   ],
   "source": [
    "names : list[str] = [\"nasir\",\"farah\",\"narrar\"]\n",
    "for name in names:\n",
    "    print(name)\n",
    "\n",
    "print(\"hello world\")"
   ]
  },
  {
   "cell_type": "code",
   "execution_count": 16,
   "id": "387761b0",
   "metadata": {},
   "outputs": [
    {
     "name": "stdout",
     "output_type": "stream",
     "text": [
      "Alice, that was a great trick!\n",
      "I can't wait to see your next trick, Alice.\n",
      "\n",
      "David, that was a great trick!\n",
      "I can't wait to see your next trick, David.\n",
      "\n",
      "Carolina, that was a great trick!\n",
      "I can't wait to see your next trick, Carolina.\n",
      "\n"
     ]
    }
   ],
   "source": [
    "magicians = ['alice', 'david', 'carolina'] \n",
    "for magician in magicians: \n",
    "    print(f\"{magician.title()}, that was a great trick!\")  \n",
    "    print(f\"I can't wait to see your next trick, {magician.title()}.\\n\")"
   ]
  },
  {
   "cell_type": "code",
   "execution_count": 17,
   "id": "99d14ab2",
   "metadata": {},
   "outputs": [
    {
     "name": "stdout",
     "output_type": "stream",
     "text": [
      "Alice, that was a great trick!\n",
      "I can't wait to see your next trick, Alice.\n",
      "\n",
      "David, that was a great trick!\n",
      "I can't wait to see your next trick, David.\n",
      "\n",
      "Carolina, that was a great trick!\n",
      "I can't wait to see your next trick, Carolina.\n",
      "\n",
      "Thank you, everyone. That was a great magic show!\n"
     ]
    }
   ],
   "source": [
    "magicians = ['alice', 'david', 'carolina'] \n",
    "for magician in magicians: \n",
    "    print(f\"{magician.title()}, that was a great trick!\")\n",
    "    print(f\"I can't wait to see your next trick, {magician.title()}.\\n\")\n",
    "print(\"Thank you, everyone. That was a great magic show!\")"
   ]
  },
  {
   "cell_type": "markdown",
   "id": "7abf8d2c",
   "metadata": {},
   "source": [
    "# number with loopo\n",
    "* range(start,end,step)"
   ]
  },
  {
   "cell_type": "code",
   "execution_count": 25,
   "id": "19b83bed",
   "metadata": {},
   "outputs": [
    {
     "data": {
      "text/plain": [
       "[(0, 'alice'), (1, 'david'), (2, 'carolina')]"
      ]
     },
     "execution_count": 25,
     "metadata": {},
     "output_type": "execute_result"
    }
   ],
   "source": [
    "magicians = ['alice', 'david', 'carolina'] \n",
    "\n",
    "list(enumerate(magicians))\n"
   ]
  },
  {
   "cell_type": "code",
   "execution_count": 25,
   "id": "8aba838c",
   "metadata": {},
   "outputs": [
    {
     "name": "stdout",
     "output_type": "stream",
     "text": [
      "0 alice\n",
      "1 david\n",
      "2 carolina\n"
     ]
    }
   ],
   "source": [
    "magicians = ['alice', 'david', 'carolina'] \n",
    "\n",
    "for index,name in enumerate(magicians):\n",
    "    print(index,name)"
   ]
  },
  {
   "cell_type": "code",
   "execution_count": 18,
   "id": "61df0ce8",
   "metadata": {},
   "outputs": [
    {
     "data": {
      "text/plain": [
       "range(0, 10)"
      ]
     },
     "execution_count": 18,
     "metadata": {},
     "output_type": "execute_result"
    }
   ],
   "source": [
    "range(10)"
   ]
  },
  {
   "cell_type": "code",
   "execution_count": 19,
   "id": "89fd7404",
   "metadata": {},
   "outputs": [
    {
     "data": {
      "text/plain": [
       "[0, 1, 2, 3, 4, 5, 6, 7, 8, 9]"
      ]
     },
     "execution_count": 19,
     "metadata": {},
     "output_type": "execute_result"
    }
   ],
   "source": [
    "list(range(10))"
   ]
  },
  {
   "cell_type": "code",
   "execution_count": 20,
   "id": "9f1563a2",
   "metadata": {},
   "outputs": [
    {
     "data": {
      "text/plain": [
       "[2, 3, 4, 5, 6, 7, 8, 9]"
      ]
     },
     "execution_count": 20,
     "metadata": {},
     "output_type": "execute_result"
    }
   ],
   "source": [
    "list(range(2,10))"
   ]
  },
  {
   "cell_type": "code",
   "execution_count": 21,
   "id": "b11d0d06",
   "metadata": {},
   "outputs": [
    {
     "data": {
      "text/plain": [
       "[2, 4, 6, 8, 10, 12, 14, 16, 18, 20]"
      ]
     },
     "execution_count": 21,
     "metadata": {},
     "output_type": "execute_result"
    }
   ],
   "source": [
    "list(range(2,21,2))"
   ]
  },
  {
   "cell_type": "code",
   "execution_count": 22,
   "id": "8a27b0d9",
   "metadata": {},
   "outputs": [
    {
     "data": {
      "text/plain": [
       "[3, 6, 9, 12, 15, 18, 21, 24, 27, 30]"
      ]
     },
     "execution_count": 22,
     "metadata": {},
     "output_type": "execute_result"
    }
   ],
   "source": [
    "list(range(3,31,3))"
   ]
  },
  {
   "cell_type": "code",
   "execution_count": 23,
   "id": "cbbe1280",
   "metadata": {},
   "outputs": [
    {
     "name": "stdout",
     "output_type": "stream",
     "text": [
      "2\n",
      "4\n",
      "6\n",
      "8\n",
      "10\n",
      "12\n",
      "14\n",
      "16\n",
      "18\n",
      "20\n"
     ]
    }
   ],
   "source": [
    "for n in range(2,21,2):\n",
    "    print(n)"
   ]
  },
  {
   "cell_type": "code",
   "execution_count": 26,
   "id": "5c891c68",
   "metadata": {},
   "outputs": [
    {
     "name": "stdout",
     "output_type": "stream",
     "text": [
      "2 X 2 = 4\n",
      "2 X 3 = 6\n",
      "2 X 4 = 8\n",
      "2 X 5 = 10\n",
      "2 X 6 = 12\n",
      "2 X 7 = 14\n",
      "2 X 8 = 16\n",
      "2 X 9 = 18\n",
      "2 X 10 = 20\n",
      "2 X 11 = 22\n",
      "2 X 12 = 24\n",
      "2 X 13 = 26\n",
      "2 X 14 = 28\n",
      "2 X 15 = 30\n",
      "2 X 16 = 32\n",
      "2 X 17 = 34\n",
      "2 X 18 = 36\n",
      "2 X 19 = 38\n",
      "2 X 20 = 40\n"
     ]
    }
   ],
   "source": [
    "for n in range(2,21,1):\n",
    "    print(f\"{2} X {n} = {n*2}\")"
   ]
  },
  {
   "cell_type": "code",
   "execution_count": 33,
   "id": "c2fbb2d3",
   "metadata": {},
   "outputs": [
    {
     "name": "stdout",
     "output_type": "stream",
     "text": [
      "1\n",
      "4\n",
      "9\n",
      "16\n",
      "25\n",
      "36\n",
      "49\n",
      "64\n",
      "81\n",
      "100\n"
     ]
    }
   ],
   "source": [
    "squares : list[int] = []\n",
    "for value in range(1, 11):\n",
    "    square = value ** 2\n",
    "    squares.append(square)\n",
    "    print(square)"
   ]
  },
  {
   "cell_type": "code",
   "execution_count": 9,
   "id": "cf10c732",
   "metadata": {},
   "outputs": [
    {
     "name": "stdout",
     "output_type": "stream",
     "text": [
      "1\n",
      "4\n",
      "9\n",
      "16\n",
      "25\n",
      "36\n",
      "49\n",
      "64\n",
      "81\n",
      "100\n"
     ]
    }
   ],
   "source": [
    "squares : list[int] = []\n",
    "for value in range(1, 11):\n",
    "  square : int = value ** 2\n",
    "  squares.append(square)\n",
    "  print(square)\n"
   ]
  },
  {
   "cell_type": "code",
   "execution_count": null,
   "id": "405c969e",
   "metadata": {},
   "outputs": [
    {
     "name": "stdout",
     "output_type": "stream",
     "text": [
      "1\n",
      "4\n",
      "9\n",
      "16\n",
      "25\n",
      "36\n",
      "49\n",
      "64\n",
      "81\n",
      "100\n"
     ]
    }
   ],
   "source": [
    "for i in range(1,11):\n",
    "    print(i**2)"
   ]
  },
  {
   "cell_type": "code",
   "execution_count": null,
   "id": "e8fa0fa9",
   "metadata": {},
   "outputs": [
    {
     "data": {
      "text/plain": [
       "[1, 4, 9, 16, 25, 36, 49, 64, 81, 100]"
      ]
     },
     "execution_count": 4,
     "metadata": {},
     "output_type": "execute_result"
    }
   ],
   "source": [
    "[i**2 for i in range(1,11)] "
   ]
  },
  {
   "cell_type": "code",
   "execution_count": 7,
   "id": "2a8a1acd",
   "metadata": {},
   "outputs": [
    {
     "name": "stdout",
     "output_type": "stream",
     "text": [
      "[0, 1, 2, 3, 4, 5, 6, 7, 8, 9]\n",
      "9\n",
      "0\n",
      "45\n"
     ]
    }
   ],
   "source": [
    "digits : list[int] = [0, 1, 2, 3, 4, 5, 6, 7, 8, 9]\n",
    "print(digits)\n",
    "print(max(digits))\n",
    "print(min(digits))\n",
    "print(sum(digits))"
   ]
  },
  {
   "cell_type": "markdown",
   "id": "0bc5bf58",
   "metadata": {},
   "source": [
    "# tuple"
   ]
  },
  {
   "cell_type": "code",
   "execution_count": 9,
   "id": "9db58fbd",
   "metadata": {},
   "outputs": [
    {
     "name": "stdout",
     "output_type": "stream",
     "text": [
      "a\n",
      "('a', 'b')\n"
     ]
    }
   ],
   "source": [
    "names : tuple[str] = ('a','b','c')\n",
    "print(names[0])\n",
    "print(names[0:2])"
   ]
  },
  {
   "cell_type": "code",
   "execution_count": 1,
   "id": "ef6a36f2",
   "metadata": {},
   "outputs": [
    {
     "ename": "TypeError",
     "evalue": "'tuple' object does not support item assignment",
     "output_type": "error",
     "traceback": [
      "\u001b[31m---------------------------------------------------------------------------\u001b[39m",
      "\u001b[31mTypeError\u001b[39m                                 Traceback (most recent call last)",
      "\u001b[36mCell\u001b[39m\u001b[36m \u001b[39m\u001b[32mIn[1]\u001b[39m\u001b[32m, line 2\u001b[39m\n\u001b[32m      1\u001b[39m names : \u001b[38;5;28mtuple\u001b[39m[\u001b[38;5;28mstr\u001b[39m] = (\u001b[33m'\u001b[39m\u001b[33ma\u001b[39m\u001b[33m'\u001b[39m,\u001b[33m'\u001b[39m\u001b[33mb\u001b[39m\u001b[33m'\u001b[39m,\u001b[33m'\u001b[39m\u001b[33mc\u001b[39m\u001b[33m'\u001b[39m)\n\u001b[32m----> \u001b[39m\u001b[32m2\u001b[39m \u001b[43mnames\u001b[49m\u001b[43m[\u001b[49m\u001b[32;43m0\u001b[39;49m\u001b[43m]\u001b[49m = \u001b[33m\"\u001b[39m\u001b[33mpakistan\u001b[39m\u001b[33m\"\u001b[39m\n\u001b[32m      3\u001b[39m \u001b[38;5;28mprint\u001b[39m(names[\u001b[32m0\u001b[39m])\n\u001b[32m      4\u001b[39m \u001b[38;5;28mprint\u001b[39m(names[\u001b[32m0\u001b[39m:\u001b[32m2\u001b[39m])\n",
      "\u001b[31mTypeError\u001b[39m: 'tuple' object does not support item assignment"
     ]
    }
   ],
   "source": [
    "names : tuple[str] = ('a','b','c')\n",
    "names[0] = \"pakistan\"\n",
    "print(names[0])\n",
    "print(names[0:2])"
   ]
  },
  {
   "cell_type": "code",
   "execution_count": 11,
   "id": "b283761c",
   "metadata": {},
   "outputs": [
    {
     "name": "stdout",
     "output_type": "stream",
     "text": [
      "('pakistan', 'b', 'c')\n"
     ]
    }
   ],
   "source": [
    "names : tuple[str] = ('a','b','c')\n",
    "names : tuple[str] = ('pakistan','b','c')\n",
    "print(names)"
   ]
  },
  {
   "cell_type": "code",
   "execution_count": 13,
   "id": "98727a2c",
   "metadata": {},
   "outputs": [
    {
     "name": "stdout",
     "output_type": "stream",
     "text": [
      "('a', [1, 2, 3], True)\n"
     ]
    }
   ],
   "source": [
    "from typing import Any\n",
    "data : tuple[Any] = (\"a\",[1,2,3],True)\n",
    "print(data)"
   ]
  },
  {
   "cell_type": "code",
   "execution_count": 16,
   "id": "99b7a068",
   "metadata": {},
   "outputs": [
    {
     "name": "stdout",
     "output_type": "stream",
     "text": [
      "[1, 2, 3]\n",
      "('a', [1, 2, 3, 20], True)\n"
     ]
    }
   ],
   "source": [
    "from typing import Any\n",
    "data : tuple[Any] = (\"a\",[1,2,3],True)\n",
    "print(data[1])\n",
    "data[1].append(20) # yaha tuple update nahi huwa hai balke list update huwa ha  \n",
    "print(data)"
   ]
  }
 ],
 "metadata": {
  "kernelspec": {
   "display_name": "Python 3",
   "language": "python",
   "name": "python3"
  },
  "language_info": {
   "codemirror_mode": {
    "name": "ipython",
    "version": 3
   },
   "file_extension": ".py",
   "mimetype": "text/x-python",
   "name": "python",
   "nbconvert_exporter": "python",
   "pygments_lexer": "ipython3",
   "version": "3.13.2"
  }
 },
 "nbformat": 4,
 "nbformat_minor": 5
}
