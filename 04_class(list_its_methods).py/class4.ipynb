{
 "cells": [
  {
   "cell_type": "code",
   "execution_count": 1,
   "id": "e6244286",
   "metadata": {},
   "outputs": [],
   "source": [
    "name1 : str = \"nasar\"\n",
    "name2 : str = \"mustafa\"\n",
    "name3 : str = \"jamal\""
   ]
  },
  {
   "cell_type": "markdown",
   "id": "48a544fb",
   "metadata": {},
   "source": [
    "# list\n",
    "* dynamic lenth\n",
    "* hetrogenous data type (multiple type)\n",
    "* index \n",
    "    * positive 0 to n-1\n",
    "    * negative -1 to lenth-\n",
    "* slicing\n",
    "    * start : int = include\n",
    "    * end : int = N-1\n",
    "    * step : int = seaquance\n"
   ]
  },
  {
   "cell_type": "code",
   "execution_count": 2,
   "id": "92829cbd",
   "metadata": {},
   "outputs": [
    {
     "name": "stdout",
     "output_type": "stream",
     "text": [
      "nasar\n",
      "nasar\n"
     ]
    }
   ],
   "source": [
    "#-->        0         1         2        3\n",
    "names = [\"nasar\", \"mustafa\", \"jamal\", \"habib\"]\n",
    "# <--     -4         -3         -2      -1\n",
    "print(names[0])\n",
    "print(names[-4])"
   ]
  },
  {
   "cell_type": "code",
   "execution_count": 3,
   "id": "06319294",
   "metadata": {},
   "outputs": [
    {
     "name": "stdout",
     "output_type": "stream",
     "text": [
      "founder of nextron MUSTAFA\n",
      "<class 'list'>\n",
      "<class 'str'>\n"
     ]
    }
   ],
   "source": [
    "#-->        0         1         2        3\n",
    "names : list[any] = [\"nasar\", \"mustafa\", \"jamal\", \"habib\"]\n",
    "# <--     -4         -3         -2      -1\n",
    "print(f\"founder of nextron {names[-3].upper()}\")\n",
    "print(type(names))\n",
    "print(type(names[-1]))"
   ]
  },
  {
   "cell_type": "code",
   "execution_count": 4,
   "id": "b6f74701",
   "metadata": {},
   "outputs": [
    {
     "name": "stdout",
     "output_type": "stream",
     "text": [
      "['A', 'B', 'C', 'D', 'E', 'F', 'G', 'H', 'I', 'J', 'K', 'L', 'M', 'N', 'O', 'P', 'Q', 'R', 'S', 'T', 'U', 'V', 'W', 'X', 'Y', 'Z']\n"
     ]
    }
   ],
   "source": [
    "characters : list[str] = list(\"ABCDEFGHIJKLMNOPQRSTUVWXYZ\")\n",
    "print(characters)"
   ]
  },
  {
   "cell_type": "code",
   "execution_count": 5,
   "id": "51b12cbd",
   "metadata": {},
   "outputs": [
    {
     "name": "stdout",
     "output_type": "stream",
     "text": [
      "['A', 'B']\n",
      "['A', 'B']\n",
      "['A', 'B']\n",
      "['A', 'B']\n",
      "['A', 'B']\n"
     ]
    }
   ],
   "source": [
    "# defualt slicing go from left to right \n",
    "characters : list[str] = ['A', 'B', 'C', 'D', 'E', 'F', 'G', 'H', 'I', 'J', 'K', 'L', 'M', 'N', 'O', 'P', 'Q', 'R', 'S', 'T', 'U', 'V', 'W', 'X', 'Y', 'Z']\n",
    "print(characters[0:2]) # 0 = include : 2-1 = 1\n",
    "print(characters[:2]) #not pass any number in start = all\n",
    "print(characters[-26:-24])\n",
    "print(characters[0:2:1]) \n",
    "print(characters[0:2:]) "
   ]
  },
  {
   "cell_type": "code",
   "execution_count": 6,
   "id": "0332cc1b",
   "metadata": {},
   "outputs": [
    {
     "name": "stdout",
     "output_type": "stream",
     "text": [
      "['A', 'B', 'C', 'D', 'E', 'F', 'G', 'H', 'I', 'J', 'K', 'L', 'M', 'N', 'O', 'P', 'Q', 'R', 'S', 'T', 'U', 'V', 'W', 'X', 'Y', 'Z']\n"
     ]
    }
   ],
   "source": [
    "characters : list[str] = ['A', 'B', 'C', 'D', 'E', 'F', 'G', 'H', 'I', 'J', 'K', 'L', 'M', 'N', 'O', 'P', 'Q', 'R', 'S', 'T', 'U', 'V', 'W', 'X', 'Y', 'Z']\n",
    "print(characters[::])"
   ]
  },
  {
   "cell_type": "code",
   "execution_count": 7,
   "id": "0f9b654b",
   "metadata": {},
   "outputs": [
    {
     "name": "stdout",
     "output_type": "stream",
     "text": [
      "['A', 'C', 'E', 'G', 'I', 'K', 'M', 'O', 'Q', 'S', 'U', 'W', 'Y']\n"
     ]
    }
   ],
   "source": [
    "characters : list[str] = ['A', 'B', 'C', 'D', 'E', 'F', 'G', 'H', 'I', 'J', 'K', 'L', 'M', 'N', 'O', 'P', 'Q', 'R', 'S', 'T', 'U', 'V', 'W', 'X', 'Y', 'Z']\n",
    "print(characters[ : : 2]) # seaquance"
   ]
  },
  {
   "cell_type": "code",
   "execution_count": 8,
   "id": "754bc949",
   "metadata": {},
   "outputs": [
    {
     "name": "stdout",
     "output_type": "stream",
     "text": [
      "['Z', 'Y', 'X', 'W', 'V', 'U', 'T', 'S', 'R', 'Q', 'P', 'O', 'N', 'M', 'L', 'K', 'J', 'I', 'H', 'G', 'F', 'E', 'D', 'C', 'B', 'A']\n"
     ]
    }
   ],
   "source": [
    "characters : list[str] = ['A', 'B', 'C', 'D', 'E', 'F', 'G', 'H', 'I', 'J', 'K', 'L', 'M', 'N', 'O', 'P', 'Q', 'R', 'S', 'T', 'U', 'V', 'W', 'X', 'Y', 'Z']\n",
    "print(characters[ : : -1]) # it will go reverse"
   ]
  },
  {
   "cell_type": "code",
   "execution_count": 9,
   "id": "3d8dd658",
   "metadata": {},
   "outputs": [
    {
     "name": "stdout",
     "output_type": "stream",
     "text": [
      "['B', 'C', 'D', 'E']\n"
     ]
    }
   ],
   "source": [
    "characters : list[str] = ['A', 'B', 'C', 'D', 'E', 'F', 'G', 'H']\n",
    "print(characters[1:-3])\n",
    "\n"
   ]
  },
  {
   "cell_type": "code",
   "execution_count": 10,
   "id": "5161d42f",
   "metadata": {},
   "outputs": [
    {
     "name": "stdout",
     "output_type": "stream",
     "text": [
      "[]\n"
     ]
    }
   ],
   "source": [
    "characters : list[str] = ['A', 'B', 'C', 'D', 'E', 'F', 'G', 'H']\n",
    "print(characters[-1:-5]) \n",
    "# slicing go from left to right \n",
    "\n"
   ]
  },
  {
   "cell_type": "code",
   "execution_count": 11,
   "id": "2f6911d8",
   "metadata": {},
   "outputs": [
    {
     "name": "stdout",
     "output_type": "stream",
     "text": [
      "['H', 'G', 'F', 'E']\n"
     ]
    }
   ],
   "source": [
    "characters : list[str] = ['A', 'B', 'C', 'D', 'E', 'F', 'G', 'H']\n",
    "print(characters[-1:-5:-1]) # reverse slicing ke liye step mai -1 add karna hoga"
   ]
  },
  {
   "cell_type": "markdown",
   "id": "47628e6c",
   "metadata": {},
   "source": [
    "# List methods"
   ]
  },
  {
   "cell_type": "code",
   "execution_count": 12,
   "id": "55f17e4d",
   "metadata": {},
   "outputs": [
    {
     "name": "stdout",
     "output_type": "stream",
     "text": [
      "['nasar', 'mustafa', 'jamal', 'habib']\n",
      "['zarrar', 'mustafa', 'jamal', 'habib']\n"
     ]
    }
   ],
   "source": [
    "#-->                   0         1         2        3\n",
    "names : list[any] = [\"nasar\", \"mustafa\", \"jamal\", \"habib\"]\n",
    "# <--     -4         -3         -2      -1\n",
    "print(names)\n",
    "names[0] = \"zarrar\"\n",
    "print(names)"
   ]
  },
  {
   "cell_type": "code",
   "execution_count": 13,
   "id": "777c4dd0",
   "metadata": {},
   "outputs": [
    {
     "name": "stdout",
     "output_type": "stream",
     "text": [
      "['nasar', 'mustafa', 'jamal', 'habib']\n",
      "['nasar', 'mustafa', 'jamal']\n"
     ]
    }
   ],
   "source": [
    "#-->                   0         1         2        3\n",
    "names : list[any] = [\"nasar\", \"mustafa\", \"jamal\", \"habib\"]\n",
    "# <--                 -4         -3         -2      -1\n",
    "print(names)\n",
    "del names[3]\n",
    "print(names)"
   ]
  },
  {
   "cell_type": "code",
   "execution_count": 14,
   "id": "d5069dfa",
   "metadata": {},
   "outputs": [
    {
     "data": {
      "text/plain": [
       "['append',\n",
       " 'clear',\n",
       " 'copy',\n",
       " 'count',\n",
       " 'extend',\n",
       " 'index',\n",
       " 'insert',\n",
       " 'pop',\n",
       " 'remove',\n",
       " 'reverse',\n",
       " 'sort']"
      ]
     },
     "execution_count": 14,
     "metadata": {},
     "output_type": "execute_result"
    }
   ],
   "source": [
    "[i for i in dir(list) if \"__\" not in i]"
   ]
  },
  {
   "cell_type": "markdown",
   "id": "0b38e232",
   "metadata": {},
   "source": [
    "# pop method"
   ]
  },
  {
   "cell_type": "code",
   "execution_count": 15,
   "id": "f559bf31",
   "metadata": {},
   "outputs": [
    {
     "name": "stdout",
     "output_type": "stream",
     "text": [
      "['nasar', 'mustafa', 'jamal', 'habib']\n",
      "habib\n",
      "['nasar', 'mustafa', 'jamal']\n"
     ]
    }
   ],
   "source": [
    "names : list[any] = [\"nasar\", \"mustafa\", \"jamal\", \"habib\"]\n",
    "print(names)\n",
    "a : str  = names.pop()\n",
    "print(a)\n",
    "print(names)"
   ]
  },
  {
   "cell_type": "code",
   "execution_count": 16,
   "id": "43370c86",
   "metadata": {},
   "outputs": [
    {
     "name": "stdout",
     "output_type": "stream",
     "text": [
      "['nasar', 'mustafa', 'jamal', 'habib']\n",
      "jamal\n",
      "['nasar', 'mustafa', 'habib']\n"
     ]
    }
   ],
   "source": [
    "names : list[any] = [\"nasar\", \"mustafa\", \"jamal\", \"habib\"]\n",
    "print(names)\n",
    "a : str  = names.pop(2)\n",
    "print(a)\n",
    "print(names)"
   ]
  },
  {
   "cell_type": "markdown",
   "id": "78ed4fcf",
   "metadata": {},
   "source": [
    "# Append method\n",
    "## append method add elements in last"
   ]
  },
  {
   "cell_type": "code",
   "execution_count": 17,
   "id": "bd9c153b",
   "metadata": {},
   "outputs": [
    {
     "name": "stdout",
     "output_type": "stream",
     "text": [
      "['nasar', 'mustafa', 'jamal']\n"
     ]
    }
   ],
   "source": [
    "names : list[str] = []\n",
    "names.append(\"nasar\")\n",
    "names.append(\"mustafa\")\n",
    "names.append(\"jamal\")\n",
    "print(names)"
   ]
  },
  {
   "cell_type": "code",
   "execution_count": 18,
   "id": "3924b5fb",
   "metadata": {},
   "outputs": [
    {
     "name": "stdout",
     "output_type": "stream",
     "text": [
      "['osama', 'ayaman', 'khalid']\n",
      "['osama', 'ayaman', 'khalid', 'hakeem ullah']\n"
     ]
    }
   ],
   "source": [
    "names : list[str] = [\"osama\",\"ayaman\",\"khalid\"]\n",
    "print(names)\n",
    "names.append(\"hakeem ullah\")\n",
    "print(names)"
   ]
  },
  {
   "cell_type": "markdown",
   "id": "5abfdec1",
   "metadata": {},
   "source": [
    "# insert method\n",
    "## insert on particular position"
   ]
  },
  {
   "cell_type": "code",
   "execution_count": 19,
   "id": "002f70a4",
   "metadata": {},
   "outputs": [
    {
     "name": "stdout",
     "output_type": "stream",
     "text": [
      "['a', 'b', 'c', 'd']\n",
      "['a', 'nasar', 'b', 'c', 'd']\n"
     ]
    }
   ],
   "source": [
    "names : list[str] = [\"a\",\"b\",\"c\",\"d\"]\n",
    "print(names)\n",
    "names.insert(1, \"nasar\")\n",
    "print(names)"
   ]
  },
  {
   "cell_type": "markdown",
   "id": "b32312cf",
   "metadata": {},
   "source": [
    "# clear method"
   ]
  },
  {
   "cell_type": "code",
   "execution_count": 20,
   "id": "5691781d",
   "metadata": {},
   "outputs": [
    {
     "ename": "NameError",
     "evalue": "name 'a' is not defined",
     "output_type": "error",
     "traceback": [
      "\u001b[31m---------------------------------------------------------------------------\u001b[39m",
      "\u001b[31mNameError\u001b[39m                                 Traceback (most recent call last)",
      "\u001b[36mCell\u001b[39m\u001b[36m \u001b[39m\u001b[32mIn[20]\u001b[39m\u001b[32m, line 3\u001b[39m\n\u001b[32m      1\u001b[39m a : \u001b[38;5;28mlist\u001b[39m[\u001b[38;5;28mstr\u001b[39m] = [\u001b[33m'\u001b[39m\u001b[33ma\u001b[39m\u001b[33m'\u001b[39m,\u001b[33m'\u001b[39m\u001b[33mb\u001b[39m\u001b[33m'\u001b[39m,\u001b[33m'\u001b[39m\u001b[33mc\u001b[39m\u001b[33m'\u001b[39m]\n\u001b[32m      2\u001b[39m \u001b[38;5;28;01mdel\u001b[39;00m a\n\u001b[32m----> \u001b[39m\u001b[32m3\u001b[39m \u001b[38;5;28mprint\u001b[39m(\u001b[43ma\u001b[49m) \u001b[38;5;66;03m# yaha  memory se object owr value bhi  \u001b[39;00m\n\u001b[32m      4\u001b[39m \u001b[38;5;66;03m# delete hone ki waja se kuch mil nahi raha is liye error de rahahai\u001b[39;00m\n\u001b[32m      5\u001b[39m \u001b[38;5;66;03m# tho agar ham sirf value remove karana chahte hai tho clear method use karenge\u001b[39;00m\n",
      "\u001b[31mNameError\u001b[39m: name 'a' is not defined"
     ]
    }
   ],
   "source": [
    "a : list[str] = ['a','b','c']\n",
    "del a\n",
    "print(a) # yaha  memory se object owr value bhi  \n",
    "# delete hone ki waja se kuch mil nahi raha is liye error de rahahai\n",
    "# tho agar ham sirf value remove karana chahte hai tho clear method use karenge"
   ]
  },
  {
   "cell_type": "code",
   "execution_count": null,
   "id": "28f460e6",
   "metadata": {},
   "outputs": [
    {
     "name": "stdout",
     "output_type": "stream",
     "text": [
      "[]\n"
     ]
    }
   ],
   "source": [
    "a : list[str] = ['a','b','c']\n",
    "a.clear()\n",
    "print(a)"
   ]
  },
  {
   "cell_type": "markdown",
   "id": "6fadc0e7",
   "metadata": {},
   "source": [
    "# copy method"
   ]
  },
  {
   "cell_type": "code",
   "execution_count": null,
   "id": "5032bdd0",
   "metadata": {},
   "outputs": [
    {
     "name": "stdout",
     "output_type": "stream",
     "text": [
      "['a', 'b', 'c']\n",
      "['a', 'b', 'c']\n"
     ]
    }
   ],
   "source": [
    "a : list[int] = ['a','b','c',]\n",
    "b = a \n",
    "\n",
    "print(a)\n",
    "print(b)"
   ]
  },
  {
   "cell_type": "code",
   "execution_count": null,
   "id": "5a262ec6",
   "metadata": {},
   "outputs": [
    {
     "name": "stdout",
     "output_type": "stream",
     "text": [
      "['a', 'b', 'c']\n",
      "['a', 'b', 'c']\n",
      "['khurasan', 'b', 'c']\n",
      "['khurasan', 'b', 'c']\n"
     ]
    }
   ],
   "source": [
    "a : list[int] = ['a','b','c',]\n",
    "b = a \n",
    "\n",
    "print(a)\n",
    "print(b) \n",
    "\n",
    "b[0] = 'khurasan' # change only b variable but both variable updated\n",
    "\n",
    "print(a)\n",
    "print(b) "
   ]
  },
  {
   "cell_type": "code",
   "execution_count": null,
   "id": "d2127b34",
   "metadata": {},
   "outputs": [
    {
     "name": "stdout",
     "output_type": "stream",
     "text": [
      "['a', 'b', 'c']\n",
      "['a', 'b', 'c']\n",
      "['a', 'b', 'c']\n",
      "['nasar', 'b', 'c']\n"
     ]
    }
   ],
   "source": [
    "a : list[int] = ['a','b','c',]\n",
    "b = a.copy() # deep copy\n",
    "\n",
    "print(a)\n",
    "print(b) \n",
    "\n",
    "b[0] = 'nasar' # change only b variable but both variable updated\n",
    "\n",
    "print(a)\n",
    "print(b) "
   ]
  },
  {
   "cell_type": "markdown",
   "id": "ab325b34",
   "metadata": {},
   "source": [
    "# count method"
   ]
  },
  {
   "cell_type": "code",
   "execution_count": 36,
   "id": "5c2da66c",
   "metadata": {},
   "outputs": [
    {
     "name": "stdout",
     "output_type": "stream",
     "text": [
      "3\n",
      "4\n"
     ]
    }
   ],
   "source": [
    "a : list[str] = ['a','a','a','a','d','c','c','c',]\n",
    "print(a.count('c'))\n",
    "print(a.count('a'))"
   ]
  },
  {
   "cell_type": "markdown",
   "id": "906cf932",
   "metadata": {},
   "source": [
    "# extend method"
   ]
  },
  {
   "cell_type": "code",
   "execution_count": null,
   "id": "e51de7d9",
   "metadata": {},
   "outputs": [
    {
     "data": {
      "text/plain": [
       "['Mustafa Tawab', 'Muhammad Nasir', ['jamal khan', 'minhas khan']]"
      ]
     },
     "execution_count": 37,
     "metadata": {},
     "output_type": "execute_result"
    }
   ],
   "source": [
    "names : list[str] = [\"Mustafa Tawab\",\"Muhammad Nasir\"] # founders of Nextron\n",
    "\n",
    "New_faculty_members : list[str] = [\"jamal khan\",\"minhas khan\"]\n",
    "\n",
    "names.append(New_faculty_members)# append ke saat as a list add hata hai na ke individualy index ke form se is se bachne ke liye ham istimal kartr hai Extend Method\n",
    "\n",
    "names"
   ]
  },
  {
   "cell_type": "code",
   "execution_count": null,
   "id": "707a0844",
   "metadata": {},
   "outputs": [
    {
     "name": "stdout",
     "output_type": "stream",
     "text": [
      "['Mustafa Tawab', 'Muhammad Nasir', 'jamal khan', 'minhas khan']\n"
     ]
    }
   ],
   "source": [
    "names : list[str] = [\"Mustafa Tawab\",\"Muhammad Nasir\"] # founders of Nextron\n",
    "\n",
    "New_faculty_members : list[str] = [\"jamal khan\",\"minhas khan\"]\n",
    "\n",
    "names.extend(New_faculty_members) # Extend se dusi list ke elements alag alag add ho jata hai pehle object mai\n",
    "\n",
    "print(names)"
   ]
  },
  {
   "cell_type": "markdown",
   "id": "ab37e48c",
   "metadata": {},
   "source": [
    "# remove method"
   ]
  },
  {
   "cell_type": "code",
   "execution_count": 40,
   "id": "30c000ca",
   "metadata": {},
   "outputs": [
    {
     "name": "stdout",
     "output_type": "stream",
     "text": [
      "['Mustafa Tawab', 'Muhammad Nasir', 'jamal khan']\n"
     ]
    }
   ],
   "source": [
    "names : list[str] = ['Mustafa Tawab', 'Muhammad Nasir', 'jamal khan', 'minhas khan']\n",
    "\n",
    "names.remove('minhas khan')\n",
    "print(names)"
   ]
  },
  {
   "cell_type": "markdown",
   "id": "d6143ac8",
   "metadata": {},
   "source": [
    "# index finder method"
   ]
  },
  {
   "cell_type": "code",
   "execution_count": null,
   "id": "e3ff4209",
   "metadata": {},
   "outputs": [
    {
     "data": {
      "text/plain": [
       "3"
      ]
     },
     "execution_count": 42,
     "metadata": {},
     "output_type": "execute_result"
    }
   ],
   "source": [
    "names : list[str] = ['Mustafa Tawab', 'Muhammad Nasir', 'jamal khan', 'minhas khan']\n",
    "\n",
    "names.index('minhas khan') # TIP agar koi naam do dafa ho tho ye hamesha first occerance wale ka finde kare ga\n"
   ]
  },
  {
   "cell_type": "code",
   "execution_count": null,
   "id": "c7abed40",
   "metadata": {},
   "outputs": [
    {
     "data": {
      "text/plain": [
       "4"
      ]
     },
     "execution_count": 45,
     "metadata": {},
     "output_type": "execute_result"
    }
   ],
   "source": [
    "names : list[str] = ['Mustafa Tawab', 'Muhammad Nasir', 'jamal khan', 'minhas khan','Mustafa Tawab']\n",
    "\n",
    "names.index('Mustafa Tawab') # agar pehle wale ke elawa search karan hai tho us se age wala index number sat lagawo\n"
   ]
  },
  {
   "cell_type": "markdown",
   "id": "69b6c9af",
   "metadata": {},
   "source": [
    "# reverse method"
   ]
  },
  {
   "cell_type": "code",
   "execution_count": null,
   "id": "8d8315ca",
   "metadata": {},
   "outputs": [
    {
     "name": "stdout",
     "output_type": "stream",
     "text": [
      "['Mustafa Tawab', 'Muhammad Nasir', 'jamal khan', 'minhas khan']\n",
      "['minhas khan', 'jamal khan', 'Muhammad Nasir', 'Mustafa Tawab']\n"
     ]
    }
   ],
   "source": [
    "names : list[str] = ['Mustafa Tawab', 'Muhammad Nasir', 'jamal khan', 'minhas khan']\n",
    "print(names)\n",
    "names.reverse() # in_memorey = change real data\n",
    "print(names)\n"
   ]
  },
  {
   "cell_type": "code",
   "execution_count": 47,
   "id": "32603c57",
   "metadata": {},
   "outputs": [
    {
     "name": "stdout",
     "output_type": "stream",
     "text": [
      "['A', 'B', 'C', 'D', 'E', 'F', 'G', 'S']\n"
     ]
    }
   ],
   "source": [
    "a : list[str] = list(\"ACBEFDSG\")\n",
    "a.sort()\n",
    "print(a)"
   ]
  },
  {
   "cell_type": "code",
   "execution_count": 1,
   "id": "dbef23e6",
   "metadata": {},
   "outputs": [
    {
     "name": "stdout",
     "output_type": "stream",
     "text": [
      "8\n"
     ]
    }
   ],
   "source": [
    "a : list[str] = list(\"ACBEFDSG\")\n",
    "print(len(a))"
   ]
  }
 ],
 "metadata": {
  "kernelspec": {
   "display_name": "Python 3",
   "language": "python",
   "name": "python3"
  },
  "language_info": {
   "codemirror_mode": {
    "name": "ipython",
    "version": 3
   },
   "file_extension": ".py",
   "mimetype": "text/x-python",
   "name": "python",
   "nbconvert_exporter": "python",
   "pygments_lexer": "ipython3",
   "version": "3.13.2"
  }
 },
 "nbformat": 4,
 "nbformat_minor": 5
}
