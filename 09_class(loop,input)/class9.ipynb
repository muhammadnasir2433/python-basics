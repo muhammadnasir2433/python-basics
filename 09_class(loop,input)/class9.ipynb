{
 "cells": [
  {
   "cell_type": "markdown",
   "id": "ea8a61a4",
   "metadata": {},
   "source": [
    "# loop and input from user\n",
    "* while loop\n",
    "* for loop\n",
    "* controls\n",
    "    * break\n",
    "    * continue\n",
    "    * pass\n",
    "* input with inoput function\n",
    "* input from console\n",
    "# loop work on iterative data types\n",
    "* list\n",
    "* Dict\n",
    "* Tuple\n",
    "* string"
   ]
  },
  {
   "cell_type": "code",
   "execution_count": 1,
   "id": "0dee58dd",
   "metadata": {},
   "outputs": [
    {
     "name": "stdout",
     "output_type": "stream",
     "text": [
      "[1, 2, 3, 4, 5, 6, 7]\n"
     ]
    }
   ],
   "source": [
    "l1 : list[int] = [1,2,3,4,5,6,7]\n",
    "print(l1)"
   ]
  },
  {
   "cell_type": "code",
   "execution_count": 2,
   "id": "cad1440f",
   "metadata": {},
   "outputs": [
    {
     "name": "stdout",
     "output_type": "stream",
     "text": [
      "1\n",
      "2\n",
      "3\n",
      "4\n",
      "5\n",
      "6\n",
      "7\n"
     ]
    }
   ],
   "source": [
    "l1 : list[int] = [1,2,3,4,5,6,7]\n",
    "\n",
    "for n in l1:\n",
    "    print(n)  "
   ]
  },
  {
   "cell_type": "code",
   "execution_count": 5,
   "id": "42a6dfcc",
   "metadata": {},
   "outputs": [
    {
     "name": "stdout",
     "output_type": "stream",
     "text": [
      "current number : 1\n",
      "current number : 2\n",
      "current number : 3\n",
      "current number : 4\n",
      "current number : 5\n",
      "current number : 6\n",
      "current number : 7\n"
     ]
    }
   ],
   "source": [
    "l1 : list[int] = [1,2,3,4,5,6,7]\n",
    "\n",
    "for n in l1:\n",
    "    print(f\"current number : {n}\")  "
   ]
  },
  {
   "cell_type": "code",
   "execution_count": 6,
   "id": "a816b130",
   "metadata": {},
   "outputs": [
    {
     "name": "stdout",
     "output_type": "stream",
     "text": [
      "current number : 1\n",
      "current number : 2\n",
      "current number : 3\n",
      "current number : 4\n",
      "current number : 5\n",
      "current number : 6\n",
      "current number : 7\n"
     ]
    }
   ],
   "source": [
    "l1 : tuple[int] = (1,2,3,4,5,6,7)\n",
    "\n",
    "for n in l1:\n",
    "    print(f\"current number : {n}\")  "
   ]
  },
  {
   "cell_type": "code",
   "execution_count": 25,
   "id": "72be9d68",
   "metadata": {},
   "outputs": [
    {
     "name": "stdout",
     "output_type": "stream",
     "text": [
      "dictionary key is Dname dictionary value is Farah\n",
      "dictionary key is Sname dictionary value is zarrar\n",
      "dictionary key is fname dictionary value is nasir\n"
     ]
    }
   ],
   "source": [
    "data : dict[str,str] = {\"Dname\":\"Farah\",\n",
    "                        'Sname': \"zarrar\",\n",
    "                        \"fname\": \"nasir\",\n",
    "                        }\n",
    "for k in data:\n",
    "    print(f\"dictionary key is {k} dictionary value is {data[k]}\")"
   ]
  },
  {
   "cell_type": "code",
   "execution_count": 39,
   "id": "83b0aa11",
   "metadata": {},
   "outputs": [
    {
     "name": "stdout",
     "output_type": "stream",
     "text": [
      "value from list of set 1\n",
      "value from list of set 2\n",
      "value from list of set 3\n",
      "value from list of set 4\n"
     ]
    }
   ],
   "source": [
    "l1 : set[int] = {1,2,3,1,1,1,1,1,4,4,4,4,}\n",
    "\n",
    "for k in l1:\n",
    "    print(f\"value from list of set {k}\")"
   ]
  },
  {
   "cell_type": "code",
   "execution_count": 41,
   "id": "aee93e1e",
   "metadata": {},
   "outputs": [
    {
     "name": "stdout",
     "output_type": "stream",
     "text": [
      "value from list of set 1\n",
      "value from list of set 2\n",
      "value from list of set 3\n",
      "value from list of set 4\n"
     ]
    }
   ],
   "source": [
    "l1 : list[set[int]] = list({1,2,3,1,1,1,1,1,4,4,4,4,})\n",
    "\n",
    "for k in l1:\n",
    "    print(f\"value from list of set {k}\")"
   ]
  },
  {
   "cell_type": "code",
   "execution_count": 42,
   "id": "f06e8bf5",
   "metadata": {},
   "outputs": [
    {
     "name": "stdout",
     "output_type": "stream",
     "text": [
      " current latter is p\n",
      " current latter is a\n",
      " current latter is k\n",
      " current latter is i\n",
      " current latter is s\n",
      " current latter is t\n",
      " current latter is a\n",
      " current latter is n\n"
     ]
    }
   ],
   "source": [
    "l1 : str = \"pakistan\"\n",
    "for n in l1:\n",
    "    print(f\" current latter is {n}\")"
   ]
  },
  {
   "cell_type": "markdown",
   "id": "35448a67",
   "metadata": {},
   "source": [
    "# input form user \n",
    "* input function\n",
    "    * default type = string\n",
    "* sys.argv(for console input in abc.py files)\n",
    "    * default type = object"
   ]
  },
  {
   "cell_type": "code",
   "execution_count": 1,
   "id": "fd7f1135",
   "metadata": {},
   "outputs": [
    {
     "name": "stdout",
     "output_type": "stream",
     "text": [
      "<class 'str'>\n",
      "welcome dear mr/miss sir ziya\n"
     ]
    }
   ],
   "source": [
    "name : str = input(\"what is your name? :\\t\")\n",
    "print(type(name))\n",
    "\n",
    "print(f\"welcome dear mr/miss {name}\")"
   ]
  },
  {
   "cell_type": "markdown",
   "id": "070427e9",
   "metadata": {},
   "source": [
    "# while loop\n",
    "```\n",
    "while logic : True/False\n",
    "    loop_body\n",
    "```"
   ]
  },
  {
   "cell_type": "code",
   "execution_count": 3,
   "id": "203c7007",
   "metadata": {},
   "outputs": [
    {
     "name": "stdout",
     "output_type": "stream",
     "text": [
      "current number is :0\n",
      "current number is :1\n",
      "current number is :2\n",
      "current number is :3\n",
      "current number is :4\n",
      "current number is :5\n",
      "current number is :6\n",
      "current number is :7\n",
      "current number is :8\n",
      "current number is :9\n"
     ]
    }
   ],
   "source": [
    "flag : bool = True\n",
    "current_number : int = 0\n",
    "while flag:\n",
    "    print(f\"current number is :{current_number}\")\n",
    "    current_number += 1\n",
    "    if current_number == 10:\n",
    "        break\n"
   ]
  },
  {
   "cell_type": "code",
   "execution_count": 40,
   "id": "edefbeaf",
   "metadata": {},
   "outputs": [
    {
     "name": "stdout",
     "output_type": "stream",
     "text": [
      "current number is :0\n",
      "current number is :1\n",
      "current number is :2\n",
      "current number is :3\n",
      "current number is :4\n",
      "current number is :5\n",
      "current number is :6\n",
      "current number is :7\n",
      "current number is :8\n",
      "current number is :9\n",
      "current number is :10\n"
     ]
    }
   ],
   "source": [
    "current_number : int = 0\n",
    "while current_number <=10:\n",
    "    print(f\"current number is :{current_number}\")\n",
    "    current_number += 1"
   ]
  },
  {
   "cell_type": "code",
   "execution_count": 4,
   "id": "9e61e22f",
   "metadata": {},
   "outputs": [
    {
     "name": "stdout",
     "output_type": "stream",
     "text": [
      "current index is :0 and list value is 100\n",
      "current index is :1 and list value is 200\n",
      "current index is :2 and list value is 300\n"
     ]
    }
   ],
   "source": [
    "l1 : list[int] = [100,200,300]\n",
    "index : int = 0\n",
    "\n",
    "while index < len(l1):\n",
    "    print(f\"current index is :{index} and list value is {l1[index]}\")\n",
    "    index += 1"
   ]
  },
  {
   "cell_type": "code",
   "execution_count": 12,
   "id": "eb788395",
   "metadata": {},
   "outputs": [
    {
     "name": "stdout",
     "output_type": "stream",
     "text": [
      "write quit or exit to stop this program\n",
      "[{'name': 'nasar', 'education': 'fsc'}]\n",
      "write quit or exit to stop this program\n"
     ]
    }
   ],
   "source": [
    "data : list[dict[str,str]] =[]\n",
    "flag : bool = True\n",
    "\n",
    "while flag:\n",
    "    print(\"write quit or exit to stop this program\")\n",
    "    \n",
    "    name : str = input(\"Write your name?\\t\")\n",
    "    education : str = input(\"Write your education?\\t\")\n",
    "\n",
    "    if name in [\"quit\",\"exit\",\"stop\",\"close\"] or education in [\"quit\",\"exit\",\"stop\",\"close\"]:\n",
    "        flag = False\n",
    "        break\n",
    "    data.append({\"name\": name,\n",
    "                \"education\": education })\n",
    "    print(data)"
   ]
  },
  {
   "cell_type": "markdown",
   "id": "fb376d02",
   "metadata": {},
   "source": [
    "# controls \n",
    "* break\n",
    "* continue\n",
    "    * skips on particuler spot\n",
    "* pass"
   ]
  },
  {
   "cell_type": "code",
   "execution_count": 14,
   "id": "c38312a2",
   "metadata": {},
   "outputs": [
    {
     "name": "stdout",
     "output_type": "stream",
     "text": [
      "1\n",
      "2\n",
      "3\n",
      "4\n",
      "5\n"
     ]
    }
   ],
   "source": [
    "for i in range(1,11):\n",
    "    print(i)\n",
    "    if i == 5:\n",
    "        break  "
   ]
  },
  {
   "cell_type": "code",
   "execution_count": 16,
   "id": "b81a6d9d",
   "metadata": {},
   "outputs": [
    {
     "name": "stdout",
     "output_type": "stream",
     "text": [
      "2 x 1 = 2\n"
     ]
    }
   ],
   "source": [
    "for i in range(1,11):\n",
    "    print(f\"2 x {i} = {i*2}\")\n",
    "    break\n",
    "   "
   ]
  },
  {
   "cell_type": "code",
   "execution_count": 17,
   "id": "748d564f",
   "metadata": {},
   "outputs": [
    {
     "name": "stdout",
     "output_type": "stream",
     "text": [
      "2 x 1 = 2\n",
      "2 x 2 = 4\n",
      "2 x 3 = 6\n",
      "2 x 4 = 8\n",
      "2 x 5 = 10\n",
      "2 x 6 = 12\n",
      "2 x 7 = 14\n",
      "2 x 8 = 16\n",
      "2 x 9 = 18\n",
      "2 x 10 = 20\n"
     ]
    }
   ],
   "source": [
    "for i in range(1,11):\n",
    "    print(f\"2 x {i} = {i*2}\")\n",
    "    "
   ]
  },
  {
   "cell_type": "code",
   "execution_count": null,
   "id": "25ed643a",
   "metadata": {},
   "outputs": [
    {
     "name": "stdout",
     "output_type": "stream",
     "text": [
      "1\n",
      "2\n",
      "3\n",
      "4\n",
      "6\n",
      "7\n",
      "8\n",
      "9\n",
      "10\n"
     ]
    }
   ],
   "source": [
    "for i in range(1,11):\n",
    "    if i == 5:\n",
    "        continue # skipping the iteration when i = to 5\n",
    "    print(i)"
   ]
  },
  {
   "cell_type": "code",
   "execution_count": 23,
   "id": "d55feba3",
   "metadata": {},
   "outputs": [
    {
     "ename": "_IncompleteInputError",
     "evalue": "incomplete input (2785888169.py, line 1)",
     "output_type": "error",
     "traceback": [
      "  \u001b[36mCell\u001b[39m\u001b[36m \u001b[39m\u001b[32mIn[23]\u001b[39m\u001b[32m, line 1\u001b[39m\n\u001b[31m    \u001b[39m\u001b[31mfor i in range (1,1000):\u001b[39m\n                            ^\n\u001b[31m_IncompleteInputError\u001b[39m\u001b[31m:\u001b[39m incomplete input\n"
     ]
    }
   ],
   "source": [
    "for i in range (1,1000):\n"
   ]
  },
  {
   "cell_type": "code",
   "execution_count": 24,
   "id": "1ebf13a3",
   "metadata": {},
   "outputs": [],
   "source": [
    "for i in range (1,1000):\n",
    "    pass"
   ]
  },
  {
   "cell_type": "code",
   "execution_count": 26,
   "id": "b4af1ff9",
   "metadata": {},
   "outputs": [
    {
     "name": "stdout",
     "output_type": "stream",
     "text": [
      "\n",
      "Hello,Muhammad!\n"
     ]
    }
   ],
   "source": [
    "prompt : str = \"if you share your name , we can personalize the massage you see\"\n",
    "prompt +=\"\\nwhat is your first name?\"\n",
    "name : str = input(prompt)\n",
    "print(f\"\\nHello,{name}!\")"
   ]
  },
  {
   "cell_type": "code",
   "execution_count": 38,
   "id": "b50bade7",
   "metadata": {},
   "outputs": [
    {
     "name": "stdout",
     "output_type": "stream",
     "text": [
      "\n",
      "Hello,muhammad!\n"
     ]
    }
   ],
   "source": [
    "prompt : str = \"\"\"if you share your name , we can personalize the massage you see\n",
    "what is your first name\"\"\"\n",
    "name : str = input(prompt)\n",
    "print(f\"\\nHello,{name}!\")"
   ]
  },
  {
   "cell_type": "code",
   "execution_count": null,
   "id": "94d0c16f",
   "metadata": {},
   "outputs": [
    {
     "data": {
      "text/plain": [
       "True"
      ]
     },
     "execution_count": 28,
     "metadata": {},
     "output_type": "execute_result"
    }
   ],
   "source": [
    "age : int = int(input(\"How old are you\")) # input by default string hota hai isko type causting karni padhe gi\n",
    "age >= 18"
   ]
  },
  {
   "cell_type": "code",
   "execution_count": 32,
   "id": "0437e694",
   "metadata": {},
   "outputs": [
    {
     "data": {
      "text/plain": [
       "[1, 3, 5, 7]"
      ]
     },
     "execution_count": 32,
     "metadata": {},
     "output_type": "execute_result"
    }
   ],
   "source": [
    "data : list[int] = [1,3,5,6,7,8,18]\n",
    "[i for i in data if i%2!=0]"
   ]
  },
  {
   "cell_type": "code",
   "execution_count": 41,
   "id": "dfbb8040",
   "metadata": {},
   "outputs": [
    {
     "name": "stdout",
     "output_type": "stream",
     "text": [
      "nasar\n",
      "mustafa\n",
      "jamal\n",
      "habib\n",
      "quit\n"
     ]
    }
   ],
   "source": [
    "prompt : str = \"\\nTell me somthing, and i will reapet it for you\"\n",
    "prompt  += \"\\nEnter quit to end the program\"\n",
    "massage : str = \"\"\n",
    "while massage != 'quit':\n",
    "    massage : str = input(prompt)\n",
    "    print(massage)"
   ]
  },
  {
   "cell_type": "code",
   "execution_count": 7,
   "id": "ced75816",
   "metadata": {},
   "outputs": [
    {
     "name": "stdout",
     "output_type": "stream",
     "text": [
      "Verifying user: Candace\n",
      "Verifying user: Brian\n",
      "Verifying user: Alice\n",
      "\n",
      "The following users have been confirmed:\n",
      "Candace\n",
      "Brian\n",
      "Alice\n"
     ]
    }
   ],
   "source": [
    "#Start with users that need to be verified, \n",
    "#  and an empty list to hold confirmed users.\n",
    "unconfirmed_users = ['alice', 'brian', 'candace']\n",
    "confirmed_users = []\n",
    " # Verify each user until there are no more unconfirmed users.\n",
    " #  Move each verified user into the list of confirmed users.\n",
    "while unconfirmed_users:\n",
    "     current_user = unconfirmed_users.pop()\n",
    "     print(f\"Verifying user: {current_user.title()}\")\n",
    "     confirmed_users.append(current_user)\n",
    "     # Display all confirmed users.\n",
    "print(\"\\nThe following users have been confirmed:\")\n",
    "for confirmed_user in confirmed_users:\n",
    "      print(confirmed_user.title())"
   ]
  },
  {
   "cell_type": "code",
   "execution_count": 8,
   "id": "43885f57",
   "metadata": {},
   "outputs": [
    {
     "name": "stdout",
     "output_type": "stream",
     "text": [
      "3\n",
      "2\n",
      "1\n"
     ]
    }
   ],
   "source": [
    "data : list[int] = [1,2,3]\n",
    "\n",
    "while data:\n",
    "    a : int = data.pop()\n",
    "    print(a)"
   ]
  },
  {
   "cell_type": "code",
   "execution_count": null,
   "id": "8cd91729",
   "metadata": {},
   "outputs": [],
   "source": []
  },
  {
   "cell_type": "code",
   "execution_count": 10,
   "id": "ae2597c2",
   "metadata": {},
   "outputs": [
    {
     "name": "stdout",
     "output_type": "stream",
     "text": [
      "['dog', 'cat', 'dog', 'goldfish', 'cat', 'rabbit', 'cat']\n",
      "['dog', 'dog', 'goldfish', 'rabbit']\n"
     ]
    }
   ],
   "source": [
    "pets = ['dog', 'cat', 'dog', 'goldfish', 'cat', 'rabbit', 'cat']\n",
    "print(pets)\n",
    "while 'cat' in pets:\n",
    "    pets.remove('cat')\n",
    "print(pets)"
   ]
  }
 ],
 "metadata": {
  "kernelspec": {
   "display_name": "Python 3",
   "language": "python",
   "name": "python3"
  },
  "language_info": {
   "codemirror_mode": {
    "name": "ipython",
    "version": 3
   },
   "file_extension": ".py",
   "mimetype": "text/x-python",
   "name": "python",
   "nbconvert_exporter": "python",
   "pygments_lexer": "ipython3",
   "version": "3.13.2"
  }
 },
 "nbformat": 4,
 "nbformat_minor": 5
}
