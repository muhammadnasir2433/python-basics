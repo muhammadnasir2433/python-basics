{
 "cells": [
  {
   "cell_type": "code",
   "execution_count": 1,
   "id": "9d16ab94",
   "metadata": {},
   "outputs": [
    {
     "name": "stdout",
     "output_type": "stream",
     "text": [
      "['clear', 'copy', 'fromkeys', 'get', 'items', 'keys', 'pop', 'popitem', 'setdefault', 'update', 'values']\n"
     ]
    }
   ],
   "source": [
    "from typing import Dict , Union, Optional\n",
    "import pprint\n",
    "\n",
    "key = Union [str,int]\n",
    "value = Union [str,int,list,tuple,dict,set]\n",
    "\n",
    "data : dict[key,value] = {\"Dname\":\"Farah\",\n",
    "                        'Sname': \"zarrar\",\n",
    "                        \"fname\": \"nasir\",\n",
    "                        }\n",
    "methods : list[str] = [m for m in dir(data) if \"__\" not in m]\n",
    "print(methods)"
   ]
  },
  {
   "cell_type": "code",
   "execution_count": 4,
   "id": "533aa109",
   "metadata": {},
   "outputs": [
    {
     "name": "stdout",
     "output_type": "stream",
     "text": [
      "Before {'Dname': 'Farah', 'Sname': 'zarrar', 'fname': 'nasir'}\n",
      "After {}\n",
      "['clear', 'copy', 'fromkeys', 'get', 'items', 'keys', 'pop', 'popitem', 'setdefault', 'update', 'values']\n"
     ]
    }
   ],
   "source": [
    "from typing import Dict , Union, Optional\n",
    "import pprint\n",
    "\n",
    "key = Union [str,int]\n",
    "value = Union [str,int,list,tuple,dict,set]\n",
    "\n",
    "data : dict[key,value] = {\"Dname\":\"Farah\",\n",
    "                        'Sname': \"zarrar\",\n",
    "                        \"fname\": \"nasir\",\n",
    "                        }\n",
    "\n",
    "print(\"Before\",data)\n",
    "data.clear()\n",
    "print(\"After\",data)\n",
    "methods : list[str] = [m for m in dir(data) if \"__\" not in m]\n",
    "print(methods)"
   ]
  },
  {
   "cell_type": "code",
   "execution_count": 5,
   "id": "ad67039f",
   "metadata": {},
   "outputs": [
    {
     "name": "stdout",
     "output_type": "stream",
     "text": [
      "Before {'Dname': 'Farah', 'Sname': 'zarrar', 'fname': 'nasir'}\n"
     ]
    },
    {
     "ename": "NameError",
     "evalue": "name 'data' is not defined",
     "output_type": "error",
     "traceback": [
      "\u001b[31m---------------------------------------------------------------------------\u001b[39m",
      "\u001b[31mNameError\u001b[39m                                 Traceback (most recent call last)",
      "\u001b[36mCell\u001b[39m\u001b[36m \u001b[39m\u001b[32mIn[5]\u001b[39m\u001b[32m, line 14\u001b[39m\n\u001b[32m     12\u001b[39m \u001b[38;5;28mprint\u001b[39m(\u001b[33m\"\u001b[39m\u001b[33mBefore\u001b[39m\u001b[33m\"\u001b[39m,data)\n\u001b[32m     13\u001b[39m \u001b[38;5;28;01mdel\u001b[39;00m data\n\u001b[32m---> \u001b[39m\u001b[32m14\u001b[39m \u001b[38;5;28mprint\u001b[39m(\u001b[33m\"\u001b[39m\u001b[33mAfter\u001b[39m\u001b[33m\"\u001b[39m,\u001b[43mdata\u001b[49m)\n\u001b[32m     15\u001b[39m methods : \u001b[38;5;28mlist\u001b[39m[\u001b[38;5;28mstr\u001b[39m] = [m \u001b[38;5;28;01mfor\u001b[39;00m m \u001b[38;5;129;01min\u001b[39;00m \u001b[38;5;28mdir\u001b[39m(data) \u001b[38;5;28;01mif\u001b[39;00m \u001b[33m\"\u001b[39m\u001b[33m__\u001b[39m\u001b[33m\"\u001b[39m \u001b[38;5;129;01mnot\u001b[39;00m \u001b[38;5;129;01min\u001b[39;00m m]\n\u001b[32m     16\u001b[39m \u001b[38;5;28mprint\u001b[39m(methods)\n",
      "\u001b[31mNameError\u001b[39m: name 'data' is not defined"
     ]
    }
   ],
   "source": [
    "from typing import Dict , Union, Optional\n",
    "import pprint\n",
    "\n",
    "key = Union [str,int]\n",
    "value = Union [str,int,list,tuple,dict,set]\n",
    "\n",
    "data : dict[key,value] = {\"Dname\":\"Farah\",\n",
    "                        'Sname': \"zarrar\",\n",
    "                        \"fname\": \"nasir\",\n",
    "                        }\n",
    "\n",
    "print(\"Before\",data)\n",
    "del data\n",
    "print(\"After\",data)\n",
    "methods : list[str] = [m for m in dir(data) if \"__\" not in m]\n",
    "print(methods)"
   ]
  },
  {
   "cell_type": "code",
   "execution_count": 11,
   "id": "7e907b65",
   "metadata": {},
   "outputs": [
    {
     "name": "stdout",
     "output_type": "stream",
     "text": [
      "Before {'Dname': 'Farah', 'Sname': 'zarrar', 'fname': 'nasir'}\n",
      "zarrar\n",
      "After {'Dname': 'Farah', 'fname': 'nasir'}\n",
      "['clear', 'copy', 'fromkeys', 'get', 'items', 'keys', 'pop', 'popitem', 'setdefault', 'update', 'values']\n"
     ]
    }
   ],
   "source": [
    "from typing import Dict , Union, Optional\n",
    "import pprint\n",
    "\n",
    "key = Union [str,int]\n",
    "value = Union [str,int,list,tuple,dict,set]\n",
    "\n",
    "data : dict[key,value] = {\"Dname\":\"Farah\",\n",
    "                        'Sname': \"zarrar\",\n",
    "                        \"fname\": \"nasir\",\n",
    "                        }\n",
    "\n",
    "print(\"Before\",data)\n",
    "a : str = data.pop(\"Sname\")\n",
    "print(a)\n",
    "print(\"After\",data)\n",
    "methods : list[str] = [m for m in dir(data) if \"__\" not in m]\n",
    "print(methods)"
   ]
  },
  {
   "cell_type": "code",
   "execution_count": 7,
   "id": "31f46609",
   "metadata": {},
   "outputs": [
    {
     "name": "stdout",
     "output_type": "stream",
     "text": [
      "Before {'Dname': 'Farah', 'Sname': 'zarrar', 'fname': 'nasir'}\n",
      "('fname', 'nasir')\n",
      "After {'Dname': 'Farah', 'Sname': 'zarrar'}\n",
      "['clear', 'copy', 'fromkeys', 'get', 'items', 'keys', 'pop', 'popitem', 'setdefault', 'update', 'values']\n"
     ]
    }
   ],
   "source": [
    "from typing import Dict , Union, Optional\n",
    "import pprint\n",
    "\n",
    "key = Union [str,int]\n",
    "value = Union [str,int,list,tuple,dict,set]\n",
    "\n",
    "data : dict[key,value] = {\"Dname\":\"Farah\",\n",
    "                        'Sname': \"zarrar\",\n",
    "                        \"fname\": \"nasir\",\n",
    "                        }\n",
    "\n",
    "print(\"Before\",data)\n",
    "a : str = data.popitem()\n",
    "print(a)\n",
    "print(\"After\",data)\n",
    "methods : list[str] = [m for m in dir(data) if \"__\" not in m]\n",
    "print(methods)"
   ]
  },
  {
   "cell_type": "code",
   "execution_count": 13,
   "id": "1502cbc1",
   "metadata": {},
   "outputs": [
    {
     "name": "stdout",
     "output_type": "stream",
     "text": [
      "Before {'Dname': 'Farah', 'Sname': 'zarrar', 'fname': 'nasir'}\n",
      "empty value\n",
      "After {'Dname': 'Farah', 'Sname': 'zarrar', 'fname': 'nasir', 'pakistan': 'empty value'}\n",
      "['clear', 'copy', 'fromkeys', 'get', 'items', 'keys', 'pop', 'popitem', 'setdefault', 'update', 'values']\n"
     ]
    }
   ],
   "source": [
    "from typing import Dict , Union, Optional\n",
    "import pprint\n",
    "\n",
    "key = Union [str,int]\n",
    "value = Union [str,int,list,tuple,dict,set]\n",
    "\n",
    "data : dict[key,value] = {\"Dname\":\"Farah\",\n",
    "                        'Sname': \"zarrar\",\n",
    "                        \"fname\": \"nasir\",\n",
    "                        }\n",
    "\n",
    "print(\"Before\",data)\n",
    "a : str = data.setdefault(\"pakistan\",\"empty value\")\n",
    "print(a)\n",
    "print(\"After\",data)\n",
    "methods : list[str] = [m for m in dir(data) if \"__\" not in m]\n",
    "print(methods)"
   ]
  },
  {
   "cell_type": "code",
   "execution_count": 14,
   "id": "e9370f15",
   "metadata": {},
   "outputs": [
    {
     "name": "stdout",
     "output_type": "stream",
     "text": [
      "{'Dname': 'Farah', 'Sname': 'zarrar', 'fname': 'abu zarrar', 'age': 26, 'height': 5.5}\n"
     ]
    }
   ],
   "source": [
    "key = Union [str,int]\n",
    "value = Union [str,int,list,tuple,dict,set]\n",
    "\n",
    "data : dict[key,value] = {\"Dname\":\"Farah\",\n",
    "                        'Sname': \"zarrar\",\n",
    "                        \"fname\": \"nasir\",\n",
    "                        }\n",
    "data1 : Dict[key,value] = {\"fname\" : \"abu zarrar\",\n",
    "                           \"age\" : 26,\n",
    "                           \"height\" : 5.5}\n",
    "data.update(data1)\n",
    "print(data)"
   ]
  },
  {
   "cell_type": "code",
   "execution_count": null,
   "id": "9d939f68",
   "metadata": {},
   "outputs": [
    {
     "data": {
      "text/html": [
       "<div>\n",
       "<style scoped>\n",
       "    .dataframe tbody tr th:only-of-type {\n",
       "        vertical-align: middle;\n",
       "    }\n",
       "\n",
       "    .dataframe tbody tr th {\n",
       "        vertical-align: top;\n",
       "    }\n",
       "\n",
       "    .dataframe thead th {\n",
       "        text-align: right;\n",
       "    }\n",
       "</style>\n",
       "<table border=\"1\" class=\"dataframe\">\n",
       "  <thead>\n",
       "    <tr style=\"text-align: right;\">\n",
       "      <th></th>\n",
       "      <th>roll no</th>\n",
       "      <th>name</th>\n",
       "      <th>education</th>\n",
       "    </tr>\n",
       "  </thead>\n",
       "  <tbody>\n",
       "    <tr>\n",
       "      <th>0</th>\n",
       "      <td>1</td>\n",
       "      <td>mustafa</td>\n",
       "      <td>phd</td>\n",
       "    </tr>\n",
       "    <tr>\n",
       "      <th>1</th>\n",
       "      <td>2</td>\n",
       "      <td>jamal</td>\n",
       "      <td>bachelor</td>\n",
       "    </tr>\n",
       "    <tr>\n",
       "      <th>2</th>\n",
       "      <td>3</td>\n",
       "      <td>nasir</td>\n",
       "      <td>agentic ai eng</td>\n",
       "    </tr>\n",
       "  </tbody>\n",
       "</table>\n",
       "</div>"
      ],
      "text/plain": [
       "   roll no     name       education\n",
       "0        1  mustafa             phd\n",
       "1        2    jamal        bachelor\n",
       "2        3    nasir  agentic ai eng"
      ]
     },
     "execution_count": 23,
     "metadata": {},
     "output_type": "execute_result"
    }
   ],
   "source": [
    "import pandas as pd\n",
    "from typing import Any\n",
    "\n",
    "students_data : Dict[str,list[Any]] = {\n",
    "    \"roll no\" : [1,2,3],\n",
    "    \"name\" :[\"mustafa\",\"jamal\",\"nasir\"],\n",
    "    \"education\" : [\"phd\",\"bachelor\",\"agentic ai eng\"]\n",
    "}\n",
    "\n",
    "df : pd.DataFrame = pd.DataFrame(students_data)\n",
    "df "
   ]
  },
  {
   "cell_type": "code",
   "execution_count": null,
   "id": "f5a3ed67",
   "metadata": {},
   "outputs": [
    {
     "data": {
      "text/html": [
       "<div>\n",
       "<style scoped>\n",
       "    .dataframe tbody tr th:only-of-type {\n",
       "        vertical-align: middle;\n",
       "    }\n",
       "\n",
       "    .dataframe tbody tr th {\n",
       "        vertical-align: top;\n",
       "    }\n",
       "\n",
       "    .dataframe thead th {\n",
       "        text-align: right;\n",
       "    }\n",
       "</style>\n",
       "<table border=\"1\" class=\"dataframe\">\n",
       "  <thead>\n",
       "    <tr style=\"text-align: right;\">\n",
       "      <th></th>\n",
       "      <th>roll no</th>\n",
       "      <th>name</th>\n",
       "      <th>education</th>\n",
       "    </tr>\n",
       "  </thead>\n",
       "  <tbody>\n",
       "    <tr>\n",
       "      <th>0</th>\n",
       "      <td>1</td>\n",
       "      <td>mustafa</td>\n",
       "      <td>phd</td>\n",
       "    </tr>\n",
       "    <tr>\n",
       "      <th>1</th>\n",
       "      <td>2</td>\n",
       "      <td>jamal</td>\n",
       "      <td>bachelor</td>\n",
       "    </tr>\n",
       "    <tr>\n",
       "      <th>2</th>\n",
       "      <td>3</td>\n",
       "      <td>nasir</td>\n",
       "      <td>agentic ai eng</td>\n",
       "    </tr>\n",
       "  </tbody>\n",
       "</table>\n",
       "</div>"
      ],
      "text/plain": [
       "   roll no     name       education\n",
       "0        1  mustafa             phd\n",
       "1        2    jamal        bachelor\n",
       "2        3    nasir  agentic ai eng"
      ]
     },
     "metadata": {},
     "output_type": "display_data"
    }
   ],
   "source": [
    "import pandas as pd\n",
    "\n",
    "X : pd.DataFrame = pd.DataFrame({\n",
    "    \"roll no\" : [1,2,3],\n",
    "    \"name\" :[\"mustafa\",\"jamal\",\"nasir\"],\n",
    "    \"education\" : [\"phd\",\"bachelor\",\"agentic ai eng\"]\n",
    "})\n",
    "display(X) "
   ]
  },
  {
   "cell_type": "code",
   "execution_count": 26,
   "id": "d2c3bdea",
   "metadata": {},
   "outputs": [
    {
     "name": "stdout",
     "output_type": "stream",
     "text": [
      "{'Dname': 'Farah', 'Sname': 'zarrar', 'fname': 'abuzarrar'}\n"
     ]
    }
   ],
   "source": [
    "from typing import Dict , Union, Optional\n",
    "import pprint\n",
    "\n",
    "key = Union [str,int]\n",
    "value = Union [str,int,list,tuple,dict,set]\n",
    "\n",
    "data : dict[key,value] = {\"Dname\":\"Farah\",\n",
    "                        'Sname': \"zarrar\",\n",
    "                        \"fname\": \"nasir\",\n",
    "                        \"fname\" : \"abuzarrar\"\n",
    "                        }\n",
    "print(data)"
   ]
  },
  {
   "cell_type": "code",
   "execution_count": null,
   "id": "0bcc1a19",
   "metadata": {},
   "outputs": [
    {
     "name": "stdout",
     "output_type": "stream",
     "text": [
      "sarah's favorite language is C\n"
     ]
    }
   ],
   "source": [
    "favorite_languages = {\n",
    "    'jen': 'python',\n",
    "    'sarah': 'c',\n",
    "    'edward': 'ruby',\n",
    "    'phil': 'python',\n",
    "    }\n",
    "language = favorite_languages['sarah'].title()\n",
    "print(f\"sarah's favorite language is {language}\")"
   ]
  },
  {
   "cell_type": "code",
   "execution_count": 30,
   "id": "6583b31c",
   "metadata": {},
   "outputs": [
    {
     "name": "stdout",
     "output_type": "stream",
     "text": [
      "Jen\n",
      "Sarah\n",
      "\tSarah, I see you love C!\n",
      "Edward\n",
      "Phil\n",
      "\tPhil, I see you love Python!\n"
     ]
    }
   ],
   "source": [
    "favorite_languages = {\n",
    "    'jen': 'python',\n",
    "    'sarah': 'c',\n",
    "    'edward': 'ruby',\n",
    "    'phil': 'python',\n",
    "    }\n",
    "\n",
    "friends = ['phil', 'sarah']\n",
    "for name in favorite_languages.keys():\n",
    "    print(name.title())\n",
    "    if name in friends:\n",
    "\n",
    "        language = favorite_languages[name].title()\n",
    "        print(f\"\\t{name.title()}, I see you love {language}!\")"
   ]
  },
  {
   "cell_type": "code",
   "execution_count": 32,
   "id": "f817b183",
   "metadata": {},
   "outputs": [
    {
     "name": "stdout",
     "output_type": "stream",
     "text": [
      "mustafa , please take our poll!\n"
     ]
    }
   ],
   "source": [
    "if \"mustafa\" not in favorite_languages.keys():\n",
    "        print(\"mustafa , please take our poll!\")"
   ]
  },
  {
   "cell_type": "code",
   "execution_count": 36,
   "id": "dc5b07af",
   "metadata": {},
   "outputs": [
    {
     "name": "stdout",
     "output_type": "stream",
     "text": [
      "[{'color': 'green', 'points': 5, 'speed': 'slow'},\n",
      " {'color': 'green', 'points': 5, 'speed': 'slow'},\n",
      " {'color': 'green', 'points': 5, 'speed': 'slow'},\n",
      " {'color': 'green', 'points': 5, 'speed': 'slow'},\n",
      " {'color': 'green', 'points': 5, 'speed': 'slow'},\n",
      " {'color': 'green', 'points': 5, 'speed': 'slow'},\n",
      " {'color': 'green', 'points': 5, 'speed': 'slow'},\n",
      " {'color': 'green', 'points': 5, 'speed': 'slow'},\n",
      " {'color': 'green', 'points': 5, 'speed': 'slow'},\n",
      " {'color': 'green', 'points': 5, 'speed': 'slow'},\n",
      " {'color': 'green', 'points': 5, 'speed': 'slow'},\n",
      " {'color': 'green', 'points': 5, 'speed': 'slow'},\n",
      " {'color': 'green', 'points': 5, 'speed': 'slow'},\n",
      " {'color': 'green', 'points': 5, 'speed': 'slow'},\n",
      " {'color': 'green', 'points': 5, 'speed': 'slow'},\n",
      " {'color': 'green', 'points': 5, 'speed': 'slow'},\n",
      " {'color': 'green', 'points': 5, 'speed': 'slow'},\n",
      " {'color': 'green', 'points': 5, 'speed': 'slow'},\n",
      " {'color': 'green', 'points': 5, 'speed': 'slow'},\n",
      " {'color': 'green', 'points': 5, 'speed': 'slow'},\n",
      " {'color': 'green', 'points': 5, 'speed': 'slow'},\n",
      " {'color': 'green', 'points': 5, 'speed': 'slow'},\n",
      " {'color': 'green', 'points': 5, 'speed': 'slow'},\n",
      " {'color': 'green', 'points': 5, 'speed': 'slow'},\n",
      " {'color': 'green', 'points': 5, 'speed': 'slow'},\n",
      " {'color': 'green', 'points': 5, 'speed': 'slow'},\n",
      " {'color': 'green', 'points': 5, 'speed': 'slow'},\n",
      " {'color': 'green', 'points': 5, 'speed': 'slow'},\n",
      " {'color': 'green', 'points': 5, 'speed': 'slow'},\n",
      " {'color': 'green', 'points': 5, 'speed': 'slow'}]\n"
     ]
    }
   ],
   "source": [
    "aliens = []\n",
    " # Make 30 green aliens.\n",
    "import pprint\n",
    "for alien_number in range(30):\n",
    "      new_alien = {'color': 'green', 'points': 5, 'speed': 'slow'}\n",
    "      aliens.append(new_alien)\n",
    "pprint.pprint(aliens)"
   ]
  },
  {
   "cell_type": "code",
   "execution_count": 37,
   "id": "886966c8",
   "metadata": {},
   "outputs": [
    {
     "name": "stdout",
     "output_type": "stream",
     "text": [
      "[{'color': 'green', 'points': 5, 'speed': 'slow'},\n",
      " {'color': 'green', 'points': 5, 'speed': 'slow'},\n",
      " {'color': 'green', 'points': 5, 'speed': 'slow'},\n",
      " {'color': 'green', 'points': 5, 'speed': 'slow'},\n",
      " {'color': 'green', 'points': 5, 'speed': 'slow'}]\n"
     ]
    }
   ],
   "source": [
    "pprint.pprint(aliens[:5])"
   ]
  },
  {
   "cell_type": "code",
   "execution_count": 42,
   "id": "638ee32d",
   "metadata": {},
   "outputs": [],
   "source": [
    "for alien in aliens[:3]:\n",
    "    if alien['color'] == 'green':\n",
    "        alien['color'] = 'yellow'\n",
    "        alien['speed'] = 'medium'\n",
    "        alien['points'] = 10\n",
    "    elif alien ['color'] == 'yellow':\n",
    "        alien ['color'] = \"red\"\n",
    "        alien ['speed'] = \"fast\"\n",
    "        alien ['points'] = 10\n"
   ]
  },
  {
   "cell_type": "code",
   "execution_count": 44,
   "id": "29d64fcb",
   "metadata": {},
   "outputs": [
    {
     "name": "stdout",
     "output_type": "stream",
     "text": [
      "[{'color': 'red', 'points': 10, 'speed': 'fast'},\n",
      " {'color': 'red', 'points': 10, 'speed': 'fast'},\n",
      " {'color': 'red', 'points': 10, 'speed': 'fast'},\n",
      " {'color': 'green', 'points': 5, 'speed': 'slow'},\n",
      " {'color': 'green', 'points': 5, 'speed': 'slow'}]\n"
     ]
    }
   ],
   "source": [
    "pprint.pprint(aliens[:5])"
   ]
  }
 ],
 "metadata": {
  "kernelspec": {
   "display_name": "Python 3",
   "language": "python",
   "name": "python3"
  },
  "language_info": {
   "codemirror_mode": {
    "name": "ipython",
    "version": 3
   },
   "file_extension": ".py",
   "mimetype": "text/x-python",
   "name": "python",
   "nbconvert_exporter": "python",
   "pygments_lexer": "ipython3",
   "version": "3.13.2"
  }
 },
 "nbformat": 4,
 "nbformat_minor": 5
}
