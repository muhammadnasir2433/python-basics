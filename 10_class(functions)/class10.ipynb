{
 "cells": [
  {
   "cell_type": "markdown",
   "id": "9b681007",
   "metadata": {},
   "source": [
    "# Functions\n",
    "* Pre-defined functions\n",
    "    * Provided by in language\n",
    "* User-defined functions\n",
    "    Custom functions\n",
    "## similar properties on both type\n",
    "* Return and None-return function\n",
    "    * Return\n",
    "        * we can assign this function output in any variable\n",
    "    * None-return\n",
    "        * only run we cant assign value to variable \n",
    "\n",
    "## Components\n",
    "* Function declaration\n",
    "* Function body\n",
    "* Function calling\n",
    "\n",
    "\n",
    "### Syntax of function\n",
    "```\n",
    "def function_name(param1:type, param2:type,....) --> return type:\n",
    "    function_body\n",
    "\n",
    "function_name(arg1,arg2)\n",
    "\n",
    "```\n",
    "## lambda function syantx\n",
    "* one line function \n",
    "* without name function\n",
    "* inly use in this line \n",
    "\n",
    "```\n",
    "labda param1, param2 : function_body\n",
    "\n",
    "```\n",
    "\n"
   ]
  },
  {
   "cell_type": "markdown",
   "id": "cd9ffd79",
   "metadata": {},
   "source": [
    "# Pre-defined function\n",
    "* print\n",
    "* len\n",
    "* id\n",
    "* dir\n",
    "* chr\n",
    "* ord\n",
    "* exec"
   ]
  },
  {
   "cell_type": "markdown",
   "id": "c59cb5e2",
   "metadata": {},
   "source": [
    "# Retrun and None-Return function"
   ]
  },
  {
   "cell_type": "code",
   "execution_count": 2,
   "id": "0194ed46",
   "metadata": {},
   "outputs": [
    {
     "name": "stdout",
     "output_type": "stream",
     "text": [
      "Farsight\n"
     ]
    },
    {
     "data": {
      "text/plain": [
       "None"
      ]
     },
     "metadata": {},
     "output_type": "display_data"
    }
   ],
   "source": [
    "a : str = print(\"Farsight\") # ye none return function hai\n",
    "\n",
    "display(a)"
   ]
  },
  {
   "cell_type": "code",
   "execution_count": 66,
   "id": "f3db8df5",
   "metadata": {},
   "outputs": [
    {
     "data": {
      "text/plain": [
       "7"
      ]
     },
     "metadata": {},
     "output_type": "display_data"
    }
   ],
   "source": [
    "a : int = len(\"mustafa\") # a = y return \n",
    "display(a)"
   ]
  },
  {
   "cell_type": "markdown",
   "id": "4a4051a7",
   "metadata": {},
   "source": [
    "## Components\n",
    "* Function declaration\n",
    "    * Function Name  -> name reserved nahi hona chahiye\n",
    "    * Parameters\n",
    "        * param : type\n",
    "    * return output type\n",
    "* Function body\n",
    "    * any business logic write here\n",
    "* Function calling\n",
    "    * function(arg1,arg2)\n",
    "\n",
    "\n",
    "### Syntax of function\n",
    "```\n",
    "def function_name(param1:type, param2:type,....) --> return type:\n",
    "    function_body\n",
    "\n",
    "function_name(arg1,arg2)\n",
    "\n",
    "```"
   ]
  },
  {
   "cell_type": "markdown",
   "id": "c1357702",
   "metadata": {},
   "source": [
    "### creat a simple funcction without any argument(default function)"
   ]
  },
  {
   "cell_type": "code",
   "execution_count": 5,
   "id": "d76b9783",
   "metadata": {},
   "outputs": [
    {
     "name": "stdout",
     "output_type": "stream",
     "text": [
      "Welcome to farsight institute\n",
      "How can i help you\n"
     ]
    }
   ],
   "source": [
    "def farsight(): # Decleration\n",
    "    # Function body start \n",
    "    print(\"Welcome to farsight institute\")\n",
    "    print(\"How can i help you\")\n",
    "    # Function body end\n",
    "# function recalling     \n",
    "farsight()"
   ]
  },
  {
   "cell_type": "code",
   "execution_count": 7,
   "id": "1a4e8e67",
   "metadata": {},
   "outputs": [
    {
     "name": "stdout",
     "output_type": "stream",
     "text": [
      "Welcome to farsight institute\n",
      "How can i help you\n",
      "Welcome to farsight institute\n",
      "How can i help you\n"
     ]
    }
   ],
   "source": [
    "farsight()\n",
    "farsight()"
   ]
  },
  {
   "cell_type": "markdown",
   "id": "7f3f3a0c",
   "metadata": {},
   "source": [
    "# Requird parameter function"
   ]
  },
  {
   "cell_type": "code",
   "execution_count": 9,
   "id": "7d4f481d",
   "metadata": {},
   "outputs": [
    {
     "data": {
      "text/plain": [
       "9"
      ]
     },
     "execution_count": 9,
     "metadata": {},
     "output_type": "execute_result"
    }
   ],
   "source": [
    "def add_two_numbers(num1 : int, num2 :int)->int:\n",
    "    return num1 + num2\n",
    "add_two_numbers(7,2)"
   ]
  },
  {
   "cell_type": "code",
   "execution_count": 10,
   "id": "c6c5b51b",
   "metadata": {},
   "outputs": [
    {
     "ename": "TypeError",
     "evalue": "add_two_numbers() missing 1 required positional argument: 'num2'",
     "output_type": "error",
     "traceback": [
      "\u001b[31m---------------------------------------------------------------------------\u001b[39m",
      "\u001b[31mTypeError\u001b[39m                                 Traceback (most recent call last)",
      "\u001b[36mCell\u001b[39m\u001b[36m \u001b[39m\u001b[32mIn[10]\u001b[39m\u001b[32m, line 3\u001b[39m\n\u001b[32m      1\u001b[39m \u001b[38;5;28;01mdef\u001b[39;00m\u001b[38;5;250m \u001b[39m\u001b[34madd_two_numbers\u001b[39m(num1 : \u001b[38;5;28mint\u001b[39m, num2 :\u001b[38;5;28mint\u001b[39m)->\u001b[38;5;28mint\u001b[39m:\n\u001b[32m      2\u001b[39m     \u001b[38;5;28;01mreturn\u001b[39;00m num1 + num2\n\u001b[32m----> \u001b[39m\u001b[32m3\u001b[39m \u001b[43madd_two_numbers\u001b[49m\u001b[43m(\u001b[49m\u001b[32;43m7\u001b[39;49m\u001b[43m)\u001b[49m\n",
      "\u001b[31mTypeError\u001b[39m: add_two_numbers() missing 1 required positional argument: 'num2'"
     ]
    }
   ],
   "source": [
    "def add_two_numbers(num1 : int, num2 :int)->int:\n",
    "    return num1 + num2\n",
    "add_two_numbers(7)"
   ]
  },
  {
   "cell_type": "markdown",
   "id": "c3a2ebd0",
   "metadata": {},
   "source": [
    "# function with optional parameter"
   ]
  },
  {
   "cell_type": "code",
   "execution_count": null,
   "id": "274c57ae",
   "metadata": {},
   "outputs": [
    {
     "data": {
      "text/plain": [
       "7"
      ]
     },
     "execution_count": 14,
     "metadata": {},
     "output_type": "execute_result"
    }
   ],
   "source": [
    "def add_two_numbers(num1 : int, num2 :int = 0)->int:\n",
    "    return num1 + num2\n",
    "add_two_numbers(7)"
   ]
  },
  {
   "cell_type": "code",
   "execution_count": 15,
   "id": "a38bd2f6",
   "metadata": {},
   "outputs": [
    {
     "name": "stdout",
     "output_type": "stream",
     "text": [
      "num1 value is 4 num2 value is 7\n"
     ]
    },
    {
     "data": {
      "text/plain": [
       "11"
      ]
     },
     "execution_count": 15,
     "metadata": {},
     "output_type": "execute_result"
    }
   ],
   "source": [
    "def add_two_numbers(num1 : int, num2 :int = 0)->int:\n",
    "    print(f\"num1 value is {num1} num2 value is {num2}\")\n",
    "    return num1 + num2\n",
    "add_two_numbers(num2=7,num1=4)"
   ]
  },
  {
   "cell_type": "markdown",
   "id": "4f1e8ded",
   "metadata": {},
   "source": [
    "## lambda function syantx\n",
    "* one line function \n",
    "* without name function\n",
    "* inly use in this line \n",
    "\n",
    "```\n",
    "labda param1, param2 : function_body\n",
    "\n",
    "```"
   ]
  },
  {
   "cell_type": "code",
   "execution_count": null,
   "id": "0c2c6a48",
   "metadata": {},
   "outputs": [
    {
     "name": "stdout",
     "output_type": "stream",
     "text": [
      "10\n"
     ]
    }
   ],
   "source": [
    "a = lambda num1, num2: num1 + num2\n",
    "add = a(5,5)\n",
    "print(add)"
   ]
  },
  {
   "cell_type": "code",
   "execution_count": null,
   "id": "b738b280",
   "metadata": {},
   "outputs": [
    {
     "name": "stdout",
     "output_type": "stream",
     "text": [
      "69\n"
     ]
    }
   ],
   "source": [
    "from typing import Callable\n",
    "\n",
    "add : Callable[[int,int],int] = lambda x,y : x + y\n",
    "result = add(19,50)\n",
    "print(result)   x"
   ]
  },
  {
   "cell_type": "code",
   "execution_count": null,
   "id": "3ecf5721",
   "metadata": {},
   "outputs": [
    {
     "data": {
      "text/plain": [
       "[1, 4, 9, 16, 25, 36, 49, 64, 81, 100]"
      ]
     },
     "execution_count": 23,
     "metadata": {},
     "output_type": "execute_result"
    }
   ],
   "source": [
    "data : list[int] = [1,2,3,4,5,6,7,8,9,10]\n",
    "data = list(map(lambda x:x**2 , data))\n",
    "data"
   ]
  },
  {
   "cell_type": "code",
   "execution_count": 75,
   "id": "a818ce98",
   "metadata": {},
   "outputs": [
    {
     "data": {
      "text/plain": [
       "[2, 4, 6, 8, 10]"
      ]
     },
     "execution_count": 75,
     "metadata": {},
     "output_type": "execute_result"
    }
   ],
   "source": [
    "data : list[int] = [1,2,3,4,5,6,7,8,9,10]\n",
    "data = list(filter(lambda x:x%2==0 , data))\n",
    "data"
   ]
  },
  {
   "cell_type": "code",
   "execution_count": null,
   "id": "d212aa05",
   "metadata": {},
   "outputs": [
    {
     "data": {
      "text/plain": [
       "[2,\n",
       " 4,\n",
       " 6,\n",
       " 8,\n",
       " 10,\n",
       " 12,\n",
       " 14,\n",
       " 16,\n",
       " 18,\n",
       " 20,\n",
       " 22,\n",
       " 24,\n",
       " 26,\n",
       " 28,\n",
       " 30,\n",
       " 32,\n",
       " 34,\n",
       " 36,\n",
       " 38,\n",
       " 40,\n",
       " 42,\n",
       " 44,\n",
       " 46,\n",
       " 48,\n",
       " 50,\n",
       " 52,\n",
       " 54,\n",
       " 56,\n",
       " 58,\n",
       " 60,\n",
       " 62,\n",
       " 64,\n",
       " 66,\n",
       " 68,\n",
       " 70,\n",
       " 72,\n",
       " 74,\n",
       " 76,\n",
       " 78,\n",
       " 80,\n",
       " 82,\n",
       " 84,\n",
       " 86,\n",
       " 88,\n",
       " 90,\n",
       " 92,\n",
       " 94,\n",
       " 96,\n",
       " 98,\n",
       " 100]"
      ]
     },
     "execution_count": 73,
     "metadata": {},
     "output_type": "execute_result"
    }
   ],
   "source": [
    "data : list[int] = list(filter(lambda x:x%2==0 , range(1,101)))\n",
    "data"
   ]
  },
  {
   "cell_type": "code",
   "execution_count": 9,
   "id": "8e05ccee",
   "metadata": {},
   "outputs": [
    {
     "name": "stdout",
     "output_type": "stream",
     "text": [
      "2\n",
      "4\n"
     ]
    }
   ],
   "source": [
    "data : list[int] = filter(lambda x:x%2==0 , range(1,101))\n",
    "print(next(data))\n",
    "print(next(data))"
   ]
  },
  {
   "cell_type": "code",
   "execution_count": 78,
   "id": "23630a64",
   "metadata": {},
   "outputs": [
    {
     "name": "stdout",
     "output_type": "stream",
     "text": [
      "2\n",
      "4\n",
      "6\n",
      "8\n"
     ]
    }
   ],
   "source": [
    "data : list[int] = filter(lambda x:x%2==0 , range(1,101))\n",
    "data\n",
    "print(next(data))\n",
    "print(next(data))\n",
    "print(next(data))\n",
    "print(next(data))"
   ]
  },
  {
   "cell_type": "code",
   "execution_count": null,
   "id": "8433c912",
   "metadata": {},
   "outputs": [
    {
     "name": "stdout",
     "output_type": "stream",
     "text": [
      "69\n"
     ]
    }
   ],
   "source": [
    "from typing import Callable\n",
    "\n",
    "add : Callable[[int,int],int] = lambda x,y : x + y\n",
    "result = add(19,50)\n",
    "print(result) "
   ]
  },
  {
   "cell_type": "markdown",
   "id": "bb31bbe9",
   "metadata": {},
   "source": [
    "## generator function\n",
    "```\n",
    "def my_range(start: int , end : int , step : int)\n",
    "```\n",
    "* iterate on elements one by one\n",
    "* stop after each iteration\n",
    "* remembers old iteration value(last iterate value)\n",
    "* next iteration\n",
    "    * go farward from last iterate value"
   ]
  },
  {
   "cell_type": "markdown",
   "id": "d21ec6a9",
   "metadata": {},
   "source": [
    "🔁 Step 1: What Is a Generator Function?\n",
    "A generator function is like a normal function but instead of returning once, it can yield values one at a time, pausing and resuming where it left off.\n",
    "\n",
    "Use it when:\n",
    "\n",
    "You want to generate a sequence of values.\n",
    "\n",
    "You don’t want to store everything in memory at once (great for large datasets or streams).\n",
    "\n",
    "🧠 Step 2: Understand the yield Keyword\n",
    "Instead of return, you use yield.\n",
    "\n",
    "return ends the function.\n",
    "\n",
    "yield pauses the function and saves its state.\n",
    "\n",
    "Example:\n",
    "\n",
    "python\n",
    "Copy\n",
    "Edit\n",
    "def count_up_to(n):\n",
    "    i = 1\n",
    "    while i <= n:\n",
    "        yield i\n",
    "        i += 1\n",
    "⚙️ Step 3: Calling the Generator\n",
    "When you call a generator function, it doesn’t run immediately — it gives you a generator object.\n",
    "\n",
    "python\n",
    "Copy\n",
    "Edit\n",
    "counter = count_up_to(3)\n",
    "print(counter)  # <generator object ...>\n",
    "You then iterate over it to trigger execution:\n",
    "\n",
    "python\n",
    "Copy\n",
    "Edit\n",
    "for num in counter:\n",
    "    print(num)\n",
    "➡️ Output:\n",
    "\n",
    "Copy\n",
    "Edit\n",
    "1\n",
    "2\n",
    "3\n",
    "🕹️ Step 4: Behind the Scenes\n",
    "Each time you call next() on the generator, it runs until the next yield:\n",
    "\n",
    "python\n",
    "Copy\n",
    "Edit\n",
    "counter = count_up_to(2)\n",
    "\n",
    "print(next(counter))  # 1\n",
    "print(next(counter))  # 2\n",
    "print(next(counter))  # StopIteration error (done!)\n",
    "✅ Why Use Generator Functions?\n",
    "Efficient memory usage (great for big files, data streams).\n",
    "\n",
    "Lazy evaluation — compute things only when needed.\n",
    "\n",
    "Cleaner syntax for complex iteration logic.\n",
    "\n",
    "Bonus: A Real Use Case\n",
    "python\n",
    "Copy\n",
    "Edit\n",
    "def read_large_file(filename):\n",
    "    with open(filename) as f:\n",
    "        for line in f:\n",
    "            yield line.strip()\n",
    "You can read large files line-by-line without loading the whole file into memory.\n",
    "\n",
    "Want to try building one together? Or should I show you how to turn a list comprehension into a generator expression?\n",
    "\n",
    "\n"
   ]
  },
  {
   "cell_type": "code",
   "execution_count": 5,
   "id": "36b91cc0",
   "metadata": {},
   "outputs": [
    {
     "name": "stdout",
     "output_type": "stream",
     "text": [
      "<generator object count_up_to at 0x0000020559903F40>\n",
      "1\n",
      "2\n",
      "3\n"
     ]
    }
   ],
   "source": [
    "def count_up_to(n):\n",
    "    i = 1\n",
    "    while i <= n:\n",
    "        yield i\n",
    "        i += 1\n",
    "\n",
    "counter = count_up_to(3)\n",
    "print(counter)  # <generator object ...>\n",
    "for num in counter:\n",
    "    print(num)\n"
   ]
  },
  {
   "cell_type": "code",
   "execution_count": 4,
   "id": "2a2a7c8e",
   "metadata": {},
   "outputs": [
    {
     "name": "stdout",
     "output_type": "stream",
     "text": [
      "1\n",
      "2\n"
     ]
    },
    {
     "ename": "StopIteration",
     "evalue": "",
     "output_type": "error",
     "traceback": [
      "\u001b[31m---------------------------------------------------------------------------\u001b[39m",
      "\u001b[31mStopIteration\u001b[39m                             Traceback (most recent call last)",
      "\u001b[36mCell\u001b[39m\u001b[36m \u001b[39m\u001b[32mIn[4]\u001b[39m\u001b[32m, line 4\u001b[39m\n\u001b[32m      2\u001b[39m \u001b[38;5;28mprint\u001b[39m(\u001b[38;5;28mnext\u001b[39m(counter))  \u001b[38;5;66;03m# 1\u001b[39;00m\n\u001b[32m      3\u001b[39m \u001b[38;5;28mprint\u001b[39m(\u001b[38;5;28mnext\u001b[39m(counter))  \u001b[38;5;66;03m# 2\u001b[39;00m\n\u001b[32m----> \u001b[39m\u001b[32m4\u001b[39m \u001b[38;5;28mprint\u001b[39m(\u001b[38;5;28;43mnext\u001b[39;49m\u001b[43m(\u001b[49m\u001b[43mcounter\u001b[49m\u001b[43m)\u001b[49m)  \u001b[38;5;66;03m# StopIteration error (done!)\u001b[39;00m\n",
      "\u001b[31mStopIteration\u001b[39m: "
     ]
    }
   ],
   "source": [
    "counter = count_up_to(2)\n",
    "print(next(counter))  # 1\n",
    "print(next(counter))  # 2\n",
    "print(next(counter))  # StopIteration error (done!)\n",
    "    "
   ]
  },
  {
   "cell_type": "code",
   "execution_count": null,
   "id": "f49c41b9",
   "metadata": {},
   "outputs": [
    {
     "name": "stdout",
     "output_type": "stream",
     "text": [
      "[1, 2, 3, 4, 5, 6, 7, 8, 9, 10]\n"
     ]
    }
   ],
   "source": [
    "def my_range(start: int , end : int , step : int=1):\n",
    "    for i in range(start,end+1,step):\n",
    "        yield i # generater funcrion ki pehchan\n",
    "a = my_range(1,10)\n",
    "print(list(a))"
   ]
  },
  {
   "cell_type": "code",
   "execution_count": null,
   "id": "054de6f1",
   "metadata": {},
   "outputs": [
    {
     "name": "stdout",
     "output_type": "stream",
     "text": [
      "[1, 2, 3, 4, 5, 6, 7, 8, 9, 10]\n"
     ]
    }
   ],
   "source": [
    "def my_range(start: int , end : int ):\n",
    "    for i in range(start,end+1):\n",
    "        yield i # generater funcrion ki pehchan\n",
    "a = my_range(1,10)\n",
    "print(list(a))\n"
   ]
  },
  {
   "cell_type": "code",
   "execution_count": null,
   "id": "ce652fe2",
   "metadata": {},
   "outputs": [
    {
     "name": "stdout",
     "output_type": "stream",
     "text": [
      "1\n",
      "2\n"
     ]
    }
   ],
   "source": [
    "a = my_range(1,10)\n",
    "print(next(a))\n",
    "print(next(a))\n"
   ]
  },
  {
   "cell_type": "code",
   "execution_count": null,
   "id": "84599703",
   "metadata": {},
   "outputs": [
    {
     "name": "stdout",
     "output_type": "stream",
     "text": [
      "1\n",
      "2\n",
      "3\n",
      "4\n",
      "5\n",
      "pakistan\n",
      "6\n",
      "7\n",
      "8\n",
      "9\n",
      "10\n"
     ]
    }
   ],
   "source": [
    "a = my_range(1,10)\n",
    "print(next(a))\n",
    "print(next(a))\n",
    "print(next(a))\n",
    "print(next(a))\n",
    "print(next(a))\n",
    "print(\"pakistan\")\n",
    "print(next(a))\n",
    "print(next(a))\n",
    "print(next(a))\n",
    "print(next(a))\n",
    "print(next(a))"
   ]
  },
  {
   "cell_type": "code",
   "execution_count": 13,
   "id": "041efc03",
   "metadata": {},
   "outputs": [],
   "source": [
    "from collections.abc import Iterator\n",
    "\n",
    "my_dict = dict[str,object] #for example \n",
    "\n",
    "def yield_function() ->Iterator[my_dict]:\n",
    "    a : my_dict = {}\n",
    "    b : my_dict = {}\n",
    "    ...\n",
    "    yield a\n",
    "    yield b"
   ]
  },
  {
   "cell_type": "code",
   "execution_count": 17,
   "id": "782bbd25",
   "metadata": {},
   "outputs": [
    {
     "name": "stdout",
     "output_type": "stream",
     "text": [
      "1\n",
      "2\n",
      "3\n",
      "<class 'generator'>\n"
     ]
    }
   ],
   "source": [
    "from collections.abc import Iterator\n",
    "\n",
    "def my_range(start: int , end : int )->Iterator[int]:\n",
    "    for i in range(start,end+1):\n",
    "        yield i # generater funcrion ki pehchan\n",
    "\n",
    "iterator_varialble:Iterator[int] = my_range(1,10)\n",
    "\n",
    "print(next(iterator_varialble))\n",
    "print(next(iterator_varialble))\n",
    "print(next(iterator_varialble))\n",
    "print(type(iterator_varialble))\n"
   ]
  },
  {
   "cell_type": "markdown",
   "id": "b4633516",
   "metadata": {},
   "source": [
    "## pass unlimited arguments"
   ]
  },
  {
   "cell_type": "code",
   "execution_count": 5,
   "id": "825d7130",
   "metadata": {},
   "outputs": [
    {
     "name": "stdout",
     "output_type": "stream",
     "text": [
      "(1, 2, 3, 4, 5, 6, 7) <class 'tuple'>\n"
     ]
    },
    {
     "data": {
      "text/plain": [
       "28"
      ]
     },
     "execution_count": 5,
     "metadata": {},
     "output_type": "execute_result"
    }
   ],
   "source": [
    "def abc(*nums):\n",
    "    print(nums,type(nums))\n",
    "    total = 0\n",
    "    for n in nums:\n",
    "        total += n\n",
    "    return total\n",
    "abc(1,2,3,4,5,6,7)"
   ]
  },
  {
   "cell_type": "code",
   "execution_count": 17,
   "id": "42ade7e0",
   "metadata": {},
   "outputs": [
    {
     "name": "stdout",
     "output_type": "stream",
     "text": [
      "{'a': 3, 'b': 7, 'c': 500, 'd': 8, 'name': 'nasar'} <class 'dict'>\n"
     ]
    }
   ],
   "source": [
    "def xyz(**kwargs):\n",
    "    print(kwargs,type(kwargs))\n",
    "\n",
    "xyz(a=3, b=7, c=500, d= 8, name=\"nasar\")"
   ]
  },
  {
   "cell_type": "code",
   "execution_count": 33,
   "id": "884abf9d",
   "metadata": {},
   "outputs": [
    {
     "name": "stdout",
     "output_type": "stream",
     "text": [
      "1 2 (4, 5, 6, 7) {'x': 5, 'y': 0, 'g': 5}\n"
     ]
    }
   ],
   "source": [
    "def my_function(a, b, *abc, **xyz):\n",
    "    print(a,b, abc, xyz)\n",
    "my_function(1,2, 4,5,6,7, x = 5, y = 0,g=5)  "
   ]
  },
  {
   "cell_type": "code",
   "execution_count": null,
   "id": "43b93236",
   "metadata": {},
   "outputs": [
    {
     "name": "stdout",
     "output_type": "stream",
     "text": [
      "hello nasar\n",
      "hello mustafa\n",
      "hello jamal\n"
     ]
    }
   ],
   "source": [
    "from typing import Tuple\n",
    "\n",
    "def greet(*names:  Tuple[str, ...])->None:\n",
    "    for name in names:\n",
    "        print(\"hello\",name)\n",
    "greet(\"nasar\",\"mustafa\", \"jamal\")\n",
    "\n",
    "    "
   ]
  },
  {
   "cell_type": "code",
   "execution_count": 11,
   "id": "ee8e71ef",
   "metadata": {},
   "outputs": [
    {
     "name": "stdout",
     "output_type": "stream",
     "text": [
      "num1 value 7 and num2 value 2\n"
     ]
    },
    {
     "data": {
      "text/plain": [
       "9"
      ]
     },
     "execution_count": 11,
     "metadata": {},
     "output_type": "execute_result"
    }
   ],
   "source": [
    "def add_two_numbers(num1 : int, num2 :int)->int:\n",
    "    print(f\"num1 value {num1} and num2 value {num2}\")\n",
    "    return num1 + num2\n",
    "add_two_numbers(7,2)"
   ]
  },
  {
   "cell_type": "code",
   "execution_count": 14,
   "id": "08f6f828",
   "metadata": {},
   "outputs": [
    {
     "name": "stdout",
     "output_type": "stream",
     "text": [
      "num1 value 2 and num2 value 7\n"
     ]
    },
    {
     "data": {
      "text/plain": [
       "9"
      ]
     },
     "execution_count": 14,
     "metadata": {},
     "output_type": "execute_result"
    }
   ],
   "source": [
    "def add_two_numbers(num1 : int, num2 :int)->int:\n",
    "    print(f\"num1 value {num1} and num2 value {num2}\")\n",
    "    return num1 + num2\n",
    "add_two_numbers(num2 = 7,num1 = 2)"
   ]
  },
  {
   "cell_type": "code",
   "execution_count": 24,
   "id": "c6fa7014",
   "metadata": {},
   "outputs": [
    {
     "name": "stdout",
     "output_type": "stream",
     "text": [
      "1 2 (2, 3, 4, 5, 6) {'d': 4, 'e': 8, 'c': 80}\n"
     ]
    }
   ],
   "source": [
    "def my_function(a,b,*abc,**xyz):\n",
    "    print(a,b,abc,xyz)\n",
    "\n",
    "my_function(1,2, 2,3,4,5,6,  d = 4,e = 8, c = 80)"
   ]
  },
  {
   "cell_type": "code",
   "execution_count": 26,
   "id": "a05354cf",
   "metadata": {},
   "outputs": [
    {
     "name": "stdout",
     "output_type": "stream",
     "text": [
      "hello nasar\n",
      "hello mustafa\n",
      "hello jamal\n",
      "hello maaz\n",
      "hello farhan\n"
     ]
    }
   ],
   "source": [
    "from typing import Tuple\n",
    "\n",
    "def greet(*names:  Tuple[str, ...])->None:\n",
    "    \"\"\"\n",
    "    this function greets all  persons in the names tuple. \n",
    "    \"\"\"\n",
    "    for name in names:\n",
    "        print(\"hello\",name)\n",
    "greet(\"nasar\",\"mustafa\", \"jamal\",\"maaz\", \"farhan\")"
   ]
  },
  {
   "cell_type": "code",
   "execution_count": 37,
   "id": "6e9b4366",
   "metadata": {},
   "outputs": [
    {
     "name": "stdout",
     "output_type": "stream",
     "text": [
      "{'name1': 'nasar', 'name2': 'mustafa', 'name3': 'jamal', 'name4': 'maaz', 'name5': 'farhan'}\n"
     ]
    }
   ],
   "source": [
    "from typing import Dict\n",
    "\n",
    "def greet(**names:  Dict[str,str])->None:\n",
    "    print(names)\n",
    "greet(name1=\"nasar\",name2=\"mustafa\", name3 = \"jamal\",name4 = \"maaz\",name5 = \"farhan\")"
   ]
  },
  {
   "cell_type": "code",
   "execution_count": 40,
   "id": "b6b02d2c",
   "metadata": {},
   "outputs": [
    {
     "name": "stdout",
     "output_type": "stream",
     "text": [
      "1 2 (2, 3, 4, 5, 6) {'d': 4, 'e': 8, 'c': 80}\n"
     ]
    }
   ],
   "source": [
    "def my_function(a:int,b:int,*abc:int,**xyz:int):\n",
    "    print(a,b,abc,xyz)\n",
    "\n",
    "my_function(1,2, 2,3,4,5,6,  d = 4,e = 8, c = 80)"
   ]
  },
  {
   "cell_type": "markdown",
   "id": "95797954",
   "metadata": {},
   "source": [
    "# Decorator"
   ]
  },
  {
   "cell_type": "code",
   "execution_count": null,
   "id": "ee724f50",
   "metadata": {},
   "outputs": [
    {
     "ename": "TypeError",
     "evalue": "'builtin_function_or_method' object is not subscriptable",
     "output_type": "error",
     "traceback": [
      "\u001b[31m---------------------------------------------------------------------------\u001b[39m",
      "\u001b[31mTypeError\u001b[39m                                 Traceback (most recent call last)",
      "\u001b[36mCell\u001b[39m\u001b[36m \u001b[39m\u001b[32mIn[7]\u001b[39m\u001b[32m, line 2\u001b[39m\n\u001b[32m      1\u001b[39m \u001b[38;5;28;01mfrom\u001b[39;00m\u001b[38;5;250m \u001b[39m\u001b[34;01mtyping\u001b[39;00m\u001b[38;5;250m \u001b[39m\u001b[38;5;28;01mimport\u001b[39;00m Callable\n\u001b[32m----> \u001b[39m\u001b[32m2\u001b[39m \u001b[38;5;28;01mdef\u001b[39;00m\u001b[38;5;250m \u001b[39m\u001b[34mdecorator\u001b[39m(func:\u001b[38;5;28;43mcallable\u001b[39;49m\u001b[43m[\u001b[49m\u001b[43m[\u001b[49m\u001b[43m]\u001b[49m\u001b[43m,\u001b[49m\u001b[43m \u001b[49m\u001b[38;5;28;43;01mNone\u001b[39;49;00m\u001b[43m]\u001b[49m)-> \u001b[38;5;28mcallable\u001b[39m[[],\u001b[38;5;28;01mNone\u001b[39;00m]:\n\u001b[32m      3\u001b[39m     \u001b[38;5;28;01mdef\u001b[39;00m\u001b[38;5;250m \u001b[39m\u001b[34mwrapper\u001b[39m()->\u001b[38;5;28;01mNone\u001b[39;00m:\n\u001b[32m      4\u001b[39m         \u001b[38;5;28mprint\u001b[39m(\u001b[33m\"\u001b[39m\u001b[33msomething is happning before the function is called\u001b[39m\u001b[33m\"\u001b[39m)\n",
      "\u001b[31mTypeError\u001b[39m: 'builtin_function_or_method' object is not subscriptable"
     ]
    }
   ],
   "source": [
    "from typing import Callable\n",
    "def decorator(func:callable[[], None])-> callable[[],None]:\n",
    "    def wrapper()->None:\n",
    "        print(\"something is happning before the function is called\")\n",
    "        func()\n",
    "        print(\"somthing is happaning after the function is called\")\n",
    "    return wrapper\n",
    "\n",
    "@decorator\n",
    "def say_hello()-> None:\n",
    "    print(\"hello\")\n",
    "say_hello()"
   ]
  },
  {
   "cell_type": "markdown",
   "id": "e9590dee",
   "metadata": {},
   "source": [
    "# function by chai awr code"
   ]
  },
  {
   "cell_type": "code",
   "execution_count": 8,
   "id": "97920c19",
   "metadata": {},
   "outputs": [
    {
     "data": {
      "text/plain": [
       "25"
      ]
     },
     "execution_count": 8,
     "metadata": {},
     "output_type": "execute_result"
    }
   ],
   "source": [
    "def square(num):\n",
    "    return num **2\n",
    "square(5)\n"
   ]
  },
  {
   "cell_type": "code",
   "execution_count": 9,
   "id": "e4d842db",
   "metadata": {},
   "outputs": [
    {
     "name": "stdout",
     "output_type": "stream",
     "text": [
      "25\n"
     ]
    }
   ],
   "source": [
    "def square(num):\n",
    "    print(num **2)\n",
    "square(5)"
   ]
  },
  {
   "cell_type": "code",
   "execution_count": null,
   "id": "4c43e0e4",
   "metadata": {},
   "outputs": [
    {
     "name": "stdout",
     "output_type": "stream",
     "text": [
      "25\n",
      "None\n"
     ]
    }
   ],
   "source": [
    "def square(num):\n",
    "    print (num **2) # none print ke waja se aa raha hai\n",
    "result = square(5)  # ham ne is ko result variable mai hold kiya\n",
    "print(result)\n"
   ]
  },
  {
   "cell_type": "code",
   "execution_count": 11,
   "id": "9d17331f",
   "metadata": {},
   "outputs": [
    {
     "name": "stdout",
     "output_type": "stream",
     "text": [
      "25\n"
     ]
    }
   ],
   "source": [
    "def square(num):\n",
    "    return num **2\n",
    "result  = square(5)\n",
    "print(result)"
   ]
  },
  {
   "cell_type": "code",
   "execution_count": 13,
   "id": "6c9dbca7",
   "metadata": {},
   "outputs": [
    {
     "name": "stdout",
     "output_type": "stream",
     "text": [
      "25\n"
     ]
    }
   ],
   "source": [
    "def square(num):\n",
    "    return num **2\n",
    "result  = square(5)\n",
    "print(square(5))"
   ]
  },
  {
   "cell_type": "markdown",
   "id": "ebd8829a",
   "metadata": {},
   "source": [
    "## two parameters function"
   ]
  },
  {
   "cell_type": "code",
   "execution_count": 18,
   "id": "d078142a",
   "metadata": {},
   "outputs": [
    {
     "name": "stdout",
     "output_type": "stream",
     "text": [
      "sum of num1 and num2 is 33\n"
     ]
    }
   ],
   "source": [
    "def sum_of_nums(num1,num2):\n",
    "    return num1 + num2\n",
    "result = sum_of_nums(11,22)\n",
    "print(f\"sum of num1 and num2 is {result}\")\n"
   ]
  },
  {
   "cell_type": "code",
   "execution_count": 19,
   "id": "663adf0d",
   "metadata": {},
   "outputs": [
    {
     "name": "stdout",
     "output_type": "stream",
     "text": [
      "32\n"
     ]
    }
   ],
   "source": [
    "def multiply(a,b):\n",
    "    return a * b\n",
    "result = multiply(4 , 8)\n",
    "print(result)"
   ]
  },
  {
   "cell_type": "code",
   "execution_count": null,
   "id": "1cab2c5b",
   "metadata": {},
   "outputs": [
    {
     "name": "stdout",
     "output_type": "stream",
     "text": [
      "nnnnn\n"
     ]
    }
   ],
   "source": [
    "def multiply(p1,p2):\n",
    "    return p1 * p2\n",
    "result = multiply(\"N\" , 8)\n",
    "print(result)"
   ]
  },
  {
   "cell_type": "code",
   "execution_count": 29,
   "id": "6811cedb",
   "metadata": {},
   "outputs": [
    {
     "name": "stdout",
     "output_type": "stream",
     "text": [
      "area is 12.566370614359172 and circumference is 12.566370614359172\n"
     ]
    }
   ],
   "source": [
    "import math\n",
    "\n",
    "def circle_stats(radius):\n",
    "    area =  math.pi * radius ** 2\n",
    "    circumference = 2 * math.pi * radius\n",
    "    return area,circumference\n",
    "a , c = circle_stats(2)\n",
    "print(f\"area is {a} and circumference is {c}\")"
   ]
  },
  {
   "cell_type": "code",
   "execution_count": 28,
   "id": "24d9b897",
   "metadata": {},
   "outputs": [
    {
     "name": "stdout",
     "output_type": "stream",
     "text": [
      "area is 12.57 and circumference is 12.57\n"
     ]
    }
   ],
   "source": [
    "import math\n",
    "\n",
    "def circle_stats(radius):\n",
    "    area =  math.pi * radius ** 2\n",
    "    circumference = 2 * math.pi * radius\n",
    "    return area,circumference\n",
    "a , c = circle_stats(2)\n",
    "print(f\"area is {a:.2f} and circumference is {c:.2f}\")"
   ]
  },
  {
   "cell_type": "code",
   "execution_count": null,
   "id": "41ea4636",
   "metadata": {},
   "outputs": [
    {
     "data": {
      "text/plain": [
       "'hello jamal!'"
      ]
     },
     "execution_count": 34,
     "metadata": {},
     "output_type": "execute_result"
    }
   ],
   "source": [
    "def greet(name = \"Abu zarrar\"):\n",
    "    return \"hello\" + \" \" + name + \"!\"\n",
    "greet()"
   ]
  },
  {
   "cell_type": "code",
   "execution_count": 35,
   "id": "2f618a0b",
   "metadata": {},
   "outputs": [
    {
     "data": {
      "text/plain": [
       "'hello jamal!'"
      ]
     },
     "execution_count": 35,
     "metadata": {},
     "output_type": "execute_result"
    }
   ],
   "source": [
    "def greet(name = \"Abu zarrar\"):\n",
    "    return \"hello\" + \" \" + name + \"!\"\n",
    "greet(\"jamal\")"
   ]
  }
 ],
 "metadata": {
  "kernelspec": {
   "display_name": "Python 3",
   "language": "python",
   "name": "python3"
  },
  "language_info": {
   "codemirror_mode": {
    "name": "ipython",
    "version": 3
   },
   "file_extension": ".py",
   "mimetype": "text/x-python",
   "name": "python",
   "nbconvert_exporter": "python",
   "pygments_lexer": "ipython3",
   "version": "3.13.2"
  }
 },
 "nbformat": 4,
 "nbformat_minor": 5
}
