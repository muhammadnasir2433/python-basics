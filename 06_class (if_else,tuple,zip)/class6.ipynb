{
 "cells": [
  {
   "cell_type": "markdown",
   "id": "b76da737",
   "metadata": {},
   "source": [
    "# if_else_elif\n",
    "## syntix\n",
    "\n",
    " ```\n",
    " if  logic:\n",
    "    true_block\n",
    "else:\n",
    "     false_block ``` \n"
   ]
  },
  {
   "cell_type": "markdown",
   "id": "084cffca",
   "metadata": {},
   "source": [
    "# comprehensive if_else \n",
    "\n",
    "```\n",
    "true_block if logic else false block\n",
    "\n",
    "```\n",
    "* if\n",
    "* if-else\n",
    "* if-else-elif"
   ]
  },
  {
   "cell_type": "code",
   "execution_count": 7,
   "id": "9277bf75",
   "metadata": {},
   "outputs": [
    {
     "name": "stdout",
     "output_type": "stream",
     "text": [
      "islam zindaabad\n"
     ]
    }
   ],
   "source": [
    "if True:\n",
    "    print(\"islam zindaabad\")\n",
    "else:\n",
    "    print(\"hello world!\")"
   ]
  },
  {
   "cell_type": "code",
   "execution_count": 8,
   "id": "6fea8480",
   "metadata": {},
   "outputs": [
    {
     "name": "stdout",
     "output_type": "stream",
     "text": [
      "hello world!\n"
     ]
    }
   ],
   "source": [
    "if False:\n",
    "    print(\"islam zindaabad\")\n",
    "else:\n",
    "    print(\"hello world!\")"
   ]
  },
  {
   "cell_type": "code",
   "execution_count": 9,
   "id": "569a21cf",
   "metadata": {},
   "outputs": [
    {
     "name": "stdout",
     "output_type": "stream",
     "text": [
      "hello world!\n"
     ]
    }
   ],
   "source": [
    "#       true block          logic                false block\n",
    "print(\"islam zindaabad\") if False else print(\"hello world!\")"
   ]
  },
  {
   "cell_type": "code",
   "execution_count": 10,
   "id": "c8dd3ac7",
   "metadata": {},
   "outputs": [
    {
     "name": "stdout",
     "output_type": "stream",
     "text": [
      "islam zindaabad\n"
     ]
    }
   ],
   "source": [
    "print(\"islam zindaabad\") if True else print(\"hello world!\")"
   ]
  },
  {
   "cell_type": "markdown",
   "id": "ecdbff5a",
   "metadata": {},
   "source": [
    "# compersion operators\n",
    "* ==\n",
    "* <>\n",
    "* =<\n",
    "* =>\n",
    "* !=\n",
    "\n",
    "## logic\n",
    "* and \n",
    "* or\n",
    "* not\n",
    "\n"
   ]
  },
  {
   "cell_type": "code",
   "execution_count": 11,
   "id": "4628df07",
   "metadata": {},
   "outputs": [
    {
     "name": "stdout",
     "output_type": "stream",
     "text": [
      "walamba\n",
      "1\n",
      "2\n"
     ]
    }
   ],
   "source": [
    "if True:\n",
    "    print(\"walamba\") # YE TAB CHALE GA JAB TRUE HO\n",
    "print(1)\n",
    "print(2)\n"
   ]
  },
  {
   "cell_type": "code",
   "execution_count": 12,
   "id": "32e04d1d",
   "metadata": {},
   "outputs": [
    {
     "name": "stdout",
     "output_type": "stream",
     "text": [
      "1\n",
      "2\n"
     ]
    }
   ],
   "source": [
    "# if as an  indivaidual\n",
    "if False:\n",
    "    print(\"walamba\") # AGAR FALSE HO TO NAHI CHALE GA\n",
    "print(1)\n",
    "print(2)\n"
   ]
  },
  {
   "cell_type": "code",
   "execution_count": 13,
   "id": "b275e483",
   "metadata": {},
   "outputs": [
    {
     "name": "stdout",
     "output_type": "stream",
     "text": [
      "True_block\n"
     ]
    }
   ],
   "source": [
    "if True:\n",
    "    print(\"True_block\")\n",
    "elif False:\n",
    "    print(\"elif logic1\")\n",
    "elif False:\n",
    "    print(\"elif logic2\")\n",
    "elif False:\n",
    "    print(\"elif logic3\")\n",
    "else:\n",
    "    print(\"final else block\")\n"
   ]
  },
  {
   "cell_type": "code",
   "execution_count": 14,
   "id": "8de8ec2d",
   "metadata": {},
   "outputs": [
    {
     "name": "stdout",
     "output_type": "stream",
     "text": [
      "elif logic1\n"
     ]
    }
   ],
   "source": [
    "if False:\n",
    "    print(\"True_block\")\n",
    "elif True:\n",
    "    print(\"elif logic1\")\n",
    "elif False:\n",
    "    print(\"elif logic2\")\n",
    "elif False:\n",
    "    print(\"elif logic3\")\n",
    "else:\n",
    "    print(\"final else block\")\n"
   ]
  },
  {
   "cell_type": "code",
   "execution_count": 15,
   "id": "018fd883",
   "metadata": {},
   "outputs": [
    {
     "name": "stdout",
     "output_type": "stream",
     "text": [
      "elif logic2\n",
      "elif logic3\n",
      "islam zindabad\n"
     ]
    }
   ],
   "source": [
    "# chain 1 run only one block\n",
    "if False:\n",
    "    print(\"True_block\")\n",
    "elif False:\n",
    "    print(\"elif logic1\")\n",
    "elif True:\n",
    "    print(\"elif logic2\")\n",
    "elif True:\n",
    "    print(\"elif logic3\")\n",
    "else:\n",
    "    print(\"final else block\")\n",
    "\n",
    "    # chain 2 run only one block\n",
    "if False:\n",
    "    print(\"True_block\")\n",
    "elif False:\n",
    "    print(\"elif logic1\")\n",
    "elif False:\n",
    "    print(\"elif logic2\")\n",
    "elif True:\n",
    "    print(\"elif logic3\")\n",
    "else:\n",
    "    print(\"final else block\")\n",
    "print(\"islam zindabad\")"
   ]
  },
  {
   "cell_type": "code",
   "execution_count": 16,
   "id": "508db1d5",
   "metadata": {},
   "outputs": [
    {
     "name": "stdout",
     "output_type": "stream",
     "text": [
      "elif logic3\n"
     ]
    }
   ],
   "source": [
    "if False:\n",
    "    print(\"True_block\")\n",
    "elif False:\n",
    "    print(\"elif logic1\")\n",
    "elif False:\n",
    "    print(\"elif logic2\")\n",
    "elif True:\n",
    "    print(\"elif logic3\")\n",
    "else:\n",
    "    print(\"final else block\")\n"
   ]
  },
  {
   "cell_type": "code",
   "execution_count": 17,
   "id": "04b25e90",
   "metadata": {},
   "outputs": [
    {
     "name": "stdout",
     "output_type": "stream",
     "text": [
      "final else block\n",
      "islam zindabad\n"
     ]
    }
   ],
   "source": [
    "if False:\n",
    "    print(\"True_block\")\n",
    "elif False:\n",
    "    print(\"elif logic1\")\n",
    "elif False:\n",
    "    print(\"elif logic2\")\n",
    "elif False:\n",
    "    print(\"elif logic3\")\n",
    "else:\n",
    "    print(\"final else block\")\n",
    "print(\"islam zindabad\")\n"
   ]
  },
  {
   "cell_type": "code",
   "execution_count": 18,
   "id": "58c3a83b",
   "metadata": {},
   "outputs": [
    {
     "name": "stdout",
     "output_type": "stream",
     "text": [
      "Dear student your calculated percentage is 70 Now your calculated grad is A\n"
     ]
    }
   ],
   "source": [
    "from typing import Union\n",
    "per : Union[int, float] = int(input(\"Enter your numbers\"))\n",
    "\n",
    "grade : Union[str ,None] = None\n",
    "# grade : str | None = None # is ke saat aik optional bhi hota hai jo k by default None hota hai\n",
    "if per >= 80:\n",
    "    grade = \"A+\"\n",
    "elif per >= 70:\n",
    "    grade = \"A\"\n",
    "elif per >= 60:\n",
    "    grade = \"B\"\n",
    "elif per >= 50:\n",
    "    grade = \"C\"\n",
    "elif per >= 40:\n",
    "    grade = \"D\"\n",
    "elif per >= 33:\n",
    "    grade = \"E\"\n",
    "else:\n",
    "    grade = \"Fail\"\n",
    "print(f\"Dear student your calculated percentage is {per} Now your calculated grad is {grade}\")"
   ]
  },
  {
   "cell_type": "markdown",
   "id": "1cba7bab",
   "metadata": {},
   "source": [
    "# Logical error"
   ]
  },
  {
   "cell_type": "code",
   "execution_count": 19,
   "id": "557ce4a7",
   "metadata": {},
   "outputs": [
    {
     "name": "stdout",
     "output_type": "stream",
     "text": [
      "Dear student your calculated percentage is 33 Now your calculated grad is fail\n"
     ]
    }
   ],
   "source": [
    "from typing import Union\n",
    "per : Union[int, float] = int(input(\"Enter your numbers\"))\n",
    "\n",
    "grade : Union[str ,None] = None\n",
    "if per >= 0: # first block tru ho gai tho ye exicute ho gaya 99 tho 0 se greater hai is liye\n",
    "    grade = \"fail\"\n",
    "elif per >= 33:\n",
    "    grade = \"E\"\n",
    "elif per >= 40:\n",
    "    grade = \"D\"\n",
    "elif per >= 50:\n",
    "    grade = \"C\"\n",
    "elif per >= 60:\n",
    "    grade = \"B\"\n",
    "elif per >= 70:\n",
    "    grade = \"A\"\n",
    "else:\n",
    "    grade = \"A+\"\n",
    "print(f\"Dear student your calculated percentage is {per} Now your calculated grad is {grade}\")\n",
    "\n",
    "\n"
   ]
  },
  {
   "cell_type": "code",
   "execution_count": 20,
   "id": "b0fe0020",
   "metadata": {},
   "outputs": [
    {
     "name": "stdout",
     "output_type": "stream",
     "text": [
      "Dear student your calculated percentage is 40 Now your calculated grad is D\n"
     ]
    }
   ],
   "source": [
    "# logical error ko fix karne ka tareeqa ye hai k less then wala part bhi add karo\n",
    "from typing import Union\n",
    "per : Union[int, float] = int(input(\"Enter your numbers\"))\n",
    "\n",
    "grade : Union[str ,None] = None\n",
    "if per >= 0 and per < 33: \n",
    "    grade = \"fail\"\n",
    "elif per >= 33 and per < 40:\n",
    "    grade = \"E\"\n",
    "elif per >= 40 and per < 50:\n",
    "    grade = \"D\"\n",
    "elif per >= 50 and per < 60:\n",
    "    grade = \"C\"\n",
    "elif per >= 60 and per < 70:\n",
    "    grade = \"B\"\n",
    "elif per >= 70 and per < 80:\n",
    "    grade = \"A\"\n",
    "elif per >=80 and per <= 100:\n",
    "    grade = \"A+\"\n",
    "print(f\"Dear student your calculated percentage is {per} Now your calculated grad is {grade}\")\n"
   ]
  },
  {
   "cell_type": "code",
   "execution_count": 21,
   "id": "ce2ed203",
   "metadata": {},
   "outputs": [
    {
     "name": "stdout",
     "output_type": "stream",
     "text": [
      "Dear student your calculated percentage is 50.0 Now your calculated grad is C\n"
     ]
    }
   ],
   "source": [
    "# logic likne mai koshish kare ke PEMDA rule ke tahat like \n",
    "\n",
    "from typing import Union\n",
    "per : Union[int, float] = float(input(\"Enter your numbers\"))\n",
    "\n",
    "grade : Union[str ,None] = None\n",
    "if (per >= 0) and (per < 33): \n",
    "    grade = \"fail\"\n",
    "elif (per >= 33) (per < 40):\n",
    "    grade = \"E\"\n",
    "elif (per >= 40) and (per < 50):\n",
    "    grade = \"D\"\n",
    "elif (per >= 50) and (per < 60):\n",
    "    grade = \"C\"\n",
    "elif (per >= 60) and (per < 70):\n",
    "    grade = \"B\"\n",
    "elif (per >= 70) and (per < 80):\n",
    "    grade = \"A\"\n",
    "elif (per >=80) and (per <= 100):\n",
    "    grade = \"A+\"\n",
    "print(f\"Dear student your calculated percentage is {per} Now your calculated grad is {grade}\")\n"
   ]
  },
  {
   "cell_type": "code",
   "execution_count": null,
   "id": "4330049d",
   "metadata": {},
   "outputs": [
    {
     "name": "stdout",
     "output_type": "stream",
     "text": [
      "[88, 99.9, 50, 51, 65, 70]\n",
      "['A+', 'A+', 'C', 'C', 'B', 'A']\n"
     ]
    },
    {
     "data": {
      "text/plain": [
       "[(88, 'A+'), (99.9, 'A+'), (50, 'C'), (51, 'C'), (65, 'B'), (70, 'A')]"
      ]
     },
     "execution_count": 39,
     "metadata": {},
     "output_type": "execute_result"
    }
   ],
   "source": [
    "from typing import Union\n",
    "pertype = Union[float , int]\n",
    "\n",
    "percentages : list[pertype] = [88, 99.9, 50, 51, 65, 70]\n",
    "\n",
    "grades : list[str] = []\n",
    "\n",
    "for per in percentages:\n",
    "    grade : str = \"\" \n",
    "    if (per >= 0) and (per < 33): \n",
    "        grade = \"fail\"\n",
    "    elif (per >= 33) and (per < 40):\n",
    "        grade = \"E\"\n",
    "    elif (per >= 40) and (per < 50):\n",
    "        grade = \"D\"\n",
    "    elif (per >= 50) and (per < 60):\n",
    "        grade = \"C\"\n",
    "    elif (per >= 60) and (per < 70):\n",
    "        grade = \"B\"\n",
    "    elif (per >= 70) and (per < 80):\n",
    "        grade = \"A\"\n",
    "    elif (per >=80) and (per <= 100):\n",
    "        grade = \"A+\"\n",
    "    grades.append(grade)\n",
    "print(percentages)\n",
    "print(grades)\n",
    "list(zip(percentages,grades))"
   ]
  },
  {
   "cell_type": "code",
   "execution_count": 23,
   "id": "5863ad2d",
   "metadata": {},
   "outputs": [
    {
     "data": {
      "text/plain": [
       "[(88, 'A+'), (99.9, 'A+'), (50, 'C'), (51, 'C'), (65, 'B'), (70, 'A')]"
      ]
     },
     "execution_count": 23,
     "metadata": {},
     "output_type": "execute_result"
    }
   ],
   "source": [
    "list(zip(percentages,grades))"
   ]
  },
  {
   "cell_type": "code",
   "execution_count": 24,
   "id": "0effaf57",
   "metadata": {},
   "outputs": [
    {
     "data": {
      "text/plain": [
       "[0, 1, 2, 3, 4, 5]"
      ]
     },
     "execution_count": 24,
     "metadata": {},
     "output_type": "execute_result"
    }
   ],
   "source": [
    "roll_no : list[int] = list(range(len(percentages)))\n",
    "roll_no"
   ]
  },
  {
   "cell_type": "code",
   "execution_count": 25,
   "id": "0dbf21b4",
   "metadata": {},
   "outputs": [
    {
     "data": {
      "text/plain": [
       "[(0, 88, 'A+'),\n",
       " (1, 99.9, 'A+'),\n",
       " (2, 50, 'C'),\n",
       " (3, 51, 'C'),\n",
       " (4, 65, 'B'),\n",
       " (5, 70, 'A')]"
      ]
     },
     "execution_count": 25,
     "metadata": {},
     "output_type": "execute_result"
    }
   ],
   "source": [
    "data_base = list(zip(roll_no , percentages , grades))\n",
    "data_base"
   ]
  },
  {
   "cell_type": "code",
   "execution_count": 26,
   "id": "f779dd06",
   "metadata": {},
   "outputs": [
    {
     "data": {
      "text/plain": [
       "[(0, 88, 'A+'),\n",
       " (1, 99.9, 'A+'),\n",
       " (2, 50, 'C'),\n",
       " (3, 51, 'C'),\n",
       " (4, 65, 'B'),\n",
       " (5, 70, 'A')]"
      ]
     },
     "metadata": {},
     "output_type": "display_data"
    },
    {
     "data": {
      "text/plain": [
       "[(0, 88, 'A+'),\n",
       " (1, 99.9, 'A+'),\n",
       " (2, 50, 'C'),\n",
       " (3, 51, 'C'),\n",
       " (4, 65, 'B'),\n",
       " (5, 70, 'A')]"
      ]
     },
     "execution_count": 26,
     "metadata": {},
     "output_type": "execute_result"
    }
   ],
   "source": [
    "display(data_base)\n",
    "sorted(data_base)"
   ]
  },
  {
   "cell_type": "code",
   "execution_count": 27,
   "id": "5a967c96",
   "metadata": {},
   "outputs": [
    {
     "data": {
      "text/plain": [
       "[(0, 88, 'A+'),\n",
       " (1, 99.9, 'A+'),\n",
       " (2, 50, 'C'),\n",
       " (3, 51, 'C'),\n",
       " (4, 65, 'B'),\n",
       " (5, 70, 'A')]"
      ]
     },
     "metadata": {},
     "output_type": "display_data"
    },
    {
     "data": {
      "text/plain": [
       "[(2, 50, 'C'),\n",
       " (3, 51, 'C'),\n",
       " (4, 65, 'B'),\n",
       " (5, 70, 'A'),\n",
       " (0, 88, 'A+'),\n",
       " (1, 99.9, 'A+')]"
      ]
     },
     "execution_count": 27,
     "metadata": {},
     "output_type": "execute_result"
    }
   ],
   "source": [
    "display(data_base)\n",
    "sorted(data_base, key=lambda x:x[1])"
   ]
  },
  {
   "cell_type": "code",
   "execution_count": 41,
   "id": "556a14b1",
   "metadata": {},
   "outputs": [
    {
     "data": {
      "text/plain": [
       "[(0, 88, 'A+'),\n",
       " (1, 99.9, 'A+'),\n",
       " (2, 50, 'C'),\n",
       " (3, 51, 'C'),\n",
       " (4, 65, 'B'),\n",
       " (5, 70, 'A')]"
      ]
     },
     "metadata": {},
     "output_type": "display_data"
    },
    {
     "data": {
      "text/plain": [
       "[(1, 99.9, 'A+'),\n",
       " (0, 88, 'A+'),\n",
       " (5, 70, 'A'),\n",
       " (4, 65, 'B'),\n",
       " (3, 51, 'C'),\n",
       " (2, 50, 'C')]"
      ]
     },
     "execution_count": 41,
     "metadata": {},
     "output_type": "execute_result"
    }
   ],
   "source": [
    "display(data_base)\n",
    "sorted(data_base, key=lambda x:x[1] ,reverse=True)"
   ]
  },
  {
   "cell_type": "code",
   "execution_count": 65,
   "id": "293f8e3c",
   "metadata": {},
   "outputs": [
    {
     "name": "stdout",
     "output_type": "stream",
     "text": [
      "That is not the correct answer. Please try again!\n"
     ]
    }
   ],
   "source": [
    "answer = 17\n",
    "if answer != 42:\n",
    "    print(\"That is not the correct answer. Please try again!\")"
   ]
  },
  {
   "cell_type": "code",
   "execution_count": 66,
   "id": "f6fa8e08",
   "metadata": {},
   "outputs": [
    {
     "name": "stdout",
     "output_type": "stream",
     "text": [
      "Audi\n",
      "BMW\n",
      "Subaru\n",
      "Toyota\n"
     ]
    }
   ],
   "source": [
    "cars = ['audi', 'bmw', 'subaru', 'toyota']\n",
    "for car in cars:\n",
    "    if car == 'bmw':\n",
    "        print(car.upper())\n",
    "    else:\n",
    "        print(car.title())"
   ]
  },
  {
   "cell_type": "code",
   "execution_count": 67,
   "id": "f78105b4",
   "metadata": {},
   "outputs": [
    {
     "data": {
      "text/plain": [
       "False"
      ]
     },
     "execution_count": 67,
     "metadata": {},
     "output_type": "execute_result"
    }
   ],
   "source": [
    "cars = ['audi', 'bmw', 'subaru', 'toyota']\n",
    "'mehran' in cars"
   ]
  },
  {
   "cell_type": "code",
   "execution_count": 68,
   "id": "fed8831b",
   "metadata": {},
   "outputs": [
    {
     "data": {
      "text/plain": [
       "True"
      ]
     },
     "execution_count": 68,
     "metadata": {},
     "output_type": "execute_result"
    }
   ],
   "source": [
    "cars = ['audi', 'bmw', 'subaru', 'toyota']\n",
    "'bmw' in cars"
   ]
  },
  {
   "cell_type": "code",
   "execution_count": 74,
   "id": "767915fd",
   "metadata": {},
   "outputs": [
    {
     "name": "stdout",
     "output_type": "stream",
     "text": [
      "Nasar, you can post a response if you wish\n"
     ]
    }
   ],
   "source": [
    "banned_users : list[str] = [\"mustafa\", \"jamal\", \"habib\"]\n",
    "user : str = \"nasar\"\n",
    "if user not in banned_users:\n",
    "    print(f\"{user.title()}, you can post a response if you wish\")"
   ]
  },
  {
   "cell_type": "code",
   "execution_count": 77,
   "id": "22db17c9",
   "metadata": {},
   "outputs": [
    {
     "name": "stdout",
     "output_type": "stream",
     "text": [
      "Sorry, you are too young to vote.\n",
      "Please register to vote as soon as you turn 18!\n"
     ]
    }
   ],
   "source": [
    "age = 17\n",
    "if age >= 18:\n",
    "    print(\"You are old enough to vote!\")\n",
    "    print(\"Have you registered to vote yet?\")\n",
    "else:\n",
    "    print(\"Sorry, you are too young to vote.\")\n",
    "    print(\"Please register to vote as soon as you turn 18!\")"
   ]
  },
  {
   "cell_type": "code",
   "execution_count": 78,
   "id": "908fb25b",
   "metadata": {},
   "outputs": [
    {
     "name": "stdout",
     "output_type": "stream",
     "text": [
      "You are old enough to vote!\n",
      "Have you registered to vote yet?\n"
     ]
    }
   ],
   "source": [
    "age = 20\n",
    "if age >= 18:\n",
    "    print(\"You are old enough to vote!\")\n",
    "    print(\"Have you registered to vote yet?\")\n",
    "else:\n",
    "    print(\"Sorry, you are too young to vote.\")\n",
    "    print(\"Please register to vote as soon as you turn 18!\")"
   ]
  },
  {
   "cell_type": "code",
   "execution_count": 79,
   "id": "6be00ab8",
   "metadata": {},
   "outputs": [
    {
     "name": "stdout",
     "output_type": "stream",
     "text": [
      "Adding mushrooms.\n",
      "Adding extra cheese.\n",
      "\n",
      "Finished making your pizza!\n"
     ]
    }
   ],
   "source": [
    "requested_toppings = ['mushrooms', 'extra cheese']\n",
    "if 'mushrooms' in requested_toppings:\n",
    "    print(\"Adding mushrooms.\")\n",
    "if 'pepperoni' in requested_toppings:\n",
    "    print(\"Adding pepperoni.\")\n",
    "if 'extra cheese' in requested_toppings:\n",
    "    print(\"Adding extra cheese.\")\n",
    "print(\"\\nFinished making your pizza!\")"
   ]
  },
  {
   "cell_type": "code",
   "execution_count": 80,
   "id": "7b5f188d",
   "metadata": {},
   "outputs": [
    {
     "name": "stdout",
     "output_type": "stream",
     "text": [
      "Adding mushrooms.\n",
      "Sorry, we don't have french fries.\n",
      "Adding extra cheese.\n",
      "\n",
      "Finished making your pizza!\n"
     ]
    }
   ],
   "source": [
    "available_toppings = ['mushrooms', 'olives', 'green peppers',\n",
    "                      'pepperoni', 'pineapple', 'extra cheese']\n",
    "requested_toppings = ['mushrooms', 'french fries', 'extra cheese']# user input\n",
    "for requested_topping in requested_toppings:\n",
    "   if requested_topping in available_toppings:\n",
    "        print(f\"Adding {requested_topping}.\")\n",
    "   else:\n",
    "        print(f\"Sorry, we don't have {requested_topping}.\")\n",
    "print(\"\\nFinished making your pizza!\")"
   ]
  },
  {
   "cell_type": "code",
   "execution_count": 84,
   "id": "456df1b3",
   "metadata": {},
   "outputs": [
    {
     "name": "stdout",
     "output_type": "stream",
     "text": [
      "dafa ho\n"
     ]
    }
   ],
   "source": [
    "user_name : str = input(\"Enter your name\")\n",
    "user_password : str = input(\"Enter your password\")\n",
    "\n",
    "if user_name == \"nasar\" and user_password == '9999':\n",
    "    print(\"sent otp on you registerd number\")\n",
    "    otp : str = input(\"please enter otp\")\n",
    "    if otp == '321':\n",
    "        print(\"welcome to Forsight\")\n",
    "else:\n",
    "    print(\"dafa ho\")"
   ]
  }
 ],
 "metadata": {
  "kernelspec": {
   "display_name": "Python 3",
   "language": "python",
   "name": "python3"
  },
  "language_info": {
   "codemirror_mode": {
    "name": "ipython",
    "version": 3
   },
   "file_extension": ".py",
   "mimetype": "text/x-python",
   "name": "python",
   "nbconvert_exporter": "python",
   "pygments_lexer": "ipython3",
   "version": "3.13.2"
  }
 },
 "nbformat": 4,
 "nbformat_minor": 5
}
