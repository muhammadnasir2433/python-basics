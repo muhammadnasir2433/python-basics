{
 "cells": [
  {
   "cell_type": "markdown",
   "id": "9b681007",
   "metadata": {},
   "source": [
    "# Functions\n",
    "* Pre-defined functions\n",
    "    * Provided by in language\n",
    "* User-defined functions\n",
    "    Custom functions\n",
    "## similar properties on both type\n",
    "* Return and None-return function\n",
    "    * Return\n",
    "        * we can assign this function output in any variable\n",
    "    * None-return\n",
    "        * only run we cant assign value to variable \n",
    "\n",
    "## Components\n",
    "* Function declaration\n",
    "* Function body\n",
    "* Function calling\n",
    "\n",
    "\n",
    "### Syntax of function\n",
    "```\n",
    "def function_name(param1:type, param2:type,....) --> return type:\n",
    "    function_body\n",
    "\n",
    "function_name(arg1,arg2)\n",
    "\n",
    "```\n",
    "## lambda function syantx\n",
    "* one line function \n",
    "* without name function\n",
    "* inly use in this line \n",
    "\n",
    "```\n",
    "labda param1, param2 : function_body\n",
    "\n",
    "```\n",
    "\n"
   ]
  },
  {
   "cell_type": "markdown",
   "id": "cd9ffd79",
   "metadata": {},
   "source": [
    "# Pre-defined function\n",
    "* print\n",
    "* len\n",
    "* id\n",
    "* dir\n",
    "* chr\n",
    "* ord\n",
    "* exec"
   ]
  },
  {
   "cell_type": "markdown",
   "id": "c59cb5e2",
   "metadata": {},
   "source": [
    "# Retrun and None-Return function"
   ]
  },
  {
   "cell_type": "code",
   "execution_count": 2,
   "id": "0194ed46",
   "metadata": {},
   "outputs": [
    {
     "name": "stdout",
     "output_type": "stream",
     "text": [
      "Farsight\n"
     ]
    },
    {
     "data": {
      "text/plain": [
       "None"
      ]
     },
     "metadata": {},
     "output_type": "display_data"
    }
   ],
   "source": [
    "a : str = print(\"Farsight\") # ye none return function hai\n",
    "\n",
    "display(a)"
   ]
  },
  {
   "cell_type": "code",
   "execution_count": 66,
   "id": "f3db8df5",
   "metadata": {},
   "outputs": [
    {
     "data": {
      "text/plain": [
       "7"
      ]
     },
     "metadata": {},
     "output_type": "display_data"
    }
   ],
   "source": [
    "a : int = len(\"mustafa\") # a = y return \n",
    "display(a)"
   ]
  },
  {
   "cell_type": "markdown",
   "id": "4a4051a7",
   "metadata": {},
   "source": [
    "## Components\n",
    "* Function declaration\n",
    "    * Function Name  -> name reserved nahi hona chahiye\n",
    "    * Parameters\n",
    "        * param : type\n",
    "    * return output type\n",
    "* Function body\n",
    "    * any business logic write here\n",
    "* Function calling\n",
    "    * function(arg1,arg2)\n",
    "\n",
    "\n",
    "### Syntax of function\n",
    "```\n",
    "def function_name(param1:type, param2:type,....) --> return type:\n",
    "    function_body\n",
    "\n",
    "function_name(arg1,arg2)\n",
    "\n",
    "```"
   ]
  },
  {
   "cell_type": "markdown",
   "id": "c1357702",
   "metadata": {},
   "source": [
    "### creat a simple funcction without any argument(default function)"
   ]
  },
  {
   "cell_type": "code",
   "execution_count": 5,
   "id": "d76b9783",
   "metadata": {},
   "outputs": [
    {
     "name": "stdout",
     "output_type": "stream",
     "text": [
      "Welcome to farsight institute\n",
      "How can i help you\n"
     ]
    }
   ],
   "source": [
    "def farsight(): # Decleration\n",
    "    # Function body start \n",
    "    print(\"Welcome to farsight institute\")\n",
    "    print(\"How can i help you\")\n",
    "    # Function body end\n",
    "# function recalling     \n",
    "farsight()"
   ]
  },
  {
   "cell_type": "code",
   "execution_count": 7,
   "id": "1a4e8e67",
   "metadata": {},
   "outputs": [
    {
     "name": "stdout",
     "output_type": "stream",
     "text": [
      "Welcome to farsight institute\n",
      "How can i help you\n",
      "Welcome to farsight institute\n",
      "How can i help you\n"
     ]
    }
   ],
   "source": [
    "farsight()\n",
    "farsight()"
   ]
  },
  {
   "cell_type": "markdown",
   "id": "7f3f3a0c",
   "metadata": {},
   "source": [
    "# Requird parameter function"
   ]
  },
  {
   "cell_type": "code",
   "execution_count": 9,
   "id": "7d4f481d",
   "metadata": {},
   "outputs": [
    {
     "data": {
      "text/plain": [
       "9"
      ]
     },
     "execution_count": 9,
     "metadata": {},
     "output_type": "execute_result"
    }
   ],
   "source": [
    "def add_two_numbers(num1 : int, num2 :int)->int:\n",
    "    return num1 + num2\n",
    "add_two_numbers(7,2)"
   ]
  },
  {
   "cell_type": "code",
   "execution_count": 10,
   "id": "c6c5b51b",
   "metadata": {},
   "outputs": [
    {
     "ename": "TypeError",
     "evalue": "add_two_numbers() missing 1 required positional argument: 'num2'",
     "output_type": "error",
     "traceback": [
      "\u001b[31m---------------------------------------------------------------------------\u001b[39m",
      "\u001b[31mTypeError\u001b[39m                                 Traceback (most recent call last)",
      "\u001b[36mCell\u001b[39m\u001b[36m \u001b[39m\u001b[32mIn[10]\u001b[39m\u001b[32m, line 3\u001b[39m\n\u001b[32m      1\u001b[39m \u001b[38;5;28;01mdef\u001b[39;00m\u001b[38;5;250m \u001b[39m\u001b[34madd_two_numbers\u001b[39m(num1 : \u001b[38;5;28mint\u001b[39m, num2 :\u001b[38;5;28mint\u001b[39m)->\u001b[38;5;28mint\u001b[39m:\n\u001b[32m      2\u001b[39m     \u001b[38;5;28;01mreturn\u001b[39;00m num1 + num2\n\u001b[32m----> \u001b[39m\u001b[32m3\u001b[39m \u001b[43madd_two_numbers\u001b[49m\u001b[43m(\u001b[49m\u001b[32;43m7\u001b[39;49m\u001b[43m)\u001b[49m\n",
      "\u001b[31mTypeError\u001b[39m: add_two_numbers() missing 1 required positional argument: 'num2'"
     ]
    }
   ],
   "source": [
    "def add_two_numbers(num1 : int, num2 :int)->int:\n",
    "    return num1 + num2\n",
    "add_two_numbers(7)"
   ]
  },
  {
   "cell_type": "markdown",
   "id": "c3a2ebd0",
   "metadata": {},
   "source": [
    "# function with optional parameter"
   ]
  },
  {
   "cell_type": "code",
   "execution_count": null,
   "id": "274c57ae",
   "metadata": {},
   "outputs": [
    {
     "data": {
      "text/plain": [
       "7"
      ]
     },
     "execution_count": 14,
     "metadata": {},
     "output_type": "execute_result"
    }
   ],
   "source": [
    "def add_two_numbers(num1 : int, num2 :int = 0)->int:\n",
    "    return num1 + num2\n",
    "add_two_numbers(7)"
   ]
  },
  {
   "cell_type": "code",
   "execution_count": 15,
   "id": "a38bd2f6",
   "metadata": {},
   "outputs": [
    {
     "name": "stdout",
     "output_type": "stream",
     "text": [
      "num1 value is 4 num2 value is 7\n"
     ]
    },
    {
     "data": {
      "text/plain": [
       "11"
      ]
     },
     "execution_count": 15,
     "metadata": {},
     "output_type": "execute_result"
    }
   ],
   "source": [
    "def add_two_numbers(num1 : int, num2 :int = 0)->int:\n",
    "    print(f\"num1 value is {num1} num2 value is {num2}\")\n",
    "    return num1 + num2\n",
    "add_two_numbers(num2=7,num1=4)"
   ]
  },
  {
   "cell_type": "markdown",
   "id": "4f1e8ded",
   "metadata": {},
   "source": [
    "## lambda function syantx\n",
    "* one line function \n",
    "* without name function\n",
    "* inly use in this line \n",
    "\n",
    "```\n",
    "labda param1, param2 : function_body\n",
    "\n",
    "```"
   ]
  },
  {
   "cell_type": "code",
   "execution_count": null,
   "id": "0c2c6a48",
   "metadata": {},
   "outputs": [
    {
     "name": "stdout",
     "output_type": "stream",
     "text": [
      "10\n"
     ]
    }
   ],
   "source": [
    "a = lambda num1, num2: num1 + num2\n",
    "add = a(5,5)\n",
    "print(add)"
   ]
  },
  {
   "cell_type": "code",
   "execution_count": null,
   "id": "b738b280",
   "metadata": {},
   "outputs": [
    {
     "name": "stdout",
     "output_type": "stream",
     "text": [
      "69\n"
     ]
    }
   ],
   "source": [
    "from typing import Callable\n",
    "\n",
    "add : Callable[[int,int],int] = lambda x,y : x + y\n",
    "result = add(19,50)\n",
    "print(result)   x"
   ]
  },
  {
   "cell_type": "code",
   "execution_count": null,
   "id": "3ecf5721",
   "metadata": {},
   "outputs": [
    {
     "data": {
      "text/plain": [
       "[1, 4, 9, 16, 25, 36, 49, 64, 81, 100]"
      ]
     },
     "execution_count": 23,
     "metadata": {},
     "output_type": "execute_result"
    }
   ],
   "source": [
    "data : list[int] = [1,2,3,4,5,6,7,8,9,10]\n",
    "data = list(map(lambda x:x**2 , data))\n",
    "data"
   ]
  },
  {
   "cell_type": "code",
   "execution_count": 75,
   "id": "a818ce98",
   "metadata": {},
   "outputs": [
    {
     "data": {
      "text/plain": [
       "[2, 4, 6, 8, 10]"
      ]
     },
     "execution_count": 75,
     "metadata": {},
     "output_type": "execute_result"
    }
   ],
   "source": [
    "data : list[int] = [1,2,3,4,5,6,7,8,9,10]\n",
    "data = list(filter(lambda x:x%2==0 , data))\n",
    "data"
   ]
  },
  {
   "cell_type": "code",
   "execution_count": null,
   "id": "d212aa05",
   "metadata": {},
   "outputs": [
    {
     "data": {
      "text/plain": [
       "[2,\n",
       " 4,\n",
       " 6,\n",
       " 8,\n",
       " 10,\n",
       " 12,\n",
       " 14,\n",
       " 16,\n",
       " 18,\n",
       " 20,\n",
       " 22,\n",
       " 24,\n",
       " 26,\n",
       " 28,\n",
       " 30,\n",
       " 32,\n",
       " 34,\n",
       " 36,\n",
       " 38,\n",
       " 40,\n",
       " 42,\n",
       " 44,\n",
       " 46,\n",
       " 48,\n",
       " 50,\n",
       " 52,\n",
       " 54,\n",
       " 56,\n",
       " 58,\n",
       " 60,\n",
       " 62,\n",
       " 64,\n",
       " 66,\n",
       " 68,\n",
       " 70,\n",
       " 72,\n",
       " 74,\n",
       " 76,\n",
       " 78,\n",
       " 80,\n",
       " 82,\n",
       " 84,\n",
       " 86,\n",
       " 88,\n",
       " 90,\n",
       " 92,\n",
       " 94,\n",
       " 96,\n",
       " 98,\n",
       " 100]"
      ]
     },
     "execution_count": 73,
     "metadata": {},
     "output_type": "execute_result"
    }
   ],
   "source": [
    "data : list[int] = list(filter(lambda x:x%2==0 , range(1,101)))\n",
    "data"
   ]
  },
  {
   "cell_type": "code",
   "execution_count": 78,
   "id": "23630a64",
   "metadata": {},
   "outputs": [
    {
     "name": "stdout",
     "output_type": "stream",
     "text": [
      "2\n",
      "4\n",
      "6\n",
      "8\n"
     ]
    }
   ],
   "source": [
    "data : list[int] = filter(lambda x:x%2==0 , range(1,101))\n",
    "data\n",
    "print(next(data))\n",
    "print(next(data))\n",
    "print(next(data))\n",
    "print(next(data))"
   ]
  },
  {
   "cell_type": "code",
   "execution_count": null,
   "id": "8433c912",
   "metadata": {},
   "outputs": [
    {
     "name": "stdout",
     "output_type": "stream",
     "text": [
      "69\n"
     ]
    }
   ],
   "source": [
    "from typing import Callable\n",
    "\n",
    "add : Callable[[int,int],int] = lambda x,y : x + y\n",
    "result = add(19,50)\n",
    "print(result) "
   ]
  },
  {
   "cell_type": "markdown",
   "id": "bb31bbe9",
   "metadata": {},
   "source": [
    "## generator function\n",
    "```\n",
    "def my_range(start: int , end : int , step : int)\n",
    "```\n",
    "* iterate on elements one by one\n",
    "* stop after each iteration\n",
    "* remembers old iteration value(last iterate value)\n",
    "* next iteration\n",
    "    * go farward from last iterate value"
   ]
  },
  {
   "cell_type": "code",
   "execution_count": null,
   "id": "f49c41b9",
   "metadata": {},
   "outputs": [
    {
     "name": "stdout",
     "output_type": "stream",
     "text": [
      "[1, 2, 3, 4, 5, 6, 7, 8, 9, 10]\n"
     ]
    }
   ],
   "source": [
    "def my_range(start: int , end : int , step : int=1):\n",
    "    for i in range(start,end+1,step):\n",
    "        yield i # generater funcrion ki pehchan\n",
    "a = my_range(1,10)\n",
    "print(list(a))"
   ]
  },
  {
   "cell_type": "code",
   "execution_count": null,
   "id": "054de6f1",
   "metadata": {},
   "outputs": [
    {
     "name": "stdout",
     "output_type": "stream",
     "text": [
      "[1, 2, 3, 4, 5, 6, 7, 8, 9, 10]\n"
     ]
    }
   ],
   "source": [
    "def my_range(start: int , end : int ):\n",
    "    for i in range(start,end+1):\n",
    "        yield i # generater funcrion ki pehchan\n",
    "a = my_range(1,10)\n",
    "print(list(a))\n"
   ]
  },
  {
   "cell_type": "code",
   "execution_count": null,
   "id": "ce652fe2",
   "metadata": {},
   "outputs": [
    {
     "name": "stdout",
     "output_type": "stream",
     "text": [
      "1\n",
      "2\n"
     ]
    }
   ],
   "source": [
    "a = my_range(1,10)\n",
    "print(next(a))\n",
    "print(next(a))\n"
   ]
  },
  {
   "cell_type": "code",
   "execution_count": null,
   "id": "84599703",
   "metadata": {},
   "outputs": [
    {
     "name": "stdout",
     "output_type": "stream",
     "text": [
      "1\n",
      "2\n",
      "3\n",
      "4\n",
      "5\n",
      "pakistan\n",
      "6\n",
      "7\n",
      "8\n",
      "9\n",
      "10\n"
     ]
    }
   ],
   "source": [
    "a = my_range(1,10)\n",
    "print(next(a))\n",
    "print(next(a))\n",
    "print(next(a))\n",
    "print(next(a))\n",
    "print(next(a))\n",
    "print(\"pakistan\")\n",
    "print(next(a))\n",
    "print(next(a))\n",
    "print(next(a))\n",
    "print(next(a))\n",
    "print(next(a))"
   ]
  },
  {
   "cell_type": "code",
   "execution_count": null,
   "id": "782bbd25",
   "metadata": {},
   "outputs": [
    {
     "name": "stdout",
     "output_type": "stream",
     "text": [
      "1\n",
      "2\n",
      "3\n",
      "<class 'generator'>\n"
     ]
    }
   ],
   "source": [
    "from collections.abc import Iterator\n",
    "\n",
    "def my_range(start: int , end : int )->Iterator[int]:\n",
    "    for i in range(start,end+1):\n",
    "        yield i # generater funcrion ki pehchan\n",
    "a : Iterator[int] = my_range(1,10)\n",
    "\n",
    "print(next(a))\n",
    "print(next(a))\n",
    "print(next(a))\n",
    "print(type(a))\n"
   ]
  },
  {
   "cell_type": "markdown",
   "id": "b4633516",
   "metadata": {},
   "source": [
    "## pass unlimited arguments"
   ]
  },
  {
   "cell_type": "code",
   "execution_count": 5,
   "id": "825d7130",
   "metadata": {},
   "outputs": [
    {
     "name": "stdout",
     "output_type": "stream",
     "text": [
      "(1, 2, 3, 4, 5, 6, 7) <class 'tuple'>\n"
     ]
    },
    {
     "data": {
      "text/plain": [
       "28"
      ]
     },
     "execution_count": 5,
     "metadata": {},
     "output_type": "execute_result"
    }
   ],
   "source": [
    "def abc(*nums):\n",
    "    print(nums,type(nums))\n",
    "    total = 0\n",
    "    for n in nums:\n",
    "        total += n\n",
    "    return total\n",
    "abc(1,2,3,4,5,6,7)"
   ]
  },
  {
   "cell_type": "code",
   "execution_count": 17,
   "id": "42ade7e0",
   "metadata": {},
   "outputs": [
    {
     "name": "stdout",
     "output_type": "stream",
     "text": [
      "{'a': 3, 'b': 7, 'c': 500, 'd': 8, 'name': 'nasar'} <class 'dict'>\n"
     ]
    }
   ],
   "source": [
    "def xyz(**kwargs):\n",
    "    print(kwargs,type(kwargs))\n",
    "\n",
    "xyz(a=3, b=7, c=500, d= 8, name=\"nasar\")"
   ]
  },
  {
   "cell_type": "code",
   "execution_count": 33,
   "id": "884abf9d",
   "metadata": {},
   "outputs": [
    {
     "name": "stdout",
     "output_type": "stream",
     "text": [
      "1 2 (4, 5, 6, 7) {'x': 5, 'y': 0, 'g': 5}\n"
     ]
    }
   ],
   "source": [
    "def my_function(a, b, *abc, **xyz):\n",
    "    print(a,b, abc, xyz)\n",
    "my_function(1,2, 4,5,6,7, x = 5, y = 0,g=5)  "
   ]
  },
  {
   "cell_type": "code",
   "execution_count": 35,
   "id": "43b93236",
   "metadata": {},
   "outputs": [
    {
     "name": "stdout",
     "output_type": "stream",
     "text": [
      "hello nasar\n",
      "hello mustafa\n",
      "hello jamal\n"
     ]
    }
   ],
   "source": [
    "from typing import Tuple\n",
    "\n",
    "def greet(*names:  Tuple[str, ...])->None:\n",
    "    for name in names:\n",
    "        print(\"hello\",name)\n",
    "greet(\"nasar\",\"mustafa\", \"jamal\")\n",
    "\n",
    "    "
   ]
  }
 ],
 "metadata": {
  "kernelspec": {
   "display_name": "Python 3",
   "language": "python",
   "name": "python3"
  },
  "language_info": {
   "codemirror_mode": {
    "name": "ipython",
    "version": 3
   },
   "file_extension": ".py",
   "mimetype": "text/x-python",
   "name": "python",
   "nbconvert_exporter": "python",
   "pygments_lexer": "ipython3",
   "version": "3.13.2"
  }
 },
 "nbformat": 4,
 "nbformat_minor": 5
}
