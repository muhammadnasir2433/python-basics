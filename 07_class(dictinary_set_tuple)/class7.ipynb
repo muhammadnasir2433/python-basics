{
 "cells": [
  {
   "cell_type": "code",
   "execution_count": null,
   "id": "2824ef46",
   "metadata": {},
   "outputs": [],
   "source": [
    "data : list[str] = [\"mustafa\", \"jamal\", \"nasir\"]\n",
    "print(data[0])"
   ]
  },
  {
   "cell_type": "code",
   "execution_count": 15,
   "id": "72e2a3a9",
   "metadata": {},
   "outputs": [
    {
     "name": "stdout",
     "output_type": "stream",
     "text": [
      "{1, 2, 3, 7}\n"
     ]
    }
   ],
   "source": [
    "data : set = {7,1,2,1,1,1,1,3,2}\n",
    "print(data)"
   ]
  },
  {
   "cell_type": "code",
   "execution_count": 16,
   "id": "2ee63b7c",
   "metadata": {},
   "outputs": [
    {
     "ename": "TypeError",
     "evalue": "'set' object is not subscriptable",
     "output_type": "error",
     "traceback": [
      "\u001b[31m---------------------------------------------------------------------------\u001b[39m",
      "\u001b[31mTypeError\u001b[39m                                 Traceback (most recent call last)",
      "\u001b[36mCell\u001b[39m\u001b[36m \u001b[39m\u001b[32mIn[16]\u001b[39m\u001b[32m, line 2\u001b[39m\n\u001b[32m      1\u001b[39m data : \u001b[38;5;28mset\u001b[39m = {\u001b[32m7\u001b[39m,\u001b[32m1\u001b[39m,\u001b[32m2\u001b[39m,\u001b[32m1\u001b[39m,\u001b[32m1\u001b[39m,\u001b[32m1\u001b[39m,\u001b[32m1\u001b[39m,\u001b[32m3\u001b[39m,\u001b[32m2\u001b[39m}\n\u001b[32m----> \u001b[39m\u001b[32m2\u001b[39m \u001b[38;5;28mprint\u001b[39m(\u001b[43mdata\u001b[49m\u001b[43m[\u001b[49m\u001b[32;43m0\u001b[39;49m\u001b[43m]\u001b[49m)\n",
      "\u001b[31mTypeError\u001b[39m: 'set' object is not subscriptable"
     ]
    }
   ],
   "source": [
    "data : set = {7,1,2,1,1,1,1,3,2}\n",
    "print(data[0])"
   ]
  },
  {
   "cell_type": "code",
   "execution_count": 17,
   "id": "a0b00672",
   "metadata": {},
   "outputs": [
    {
     "data": {
      "text/plain": [
       "['add',\n",
       " 'clear',\n",
       " 'copy',\n",
       " 'difference',\n",
       " 'difference_update',\n",
       " 'discard',\n",
       " 'intersection',\n",
       " 'intersection_update',\n",
       " 'isdisjoint',\n",
       " 'issubset',\n",
       " 'issuperset',\n",
       " 'pop',\n",
       " 'remove',\n",
       " 'symmetric_difference',\n",
       " 'symmetric_difference_update',\n",
       " 'union',\n",
       " 'update']"
      ]
     },
     "execution_count": 17,
     "metadata": {},
     "output_type": "execute_result"
    }
   ],
   "source": [
    "[i for i in dir(data) if \"__\" not in i]"
   ]
  },
  {
   "cell_type": "markdown",
   "id": "561d5455",
   "metadata": {},
   "source": [
    "# list\n",
    "* hum ne itrated data type phadi thi jo hai list\n",
    "* example \n",
    "* data : list[str] = [\"Farah\", \"zarrar\",\"ab dujana\"]\n",
    "* ab is list ke idex ki position par kiya kiya hai mai na bataow app nahi bata sakkte ye kiya kiya hai  list mai information stor to hoti hai lekin index ke hisab se tho pata nahi chalta k kis position par konsi inforation hait.\n",
    "* tho is liye aik nayi data type mataaraf karwayi gayi jis ka naam hai dictionary"
   ]
  },
  {
   "cell_type": "markdown",
   "id": "16ac3314",
   "metadata": {},
   "source": [
    "# Dictionary\n",
    "* Key:value(items)\n",
    "    * key is replacement of index\n",
    "    * value is item \n",
    "* dict_variable[key]\n",
    "    * dict_variable[new_key] = new_value\n",
    "    * add new value\n",
    "    * update value\n",
    "    "
   ]
  },
  {
   "cell_type": "code",
   "execution_count": 5,
   "id": "9015bc95",
   "metadata": {},
   "outputs": [
    {
     "data": {
      "text/plain": [
       "{'Dname': 'Farah', 'Sname': 'zarrar'}"
      ]
     },
     "metadata": {},
     "output_type": "display_data"
    },
    {
     "name": "stdout",
     "output_type": "stream",
     "text": [
      "{'Dname': 'Farah', 'Sname': 'zarrar'}\n"
     ]
    }
   ],
   "source": [
    "from typing import Dict \n",
    "import pprint\n",
    "\n",
    "data : dict[str,str] = {\"Dname\":\"Farah\",\n",
    "                        'Sname': \"zarrar\"\n",
    "                        }\n",
    "display(data)\n",
    "pprint.pprint(data)"
   ]
  },
  {
   "cell_type": "code",
   "execution_count": 6,
   "id": "586dd27d",
   "metadata": {},
   "outputs": [
    {
     "data": {
      "text/plain": [
       "{1: 'Farah', 2: 'zarrar'}"
      ]
     },
     "metadata": {},
     "output_type": "display_data"
    }
   ],
   "source": [
    "from typing import Dict , Union, Optional\n",
    "import pprint\n",
    "\n",
    "key = Union[int,str]\n",
    "value  = Union[int,str,list,tuple,dict,set]\n",
    "\n",
    "data : dict[key,value] = {1:\"Farah\",\n",
    "                        2: \"zarrar\"\n",
    "                        }\n",
    "display(data)"
   ]
  },
  {
   "cell_type": "code",
   "execution_count": 9,
   "id": "5562d2ba",
   "metadata": {},
   "outputs": [
    {
     "name": "stdout",
     "output_type": "stream",
     "text": [
      "nasir\n",
      "zarrar\n",
      "Farah\n"
     ]
    }
   ],
   "source": [
    "from typing import Dict \n",
    "import pprint\n",
    "\n",
    "data : dict[str,str] = {\"Dname\":\"Farah\",\n",
    "                        'Sname': \"zarrar\",\n",
    "                        \"fname\": \"nasir\"\n",
    "                        }\n",
    "print(data[\"fname\"]) # vlaue extract karne k liye dict mai jis form mai likha usi form mai extrack kiya jaye ga\n",
    "print(data[\"Sname\"])\n",
    "print(data[\"Dname\"])"
   ]
  },
  {
   "cell_type": "code",
   "execution_count": 12,
   "id": "1eb55a50",
   "metadata": {},
   "outputs": [
    {
     "name": "stdout",
     "output_type": "stream",
     "text": [
      "nasir\n",
      "zarrar\n",
      "Farah\n",
      "khurasan\n",
      "swat\n"
     ]
    }
   ],
   "source": [
    "from typing import Dict , Union, Optional\n",
    "import pprint\n",
    "\n",
    "key = Union [str,int]\n",
    "value = Union [str,int,list,tuple,dict,set]\n",
    "\n",
    "data : dict[key,value] = {\"Dname\":\"Farah\",\n",
    "                        'Sname': \"zarrar\",\n",
    "                        \"fname\": \"nasir\",\n",
    "                        100 : \"khurasan\",\n",
    "                        101 : \"swat\"\n",
    "                        }\n",
    "print(data[\"fname\"]) # vlaue extract karne k liye dict mai jis form mai likha usi form mai extrack kiya jaye ga\n",
    "print(data[\"Sname\"])\n",
    "print(data[\"Dname\"])\n",
    "print(data[100])\n",
    "print(data[101])"
   ]
  },
  {
   "cell_type": "code",
   "execution_count": null,
   "id": "f22c429f",
   "metadata": {},
   "outputs": [
    {
     "name": "stdout",
     "output_type": "stream",
     "text": [
      "{'Dname': 'Farah', 'Sname': 'zarrar', 'fname': 'nasir', 101: 'swat'}\n"
     ]
    }
   ],
   "source": [
    "from typing import Dict , Union, Optional\n",
    "import pprint\n",
    "\n",
    "key = Union [str,int]\n",
    "value = Union [str,int,list,tuple,dict,set]\n",
    "\n",
    "data : dict[key,value] = {\"Dname\":\"Farah\",\n",
    "                        'Sname': \"zarrar\",\n",
    "                        \"fname\": \"nasir\",\n",
    "                        # [1,2,3] : \"khurasan\", # unhashable type: 'list'\n",
    "                        # (1,3,4) : \"khurasan\", error\n",
    "                        # {1,2,4} : \"khurasan\", error\n",
    "                        101 : \"swat\"\n",
    "                        }\n",
    "print(data)"
   ]
  },
  {
   "cell_type": "code",
   "execution_count": null,
   "id": "7ec42721",
   "metadata": {},
   "outputs": [
    {
     "name": "stdout",
     "output_type": "stream",
     "text": [
      "{101: 'swat',\n",
      " 'CD': {'a': 'nasar'},\n",
      " 'Dname': 'Farah',\n",
      " 'Sname': 'zarrar',\n",
      " 'abc': [1, 2, 4, 3],\n",
      " 'efg': (1, 2, 3),\n",
      " 'fname': 'nasir',\n",
      " 'xyz': {1, 2, 3}}\n"
     ]
    }
   ],
   "source": [
    "from typing import Dict , Union, Optional\n",
    "import pprint\n",
    "\n",
    "key = Union [str,int]\n",
    "value = Union [str,int,list,tuple,dict,set]\n",
    "\n",
    "data : dict[key,value] = {\"Dname\":\"Farah\",\n",
    "                      'Sname': \"zarrar\",\n",
    "                        \"fname\": \"nasir\",\n",
    "                        \"abc\" : [1,2,4,3],\n",
    "                        \"xyz\" : {1,2,3},\n",
    "                        \"efg\" : (1,2,3),\n",
    "                        \"CD\" : {\"a\" : \"nasar\"},\n",
    "                        # [1,2,3] : \"khurasan\", # unhashable type: 'list'\n",
    "                        # (1,3,4) : \"khurasan\", error\n",
    "                        # {1,2,4} : \"khurasan\", error\n",
    "                        101 : \"swat\"\n",
    "                        }  \n",
    "pprint.pprint(data)"
   ]
  },
  {
   "cell_type": "code",
   "execution_count": 7,
   "id": "e9eaf991",
   "metadata": {},
   "outputs": [
    {
     "data": {
      "text/plain": [
       "'2'"
      ]
     },
     "execution_count": 7,
     "metadata": {},
     "output_type": "execute_result"
    }
   ],
   "source": [
    "from typing import Dict , Union, Optional\n",
    "import pprint\n",
    "\n",
    "key = Union [str,int]\n",
    "value = Union [str,int,list,tuple,dict,set]\n",
    "\n",
    "data : dict[key,value] = {\"Dname\":\"Farah\",\n",
    "                      'Sname': \"zarrar\",\n",
    "                        \"fname\": \"nasir\",\n",
    "                        \"abc\" : [1,2,4,3],\n",
    "                        \"xyz\" : {1,2,3},\n",
    "                        \"efg\" : (1,2,3),\n",
    "                        \"CD\" : {\"a\" : \"nasar\",\"b\": \"2\"},\n",
    "                        # [1,2,3] : \"khurasan\", # unhashable type: 'list'\n",
    "                        # (1,3,4) : \"khurasan\", error\n",
    "                        # {1,2,4} : \"khurasan\", error\n",
    "                        101 : \"swat\"\n",
    "                        }  \n",
    "data[\"CD\"]['b']"
   ]
  },
  {
   "cell_type": "code",
   "execution_count": null,
   "id": "ac93e938",
   "metadata": {},
   "outputs": [
    {
     "name": "stdout",
     "output_type": "stream",
     "text": [
      "{'name': 'Nasir', 'fname': 'Muhammad zubaur', 'education': 'fsc'}\n"
     ]
    }
   ],
   "source": [
    "from typing import Dict , Union, Optional\n",
    "import pprint\n",
    "\n",
    "key = Union [str,int]\n",
    "value = Union [str,int,list,tuple,dict,set]\n",
    "data : dict[key,value] = {}\n",
    "data[\"name\"] = \"Nasir\"\n",
    "data[\"fname\"] = \"Muhammad zubaur\"# adding value with = \n",
    "data[\"education\"] = \"fsc\"\n",
    "\n",
    "print(data)"
   ]
  },
  {
   "cell_type": "code",
   "execution_count": 17,
   "id": "570fb912",
   "metadata": {},
   "outputs": [
    {
     "name": "stdout",
     "output_type": "stream",
     "text": [
      "{'Dname': 'Hawla', 'Sname': 'zarrar', 'fname': 'nasir'}\n"
     ]
    },
    {
     "data": {
      "text/plain": [
       "['clear',\n",
       " 'copy',\n",
       " 'fromkeys',\n",
       " 'get',\n",
       " 'items',\n",
       " 'keys',\n",
       " 'pop',\n",
       " 'popitem',\n",
       " 'setdefault',\n",
       " 'update',\n",
       " 'values']"
      ]
     },
     "execution_count": 17,
     "metadata": {},
     "output_type": "execute_result"
    }
   ],
   "source": [
    "from typing import Dict , Union, Optional\n",
    "import pprint\n",
    "\n",
    "key = Union [str,int]\n",
    "value = Union [str,int,list,tuple,dict,set]\n",
    "data : dict[key,value] = { \"Dname\":\"Farah\",\n",
    "                      'Sname': \"zarrar\",\n",
    "                        \"fname\": \"nasir\",}\n",
    "data[\"Dname\"] = \"Hawla\" # value update with = operator\n",
    "print(data)\n",
    "\n",
    "[i for i in dir(data) if \"__\" not in i]"
   ]
  },
  {
   "cell_type": "markdown",
   "id": "30607772",
   "metadata": {},
   "source": [
    "# get method"
   ]
  },
  {
   "cell_type": "code",
   "execution_count": 4,
   "id": "5fc1128d",
   "metadata": {},
   "outputs": [
    {
     "name": "stdout",
     "output_type": "stream",
     "text": [
      "nishta\n",
      "Farah\n"
     ]
    }
   ],
   "source": [
    "from typing import Dict , Union, Optional\n",
    "import pprint\n",
    "\n",
    "key = Union [str,int]\n",
    "value = Union [str,int,list,tuple,dict,set]\n",
    "data : dict[key,value] = { \"Dname\":\"Farah\",\n",
    "                      'Sname': \"zarrar\",\n",
    "                        \"fname\": \"nasir\",}\n",
    "\n",
    "print(data.get(\"pakistan\", \"nishta\"))\n",
    "print(data.get(\"Dname\", \"nahi hai\"))"
   ]
  },
  {
   "cell_type": "code",
   "execution_count": 25,
   "id": "b70f5c77",
   "metadata": {},
   "outputs": [
    {
     "name": "stdout",
     "output_type": "stream",
     "text": [
      "Dname\n",
      "Sname\n",
      "fname\n"
     ]
    }
   ],
   "source": [
    "from typing import Dict , Union, Optional\n",
    "import pprint\n",
    "\n",
    "key = Union [str,int]\n",
    "value = Union [str,int,list,tuple,dict,set]\n",
    "data : dict[key,value] = { \"Dname\":\"Farah\",\n",
    "                      'Sname': \"zarrar\",\n",
    "                        \"fname\": \"nasir\",}\n",
    "for d in data:\n",
    "    print(d)\n"
   ]
  },
  {
   "cell_type": "code",
   "execution_count": 28,
   "id": "1be9255b",
   "metadata": {},
   "outputs": [
    {
     "name": "stdout",
     "output_type": "stream",
     "text": [
      "dict_keys(['Dname', 'Sname', 'fname'])\n"
     ]
    }
   ],
   "source": [
    "from typing import Dict , Union, Optional\n",
    "import pprint\n",
    "\n",
    "key = Union [str,int]\n",
    "value = Union [str,int,list,tuple,dict,set]\n",
    "data : dict[key,value] = { \"Dname\":\"Farah\",\n",
    "                      'Sname': \"zarrar\",\n",
    "                        \"fname\": \"nasir\",}\n",
    "print(data.keys())"
   ]
  },
  {
   "cell_type": "code",
   "execution_count": 29,
   "id": "912727d3",
   "metadata": {},
   "outputs": [
    {
     "name": "stdout",
     "output_type": "stream",
     "text": [
      "dict_values(['Farah', 'zarrar', 'nasir'])\n"
     ]
    }
   ],
   "source": [
    "from typing import Dict , Union, Optional\n",
    "import pprint\n",
    "\n",
    "key = Union [str,int]\n",
    "value = Union [str,int,list,tuple,dict,set]\n",
    "data : dict[key,value] = { \"Dname\":\"Farah\",\n",
    "                      'Sname': \"zarrar\",\n",
    "                        \"fname\": \"nasir\",}\n",
    "print(data.values())"
   ]
  },
  {
   "cell_type": "code",
   "execution_count": 30,
   "id": "f2252e14",
   "metadata": {},
   "outputs": [
    {
     "name": "stdout",
     "output_type": "stream",
     "text": [
      "dict_items([('Dname', 'Farah'), ('Sname', 'zarrar'), ('fname', 'nasir')])\n"
     ]
    }
   ],
   "source": [
    "from typing import Dict , Union, Optional\n",
    "import pprint\n",
    "\n",
    "key = Union [str,int]\n",
    "value = Union [str,int,list,tuple,dict,set]\n",
    "data : dict[key,value] = { \"Dname\":\"Farah\",\n",
    "                      'Sname': \"zarrar\",\n",
    "                        \"fname\": \"nasir\",}\n",
    "print(data.items())"
   ]
  },
  {
   "cell_type": "code",
   "execution_count": 10,
   "id": "c53d1a9d",
   "metadata": {},
   "outputs": [
    {
     "name": "stdout",
     "output_type": "stream",
     "text": [
      "Dname\n",
      "Sname\n",
      "fname\n"
     ]
    }
   ],
   "source": [
    "from typing import Dict , Union, Optional\n",
    "import pprint\n",
    "\n",
    "key = Union [str,int]\n",
    "value = Union [str,int,list,tuple,dict,set]\n",
    "data : dict[key,value] = { \"Dname\":\"Farah\",\n",
    "                      'Sname': \"zarrar\",\n",
    "                        \"fname\": \"nasir\",}\n",
    "for k in data.keys():\n",
    "    print(k)\n",
    "\n"
   ]
  },
  {
   "cell_type": "code",
   "execution_count": 33,
   "id": "6d58d1f3",
   "metadata": {},
   "outputs": [
    {
     "name": "stdout",
     "output_type": "stream",
     "text": [
      "Farah\n",
      "zarrar\n",
      "nasir\n"
     ]
    }
   ],
   "source": [
    "from typing import Dict , Union, Optional\n",
    "import pprint\n",
    "\n",
    "key = Union [str,int]\n",
    "value = Union [str,int,list,tuple,dict,set]\n",
    "data : dict[key,value] = { \"Dname\":\"Farah\",\n",
    "                      'Sname': \"zarrar\",\n",
    "                        \"fname\": \"nasir\",}\n",
    "for v in data.values():\n",
    "    print(v)\n",
    "\n"
   ]
  },
  {
   "cell_type": "code",
   "execution_count": 11,
   "id": "efd4c894",
   "metadata": {},
   "outputs": [
    {
     "name": "stdout",
     "output_type": "stream",
     "text": [
      "Dname Farah\n",
      "Sname zarrar\n",
      "fname nasir\n"
     ]
    }
   ],
   "source": [
    "from typing import Dict , Union, Optional\n",
    "import pprint\n",
    "\n",
    "key = Union [str,int]\n",
    "value = Union [str,int,list,tuple,dict,set]\n",
    "data : dict[key,value] = { \"Dname\":\"Farah\",\n",
    "                      'Sname': \"zarrar\",\n",
    "                        \"fname\": \"nasir\",}\n",
    "for k,v in data.items():\n",
    "    print(k,v)\n",
    "   "
   ]
  },
  {
   "cell_type": "code",
   "execution_count": 12,
   "id": "9696d99a",
   "metadata": {},
   "outputs": [
    {
     "data": {
      "text/plain": [
       "{'Farah': 'Dname', 'zarrar': 'Sname', 'nasir': 'fname'}"
      ]
     },
     "execution_count": 12,
     "metadata": {},
     "output_type": "execute_result"
    }
   ],
   "source": [
    "{v:k for k,v in data.items()}"
   ]
  },
  {
   "cell_type": "code",
   "execution_count": 13,
   "id": "037c0e8e",
   "metadata": {},
   "outputs": [
    {
     "name": "stdout",
     "output_type": "stream",
     "text": [
      "9 8\n"
     ]
    }
   ],
   "source": [
    "a : int = 8\n",
    "b : int = 9\n",
    "\n",
    "a,b = b,a \n",
    "\n",
    "print (a,b)"
   ]
  }
 ],
 "metadata": {
  "kernelspec": {
   "display_name": "Python 3",
   "language": "python",
   "name": "python3"
  },
  "language_info": {
   "codemirror_mode": {
    "name": "ipython",
    "version": 3
   },
   "file_extension": ".py",
   "mimetype": "text/x-python",
   "name": "python",
   "nbconvert_exporter": "python",
   "pygments_lexer": "ipython3",
   "version": "3.13.2"
  }
 },
 "nbformat": 4,
 "nbformat_minor": 5
}
