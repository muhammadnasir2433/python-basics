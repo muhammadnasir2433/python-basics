{
 "cells": [
  {
   "cell_type": "code",
   "execution_count": 22,
   "id": "304e0475",
   "metadata": {},
   "outputs": [
    {
     "name": "stdout",
     "output_type": "stream",
     "text": [
      "name\n"
     ]
    }
   ],
   "source": [
    "print(\"name\")"
   ]
  },
  {
   "cell_type": "markdown",
   "id": "5221e91d",
   "metadata": {},
   "source": [
    "# string data type in python"
   ]
  },
  {
   "cell_type": "code",
   "execution_count": 23,
   "id": "f1be23f6",
   "metadata": {},
   "outputs": [
    {
     "name": "stdout",
     "output_type": "stream",
     "text": [
      "<class 'str'>\n",
      "muhammad nasir\n"
     ]
    }
   ],
   "source": [
    "# boundries\n",
    "# 'starting tex',\"starting tex\",'''starting tex''', \"\"\"\" starting tex\"\"\"\"\n",
    "name : str = \"muhammad nasir\"\n",
    "fname : str = \"muhammad zubair\"\n",
    "print(type(name))\n",
    "print(name)"
   ]
  },
  {
   "cell_type": "code",
   "execution_count": 24,
   "id": "fce8dc67",
   "metadata": {},
   "outputs": [
    {
     "name": "stdout",
     "output_type": "stream",
     "text": [
      "<class 'str'>\n",
      "muhammad nasir\n"
     ]
    }
   ],
   "source": [
    "# boundries\n",
    "# 'starting tex',\"starting tex\",'''starting tex''', \"\"\"\" starting tex\"\"\"\"\n",
    "name : str = 'muhammad nasir'\n",
    "print(type(name))\n",
    "print(name)"
   ]
  },
  {
   "cell_type": "code",
   "execution_count": 25,
   "id": "dd3aa86d",
   "metadata": {},
   "outputs": [
    {
     "name": "stdout",
     "output_type": "stream",
     "text": [
      "<class 'str'>\n",
      "muhammad nasir\n"
     ]
    }
   ],
   "source": [
    "# boundries\n",
    "# 'starting tex',\"starting tex\",'''starting tex''', \"\"\"\" starting tex\"\"\"\"\n",
    "name : str = '''muhammad nasir'''\n",
    "print(type(name))\n",
    "print(name)"
   ]
  },
  {
   "cell_type": "code",
   "execution_count": 26,
   "id": "25dd75b7",
   "metadata": {},
   "outputs": [
    {
     "name": "stdout",
     "output_type": "stream",
     "text": [
      "<class 'str'>\n",
      "muhammad nasir\n"
     ]
    }
   ],
   "source": [
    "# boundries\n",
    "# 'starting tex',\"starting tex\",'''starting tex''', \"\"\"\" starting tex\"\"\"\"\n",
    "name : str = \"\"\"muhammad nasir\"\"\"\n",
    "print(type(name))\n",
    "print(name)"
   ]
  },
  {
   "cell_type": "code",
   "execution_count": 27,
   "id": "e51b074c",
   "metadata": {},
   "outputs": [
    {
     "name": "stdout",
     "output_type": "stream",
     "text": [
      "free  palastine's land\n"
     ]
    }
   ],
   "source": [
    "massage : str = \"free  palastine's land\"\n",
    "print(massage)"
   ]
  },
  {
   "cell_type": "code",
   "execution_count": 6,
   "id": "701a8c71",
   "metadata": {},
   "outputs": [
    {
     "name": "stdout",
     "output_type": "stream",
     "text": [
      "free  palastine's land\n"
     ]
    }
   ],
   "source": [
    "massage : str = 'free  palastine\\'s land'\n",
    "print(massage)"
   ]
  },
  {
   "cell_type": "code",
   "execution_count": null,
   "id": "df96b19b",
   "metadata": {},
   "outputs": [
    {
     "name": "stdout",
     "output_type": "stream",
     "text": [
      "free  \"palastine\"land\n"
     ]
    }
   ],
   "source": [
    "massage : str = 'free  \"palastine\"land'\n",
    "print(massage)"
   ]
  },
  {
   "cell_type": "code",
   "execution_count": null,
   "id": "2d42bd90",
   "metadata": {},
   "outputs": [
    {
     "name": "stdout",
     "output_type": "stream",
     "text": [
      "Swat coder's student card\n",
      " student name: muhammad nasir\n",
      " age: 26\n"
     ]
    }
   ],
   "source": [
    "name : str = \"muhammad nasir\"\n",
    "fname : str = \"muhammad zubair\"\n",
    "education : str = \"programer\"\n",
    "age : int = 26\n",
    "\n",
    "card : str = \"Swat coder's student card\\n student name: \"+ name + \"\\n age: \" +str(age)\n",
    "print(card)"
   ]
  },
  {
   "cell_type": "code",
   "execution_count": null,
   "id": "8355e7f5",
   "metadata": {},
   "outputs": [
    {
     "name": "stdout",
     "output_type": "stream",
     "text": [
      "15\n"
     ]
    }
   ],
   "source": [
    "print(2+4+9)"
   ]
  },
  {
   "cell_type": "markdown",
   "id": "621d67f0",
   "metadata": {},
   "source": [
    "# (\\\\) line contiune"
   ]
  },
  {
   "cell_type": "code",
   "execution_count": null,
   "id": "2f300938",
   "metadata": {},
   "outputs": [
    {
     "name": "stdout",
     "output_type": "stream",
     "text": [
      "15\n"
     ]
    }
   ],
   "source": [
    "print(2+\\\n",
    "      +4\\\n",
    "        +9)"
   ]
  },
  {
   "cell_type": "code",
   "execution_count": null,
   "id": "3486b287",
   "metadata": {},
   "outputs": [
    {
     "name": "stdout",
     "output_type": "stream",
     "text": [
      "Swat coder's student card\n",
      " student name: muhammad nasir\n",
      " age: 26\n",
      " education: programer\n"
     ]
    }
   ],
   "source": [
    "name : str = \"muhammad nasir\"\n",
    "fname : str = \"muhammad zubair\"\n",
    "education : str = \"programer\"\n",
    "age : int = 26\n",
    "\n",
    "card : str = \"Swat coder's student card\\n student name: \"+ name +\\\n",
    " \"\\n age: \" +str(age) + \"\\n \"\\\n",
    " \"education: \" + education\n",
    "print(card)"
   ]
  },
  {
   "cell_type": "markdown",
   "id": "0436d55e",
   "metadata": {},
   "source": [
    "# define multiline string \"\"\" \"\"\", ''' '''"
   ]
  },
  {
   "cell_type": "code",
   "execution_count": 7,
   "id": "a7d826ec",
   "metadata": {},
   "outputs": [
    {
     "name": "stdout",
     "output_type": "stream",
     "text": [
      " \n",
      "swat coder student card\n",
      "name = .....\n",
      "fname = .....\n",
      "age = .....\n",
      "education = .....\n",
      "\n"
     ]
    }
   ],
   "source": [
    "name : str = \"muhammad nasir\"\n",
    "fname : str = \"muhammad zubair\"\n",
    "education : str = \"programer\"\n",
    "age : int = 26\n",
    "card : str = \"\"\" \n",
    "swat coder student card\n",
    "name = .....\n",
    "fname = .....\n",
    "age = .....\n",
    "education = .....\n",
    "\"\"\"\n",
    "print(card)"
   ]
  },
  {
   "cell_type": "markdown",
   "id": "41806e20",
   "metadata": {},
   "source": [
    "# F - string python"
   ]
  },
  {
   "cell_type": "code",
   "execution_count": null,
   "id": "b035ef26",
   "metadata": {},
   "outputs": [
    {
     "name": "stdout",
     "output_type": "stream",
     "text": [
      " \n",
      "swat coder student card\n",
      "name = muhammad nasir\n",
      "fname = muhammad zubair\n",
      "age = 26\n",
      "education = programer\n",
      "\n"
     ]
    }
   ],
   "source": [
    "# by using F after = you can asingn any kind of variable \n",
    "\n",
    "name : str = \"muhammad nasir\"\n",
    "fname : str = \"muhammad zubair\"\n",
    "education : str = \"programer\"\n",
    "age : int = 26\n",
    "card : str = f\"\"\" \n",
    "swat coder student card\n",
    "name = {name}\n",
    "fname = {fname}\n",
    "age = {age}\n",
    "education = {education}\n",
    "\"\"\"\n",
    "print(card)"
   ]
  },
  {
   "cell_type": "code",
   "execution_count": null,
   "id": "86c5d9ae",
   "metadata": {},
   "outputs": [
    {
     "name": "stdout",
     "output_type": "stream",
     "text": [
      " \n",
      "swat coder student card\n",
      "name = muhammad nasir\n",
      "fname = muhammad zubair\n",
      "age = 26\n",
      "education = programer\n",
      "total 12\n",
      "\n"
     ]
    }
   ],
   "source": [
    "name : str = \"muhammad nasir\"\n",
    "fname : str = \"muhammad zubair\"\n",
    "education : str = \"programer\"\n",
    "age : int = 26\n",
    "card : str = f''' \n",
    "swat coder student card\n",
    "name = {name}\n",
    "fname = {fname}\n",
    "age = {age}\n",
    "education = {education}\n",
    "total {2+3+7}\n",
    "'''\n",
    "print(card)"
   ]
  },
  {
   "cell_type": "markdown",
   "id": "f7c77ba5",
   "metadata": {},
   "source": [
    "# F-string and jinga style "
   ]
  },
  {
   "cell_type": "code",
   "execution_count": 1,
   "id": "4e98a1a1",
   "metadata": {},
   "outputs": [
    {
     "name": "stdout",
     "output_type": "stream",
     "text": [
      "\n",
      "student name muhammad nasir\n",
      "\n"
     ]
    }
   ],
   "source": [
    "name : str = \"muhammad nasir\"\n",
    "\n",
    "print(f\"\"\"\n",
    "student name {name}\n",
    "\"\"\")"
   ]
  },
  {
   "cell_type": "code",
   "execution_count": null,
   "id": "b2aa4289",
   "metadata": {},
   "outputs": [
    {
     "data": {
      "text/plain": [
       "'\\nstudent name {{name}}\\n'"
      ]
     },
     "execution_count": 4,
     "metadata": {},
     "output_type": "execute_result"
    }
   ],
   "source": [
    "# jinja style\n",
    "\"\"\"\n",
    "student name {{name}}\n",
    "\"\"\""
   ]
  },
  {
   "cell_type": "code",
   "execution_count": null,
   "id": "bcb3b47b",
   "metadata": {},
   "outputs": [
    {
     "name": "stdout",
     "output_type": "stream",
     "text": [
      " \n",
      "swat coder student card\n",
      "name = muhammad nasir\n",
      "fname = muhammad zubair\n",
      "age = 26\n",
      "education = programer\n",
      "\n"
     ]
    }
   ],
   "source": [
    "name : str = \"muhammad nasir\"\n",
    "fname : str = \"muhammad zubair\"\n",
    "education : str = \"programer\"\n",
    "age : int = 26\n",
    "\n",
    "card : str = f''' \n",
    "swat coder student card\n",
    "name = %s\n",
    "fname = %s\n",
    "age = %d\n",
    "education = %s\n",
    "''' %(name, fname, age, education)\n",
    "\n",
    "print(card)"
   ]
  },
  {
   "cell_type": "code",
   "execution_count": null,
   "id": "81f78221",
   "metadata": {},
   "outputs": [],
   "source": [
    "name : str = \"muhammad nasir\"\n",
    "fname : str = \"muhammad zubair\"\n",
    "education : str = \"programer\"\n",
    "age : int = 26\n",
    "\n",
    "card : str = f''' \n",
    "swat coder student card\n",
    "name = %s\n",
    "fname = %s\n",
    "age = %d\n",
    "education = %s\n",
    "''' %(name, fname, age, education)\n",
    "\n",
    "print(card)"
   ]
  },
  {
   "cell_type": "code",
   "execution_count": 10,
   "id": "9711151e",
   "metadata": {},
   "outputs": [
    {
     "name": "stdout",
     "output_type": "stream",
     "text": [
      "Muhammad nasir\n",
      "muhammad nasir\n",
      "MUHAMMAD NASIR\n",
      "Muhammad Nasir\n"
     ]
    }
   ],
   "source": [
    "name : str = \"MuHamMad NaSIr\"\n",
    "print(name.capitalize())\n",
    "print(name.lower())\n",
    "print(name.upper())\n",
    "print(name.title())"
   ]
  },
  {
   "cell_type": "code",
   "execution_count": 1,
   "id": "5716aecf",
   "metadata": {},
   "outputs": [
    {
     "data": {
      "text/plain": [
       "'swat vlaue a = 7 value  b = 8'"
      ]
     },
     "execution_count": 1,
     "metadata": {},
     "output_type": "execute_result"
    }
   ],
   "source": [
    "# {} is a place holder\n",
    "a = 7\n",
    "b = 8\n",
    "\"swat vlaue a = {} value  b = {}\".format(a,b)  "
   ]
  },
  {
   "cell_type": "code",
   "execution_count": 8,
   "id": "2756cbfc",
   "metadata": {},
   "outputs": [
    {
     "name": "stdout",
     "output_type": "stream",
     "text": [
      " \n",
      "swat coder student card\n",
      "name = muhammad nasir\n",
      "fname = muhammad zubair\n",
      "age = 26\n",
      "education = programer\n",
      "\n"
     ]
    }
   ],
   "source": [
    "name : str = \"muhammad nasir\"\n",
    "fname : str = \"muhammad zubair\"\n",
    "education : str = \"programer\"\n",
    "age : int = 26\n",
    "card : str = \"\"\" \n",
    "swat coder student card\n",
    "name = {0}\n",
    "fname = {1}\n",
    "age = {2}\n",
    "education = {3}\n",
    "\"\"\".format(name, fname, age, education)\n",
    "print(card)"
   ]
  },
  {
   "cell_type": "markdown",
   "id": "c9d27a66",
   "metadata": {},
   "source": [
    "# recomended two f-strings"
   ]
  },
  {
   "cell_type": "code",
   "execution_count": 2,
   "id": "1ae29b0b",
   "metadata": {},
   "outputs": [
    {
     "name": "stdout",
     "output_type": "stream",
     "text": [
      " \n",
      "SWAT CODERS STUDEN CARD\n",
      "name = muhammad nasir\n",
      "fname = muhammad zubair\n",
      "age = 26\n",
      "education = programer\n",
      "total 12\n",
      "\n"
     ]
    }
   ],
   "source": [
    "name : str = \"muhammad nasir\"\n",
    "fname : str = \"muhammad zubair\"\n",
    "education : str = \"programer\"\n",
    "age : int = 26\n",
    "card : str = f''' \n",
    "SWAT CODERS STUDEN CARD\n",
    "name = {name}\n",
    "fname = {fname}\n",
    "age = {age}\n",
    "education = {education}\n",
    "total {2+3+7}\n",
    "'''\n",
    "print(card)"
   ]
  },
  {
   "cell_type": "code",
   "execution_count": 8,
   "id": "3b3d5a2a",
   "metadata": {},
   "outputs": [
    {
     "name": "stdout",
     "output_type": "stream",
     "text": [
      "my name is Muhammad Nasir\n",
      "13\n"
     ]
    }
   ],
   "source": [
    "student_code : str = \"\"\" \n",
    "print(\"my name is Muhammad Nasir\")\n",
    "a : int = 5\n",
    "b : int = 8\n",
    "print(a + b)\n",
    "\"\"\" \n",
    "exec(student_code)"
   ]
  },
  {
   "cell_type": "markdown",
   "id": "493a52e4",
   "metadata": {},
   "source": [
    "# string methods and attributes"
   ]
  },
  {
   "cell_type": "code",
   "execution_count": 11,
   "id": "20288ce6",
   "metadata": {},
   "outputs": [
    {
     "data": {
      "text/plain": [
       "['capitalize',\n",
       " 'casefold',\n",
       " 'center',\n",
       " 'count',\n",
       " 'encode',\n",
       " 'endswith',\n",
       " 'expandtabs',\n",
       " 'find',\n",
       " 'format',\n",
       " 'format_map',\n",
       " 'index',\n",
       " 'isalnum',\n",
       " 'isalpha',\n",
       " 'isascii',\n",
       " 'isdecimal',\n",
       " 'isdigit',\n",
       " 'isidentifier',\n",
       " 'islower',\n",
       " 'isnumeric',\n",
       " 'isprintable',\n",
       " 'isspace',\n",
       " 'istitle',\n",
       " 'isupper',\n",
       " 'join',\n",
       " 'ljust',\n",
       " 'lower',\n",
       " 'lstrip',\n",
       " 'maketrans',\n",
       " 'partition',\n",
       " 'removeprefix',\n",
       " 'removesuffix',\n",
       " 'replace',\n",
       " 'rfind',\n",
       " 'rindex',\n",
       " 'rjust',\n",
       " 'rpartition',\n",
       " 'rsplit',\n",
       " 'rstrip',\n",
       " 'split',\n",
       " 'splitlines',\n",
       " 'startswith',\n",
       " 'strip',\n",
       " 'swapcase',\n",
       " 'title',\n",
       " 'translate',\n",
       " 'upper',\n",
       " 'zfill']"
      ]
     },
     "execution_count": 11,
     "metadata": {},
     "output_type": "execute_result"
    }
   ],
   "source": [
    "[i for i in dir(str) if \"__\" not in i]"
   ]
  },
  {
   "cell_type": "code",
   "execution_count": 1,
   "id": "bb86f99f",
   "metadata": {},
   "outputs": [
    {
     "name": "stdout",
     "output_type": "stream",
     "text": [
      "Muhammad nasir\n"
     ]
    }
   ],
   "source": [
    "# variable name.method()\n",
    "name : str = \"muHammad nAsIr\"\n",
    "print(name.capitalize())"
   ]
  },
  {
   "cell_type": "code",
   "execution_count": 2,
   "id": "2500fd9d",
   "metadata": {},
   "outputs": [
    {
     "name": "stdout",
     "output_type": "stream",
     "text": [
      "muhammad nasir\n"
     ]
    }
   ],
   "source": [
    "name : str = \"muHammad nAsIr\"\n",
    "print(name.casefold())"
   ]
  },
  {
   "cell_type": "code",
   "execution_count": 14,
   "id": "b5b90590",
   "metadata": {},
   "outputs": [
    {
     "name": "stdout",
     "output_type": "stream",
     "text": [
      "      muHammad nAsIr      \n",
      "muHammad nAsIr      \n"
     ]
    }
   ],
   "source": [
    "name : str = \"      muHammad nAsIr      \"\n",
    "print(name)\n",
    "print(name.lstrip())"
   ]
  },
  {
   "cell_type": "code",
   "execution_count": 5,
   "id": "348a5135",
   "metadata": {},
   "outputs": [
    {
     "name": "stdout",
     "output_type": "stream",
     "text": [
      "      muHammad nAsIr      \n",
      "      muHammad nAsIr\n"
     ]
    }
   ],
   "source": [
    "name : str = \"      muHammad nAsIr      \"\n",
    "print(name)\n",
    "print(name.rstrip())"
   ]
  },
  {
   "cell_type": "code",
   "execution_count": 9,
   "id": "f9793e4f",
   "metadata": {},
   "outputs": [
    {
     "name": "stdout",
     "output_type": "stream",
     "text": [
      "      muHammad nAsIr      \n",
      "muHammad nAsIr\n"
     ]
    }
   ],
   "source": [
    "name : str = \"      muHammad nAsIr      \"\n",
    "print(name)\n",
    "print(name.strip())"
   ]
  },
  {
   "cell_type": "code",
   "execution_count": 1,
   "id": "bcc90ce3",
   "metadata": {},
   "outputs": [
    {
     "data": {
      "text/plain": [
       "'Muhammad Nasir'"
      ]
     },
     "metadata": {},
     "output_type": "display_data"
    }
   ],
   "source": [
    "name : str = \"muhammad nasir\"\n",
    "display(name.title())"
   ]
  },
  {
   "cell_type": "code",
   "execution_count": 10,
   "id": "40be5ab1",
   "metadata": {},
   "outputs": [
    {
     "name": "stdout",
     "output_type": "stream",
     "text": [
      "[104, 101, 108, 108, 111]\n"
     ]
    }
   ],
   "source": [
    "b = b\"hello\"\n",
    "print(list(b))"
   ]
  }
 ],
 "metadata": {
  "kernelspec": {
   "display_name": "Python 3",
   "language": "python",
   "name": "python3"
  },
  "language_info": {
   "codemirror_mode": {
    "name": "ipython",
    "version": 3
   },
   "file_extension": ".py",
   "mimetype": "text/x-python",
   "name": "python",
   "nbconvert_exporter": "python",
   "pygments_lexer": "ipython3",
   "version": "3.13.2"
  }
 },
 "nbformat": 4,
 "nbformat_minor": 5
}
